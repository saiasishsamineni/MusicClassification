{
  "nbformat": 4,
  "nbformat_minor": 0,
  "metadata": {
    "accelerator": "GPU",
    "colab": {
      "name": "Music_Classification_Code.ipynb",
      "provenance": [],
      "collapsed_sections": []
    },
    "kernelspec": {
      "display_name": "Python 3",
      "name": "python3"
    },
    "language_info": {
      "name": "python"
    },
    "widgets": {
      "application/vnd.jupyter.widget-state+json": {
        "d51dc1d2265b41009ebf00e329c8fc88": {
          "model_module": "@jupyter-widgets/controls",
          "model_name": "HBoxModel",
          "model_module_version": "1.5.0",
          "state": {
            "_view_name": "HBoxView",
            "_dom_classes": [],
            "_model_name": "HBoxModel",
            "_view_module": "@jupyter-widgets/controls",
            "_model_module_version": "1.5.0",
            "_view_count": null,
            "_view_module_version": "1.5.0",
            "box_style": "",
            "layout": "IPY_MODEL_33970d5d20a24caaa5701f921d7071e0",
            "_model_module": "@jupyter-widgets/controls",
            "children": [
              "IPY_MODEL_94c4e924c2764f71a44d1bcb9543bf9b",
              "IPY_MODEL_1824ef4377fa4b86bb8f46be269d9a12",
              "IPY_MODEL_f062cda8678f486796630fbfbf24ac17"
            ]
          }
        },
        "33970d5d20a24caaa5701f921d7071e0": {
          "model_module": "@jupyter-widgets/base",
          "model_name": "LayoutModel",
          "model_module_version": "1.2.0",
          "state": {
            "_view_name": "LayoutView",
            "grid_template_rows": null,
            "right": null,
            "justify_content": null,
            "_view_module": "@jupyter-widgets/base",
            "overflow": null,
            "_model_module_version": "1.2.0",
            "_view_count": null,
            "flex_flow": null,
            "width": null,
            "min_width": null,
            "border": null,
            "align_items": null,
            "bottom": null,
            "_model_module": "@jupyter-widgets/base",
            "top": null,
            "grid_column": null,
            "overflow_y": null,
            "overflow_x": null,
            "grid_auto_flow": null,
            "grid_area": null,
            "grid_template_columns": null,
            "flex": null,
            "_model_name": "LayoutModel",
            "justify_items": null,
            "grid_row": null,
            "max_height": null,
            "align_content": null,
            "visibility": null,
            "align_self": null,
            "height": null,
            "min_height": null,
            "padding": null,
            "grid_auto_rows": null,
            "grid_gap": null,
            "max_width": null,
            "order": null,
            "_view_module_version": "1.2.0",
            "grid_template_areas": null,
            "object_position": null,
            "object_fit": null,
            "grid_auto_columns": null,
            "margin": null,
            "display": null,
            "left": null
          }
        },
        "94c4e924c2764f71a44d1bcb9543bf9b": {
          "model_module": "@jupyter-widgets/controls",
          "model_name": "HTMLModel",
          "model_module_version": "1.5.0",
          "state": {
            "_view_name": "HTMLView",
            "style": "IPY_MODEL_45c1cb7425524c4da82373e406ed95b7",
            "_dom_classes": [],
            "description": "",
            "_model_name": "HTMLModel",
            "placeholder": "​",
            "_view_module": "@jupyter-widgets/controls",
            "_model_module_version": "1.5.0",
            "value": "100%",
            "_view_count": null,
            "_view_module_version": "1.5.0",
            "description_tooltip": null,
            "_model_module": "@jupyter-widgets/controls",
            "layout": "IPY_MODEL_007ef3b55d364c04b70a0ad0dbe9b3f1"
          }
        },
        "1824ef4377fa4b86bb8f46be269d9a12": {
          "model_module": "@jupyter-widgets/controls",
          "model_name": "FloatProgressModel",
          "model_module_version": "1.5.0",
          "state": {
            "_view_name": "ProgressView",
            "style": "IPY_MODEL_ac49153d6b0e4b55900ce85cf5c9c979",
            "_dom_classes": [],
            "description": "",
            "_model_name": "FloatProgressModel",
            "bar_style": "success",
            "max": 3000,
            "_view_module": "@jupyter-widgets/controls",
            "_model_module_version": "1.5.0",
            "value": 3000,
            "_view_count": null,
            "_view_module_version": "1.5.0",
            "orientation": "horizontal",
            "min": 0,
            "description_tooltip": null,
            "_model_module": "@jupyter-widgets/controls",
            "layout": "IPY_MODEL_3f64d146a0364c2f9dcda23aa555310b"
          }
        },
        "f062cda8678f486796630fbfbf24ac17": {
          "model_module": "@jupyter-widgets/controls",
          "model_name": "HTMLModel",
          "model_module_version": "1.5.0",
          "state": {
            "_view_name": "HTMLView",
            "style": "IPY_MODEL_4cb0534fa2324add953239d6dfe8deba",
            "_dom_classes": [],
            "description": "",
            "_model_name": "HTMLModel",
            "placeholder": "​",
            "_view_module": "@jupyter-widgets/controls",
            "_model_module_version": "1.5.0",
            "value": " 3000/3000 [27:39&lt;00:00,  1.81it/s]",
            "_view_count": null,
            "_view_module_version": "1.5.0",
            "description_tooltip": null,
            "_model_module": "@jupyter-widgets/controls",
            "layout": "IPY_MODEL_16ea1229e6f044bca2e4dbcae71ce45b"
          }
        },
        "45c1cb7425524c4da82373e406ed95b7": {
          "model_module": "@jupyter-widgets/controls",
          "model_name": "DescriptionStyleModel",
          "model_module_version": "1.5.0",
          "state": {
            "_view_name": "StyleView",
            "_model_name": "DescriptionStyleModel",
            "description_width": "",
            "_view_module": "@jupyter-widgets/base",
            "_model_module_version": "1.5.0",
            "_view_count": null,
            "_view_module_version": "1.2.0",
            "_model_module": "@jupyter-widgets/controls"
          }
        },
        "007ef3b55d364c04b70a0ad0dbe9b3f1": {
          "model_module": "@jupyter-widgets/base",
          "model_name": "LayoutModel",
          "model_module_version": "1.2.0",
          "state": {
            "_view_name": "LayoutView",
            "grid_template_rows": null,
            "right": null,
            "justify_content": null,
            "_view_module": "@jupyter-widgets/base",
            "overflow": null,
            "_model_module_version": "1.2.0",
            "_view_count": null,
            "flex_flow": null,
            "width": null,
            "min_width": null,
            "border": null,
            "align_items": null,
            "bottom": null,
            "_model_module": "@jupyter-widgets/base",
            "top": null,
            "grid_column": null,
            "overflow_y": null,
            "overflow_x": null,
            "grid_auto_flow": null,
            "grid_area": null,
            "grid_template_columns": null,
            "flex": null,
            "_model_name": "LayoutModel",
            "justify_items": null,
            "grid_row": null,
            "max_height": null,
            "align_content": null,
            "visibility": null,
            "align_self": null,
            "height": null,
            "min_height": null,
            "padding": null,
            "grid_auto_rows": null,
            "grid_gap": null,
            "max_width": null,
            "order": null,
            "_view_module_version": "1.2.0",
            "grid_template_areas": null,
            "object_position": null,
            "object_fit": null,
            "grid_auto_columns": null,
            "margin": null,
            "display": null,
            "left": null
          }
        },
        "ac49153d6b0e4b55900ce85cf5c9c979": {
          "model_module": "@jupyter-widgets/controls",
          "model_name": "ProgressStyleModel",
          "model_module_version": "1.5.0",
          "state": {
            "_view_name": "StyleView",
            "_model_name": "ProgressStyleModel",
            "description_width": "",
            "_view_module": "@jupyter-widgets/base",
            "_model_module_version": "1.5.0",
            "_view_count": null,
            "_view_module_version": "1.2.0",
            "bar_color": null,
            "_model_module": "@jupyter-widgets/controls"
          }
        },
        "3f64d146a0364c2f9dcda23aa555310b": {
          "model_module": "@jupyter-widgets/base",
          "model_name": "LayoutModel",
          "model_module_version": "1.2.0",
          "state": {
            "_view_name": "LayoutView",
            "grid_template_rows": null,
            "right": null,
            "justify_content": null,
            "_view_module": "@jupyter-widgets/base",
            "overflow": null,
            "_model_module_version": "1.2.0",
            "_view_count": null,
            "flex_flow": null,
            "width": null,
            "min_width": null,
            "border": null,
            "align_items": null,
            "bottom": null,
            "_model_module": "@jupyter-widgets/base",
            "top": null,
            "grid_column": null,
            "overflow_y": null,
            "overflow_x": null,
            "grid_auto_flow": null,
            "grid_area": null,
            "grid_template_columns": null,
            "flex": null,
            "_model_name": "LayoutModel",
            "justify_items": null,
            "grid_row": null,
            "max_height": null,
            "align_content": null,
            "visibility": null,
            "align_self": null,
            "height": null,
            "min_height": null,
            "padding": null,
            "grid_auto_rows": null,
            "grid_gap": null,
            "max_width": null,
            "order": null,
            "_view_module_version": "1.2.0",
            "grid_template_areas": null,
            "object_position": null,
            "object_fit": null,
            "grid_auto_columns": null,
            "margin": null,
            "display": null,
            "left": null
          }
        },
        "4cb0534fa2324add953239d6dfe8deba": {
          "model_module": "@jupyter-widgets/controls",
          "model_name": "DescriptionStyleModel",
          "model_module_version": "1.5.0",
          "state": {
            "_view_name": "StyleView",
            "_model_name": "DescriptionStyleModel",
            "description_width": "",
            "_view_module": "@jupyter-widgets/base",
            "_model_module_version": "1.5.0",
            "_view_count": null,
            "_view_module_version": "1.2.0",
            "_model_module": "@jupyter-widgets/controls"
          }
        },
        "16ea1229e6f044bca2e4dbcae71ce45b": {
          "model_module": "@jupyter-widgets/base",
          "model_name": "LayoutModel",
          "model_module_version": "1.2.0",
          "state": {
            "_view_name": "LayoutView",
            "grid_template_rows": null,
            "right": null,
            "justify_content": null,
            "_view_module": "@jupyter-widgets/base",
            "overflow": null,
            "_model_module_version": "1.2.0",
            "_view_count": null,
            "flex_flow": null,
            "width": null,
            "min_width": null,
            "border": null,
            "align_items": null,
            "bottom": null,
            "_model_module": "@jupyter-widgets/base",
            "top": null,
            "grid_column": null,
            "overflow_y": null,
            "overflow_x": null,
            "grid_auto_flow": null,
            "grid_area": null,
            "grid_template_columns": null,
            "flex": null,
            "_model_name": "LayoutModel",
            "justify_items": null,
            "grid_row": null,
            "max_height": null,
            "align_content": null,
            "visibility": null,
            "align_self": null,
            "height": null,
            "min_height": null,
            "padding": null,
            "grid_auto_rows": null,
            "grid_gap": null,
            "max_width": null,
            "order": null,
            "_view_module_version": "1.2.0",
            "grid_template_areas": null,
            "object_position": null,
            "object_fit": null,
            "grid_auto_columns": null,
            "margin": null,
            "display": null,
            "left": null
          }
        },
        "e51c5ed6945244729056e3bcdb0a8e8b": {
          "model_module": "@jupyter-widgets/controls",
          "model_name": "HBoxModel",
          "model_module_version": "1.5.0",
          "state": {
            "_view_name": "HBoxView",
            "_dom_classes": [],
            "_model_name": "HBoxModel",
            "_view_module": "@jupyter-widgets/controls",
            "_model_module_version": "1.5.0",
            "_view_count": null,
            "_view_module_version": "1.5.0",
            "box_style": "",
            "layout": "IPY_MODEL_b60266fe1b01428e948c38cbe6f864ac",
            "_model_module": "@jupyter-widgets/controls",
            "children": [
              "IPY_MODEL_e8f9aca2b69242e9aa71fc46e6076517",
              "IPY_MODEL_0250a235791f4b45a975886240b6058a",
              "IPY_MODEL_9f7fe490dfd94c76b80474000ebccf69"
            ]
          }
        },
        "b60266fe1b01428e948c38cbe6f864ac": {
          "model_module": "@jupyter-widgets/base",
          "model_name": "LayoutModel",
          "model_module_version": "1.2.0",
          "state": {
            "_view_name": "LayoutView",
            "grid_template_rows": null,
            "right": null,
            "justify_content": null,
            "_view_module": "@jupyter-widgets/base",
            "overflow": null,
            "_model_module_version": "1.2.0",
            "_view_count": null,
            "flex_flow": null,
            "width": null,
            "min_width": null,
            "border": null,
            "align_items": null,
            "bottom": null,
            "_model_module": "@jupyter-widgets/base",
            "top": null,
            "grid_column": null,
            "overflow_y": null,
            "overflow_x": null,
            "grid_auto_flow": null,
            "grid_area": null,
            "grid_template_columns": null,
            "flex": null,
            "_model_name": "LayoutModel",
            "justify_items": null,
            "grid_row": null,
            "max_height": null,
            "align_content": null,
            "visibility": null,
            "align_self": null,
            "height": null,
            "min_height": null,
            "padding": null,
            "grid_auto_rows": null,
            "grid_gap": null,
            "max_width": null,
            "order": null,
            "_view_module_version": "1.2.0",
            "grid_template_areas": null,
            "object_position": null,
            "object_fit": null,
            "grid_auto_columns": null,
            "margin": null,
            "display": null,
            "left": null
          }
        },
        "e8f9aca2b69242e9aa71fc46e6076517": {
          "model_module": "@jupyter-widgets/controls",
          "model_name": "HTMLModel",
          "model_module_version": "1.5.0",
          "state": {
            "_view_name": "HTMLView",
            "style": "IPY_MODEL_9c253a938dc142cf80e89522e6ffaae9",
            "_dom_classes": [],
            "description": "",
            "_model_name": "HTMLModel",
            "placeholder": "​",
            "_view_module": "@jupyter-widgets/controls",
            "_model_module_version": "1.5.0",
            "value": " 92%",
            "_view_count": null,
            "_view_module_version": "1.5.0",
            "description_tooltip": null,
            "_model_module": "@jupyter-widgets/controls",
            "layout": "IPY_MODEL_27456da842f44004b0fc5c93aa8ec01d"
          }
        },
        "0250a235791f4b45a975886240b6058a": {
          "model_module": "@jupyter-widgets/controls",
          "model_name": "FloatProgressModel",
          "model_module_version": "1.5.0",
          "state": {
            "_view_name": "ProgressView",
            "style": "IPY_MODEL_15628ca89279460899cdb7be24dd3fa3",
            "_dom_classes": [],
            "description": "",
            "_model_name": "FloatProgressModel",
            "bar_style": "",
            "max": 25,
            "_view_module": "@jupyter-widgets/controls",
            "_model_module_version": "1.5.0",
            "value": 23,
            "_view_count": null,
            "_view_module_version": "1.5.0",
            "orientation": "horizontal",
            "min": 0,
            "description_tooltip": null,
            "_model_module": "@jupyter-widgets/controls",
            "layout": "IPY_MODEL_85eac9cfb9ac4cf1a8ca64147afd81d9"
          }
        },
        "9f7fe490dfd94c76b80474000ebccf69": {
          "model_module": "@jupyter-widgets/controls",
          "model_name": "HTMLModel",
          "model_module_version": "1.5.0",
          "state": {
            "_view_name": "HTMLView",
            "style": "IPY_MODEL_89771a55181c4f5db0df0b3162b9c6df",
            "_dom_classes": [],
            "description": "",
            "_model_name": "HTMLModel",
            "placeholder": "​",
            "_view_module": "@jupyter-widgets/controls",
            "_model_module_version": "1.5.0",
            "value": " 23/25 [1:36:27&lt;08:21, 250.76s/it]",
            "_view_count": null,
            "_view_module_version": "1.5.0",
            "description_tooltip": null,
            "_model_module": "@jupyter-widgets/controls",
            "layout": "IPY_MODEL_2af6836ac92c437b97acc7aad0f38fb1"
          }
        },
        "9c253a938dc142cf80e89522e6ffaae9": {
          "model_module": "@jupyter-widgets/controls",
          "model_name": "DescriptionStyleModel",
          "model_module_version": "1.5.0",
          "state": {
            "_view_name": "StyleView",
            "_model_name": "DescriptionStyleModel",
            "description_width": "",
            "_view_module": "@jupyter-widgets/base",
            "_model_module_version": "1.5.0",
            "_view_count": null,
            "_view_module_version": "1.2.0",
            "_model_module": "@jupyter-widgets/controls"
          }
        },
        "27456da842f44004b0fc5c93aa8ec01d": {
          "model_module": "@jupyter-widgets/base",
          "model_name": "LayoutModel",
          "model_module_version": "1.2.0",
          "state": {
            "_view_name": "LayoutView",
            "grid_template_rows": null,
            "right": null,
            "justify_content": null,
            "_view_module": "@jupyter-widgets/base",
            "overflow": null,
            "_model_module_version": "1.2.0",
            "_view_count": null,
            "flex_flow": null,
            "width": null,
            "min_width": null,
            "border": null,
            "align_items": null,
            "bottom": null,
            "_model_module": "@jupyter-widgets/base",
            "top": null,
            "grid_column": null,
            "overflow_y": null,
            "overflow_x": null,
            "grid_auto_flow": null,
            "grid_area": null,
            "grid_template_columns": null,
            "flex": null,
            "_model_name": "LayoutModel",
            "justify_items": null,
            "grid_row": null,
            "max_height": null,
            "align_content": null,
            "visibility": null,
            "align_self": null,
            "height": null,
            "min_height": null,
            "padding": null,
            "grid_auto_rows": null,
            "grid_gap": null,
            "max_width": null,
            "order": null,
            "_view_module_version": "1.2.0",
            "grid_template_areas": null,
            "object_position": null,
            "object_fit": null,
            "grid_auto_columns": null,
            "margin": null,
            "display": null,
            "left": null
          }
        },
        "15628ca89279460899cdb7be24dd3fa3": {
          "model_module": "@jupyter-widgets/controls",
          "model_name": "ProgressStyleModel",
          "model_module_version": "1.5.0",
          "state": {
            "_view_name": "StyleView",
            "_model_name": "ProgressStyleModel",
            "description_width": "",
            "_view_module": "@jupyter-widgets/base",
            "_model_module_version": "1.5.0",
            "_view_count": null,
            "_view_module_version": "1.2.0",
            "bar_color": null,
            "_model_module": "@jupyter-widgets/controls"
          }
        },
        "85eac9cfb9ac4cf1a8ca64147afd81d9": {
          "model_module": "@jupyter-widgets/base",
          "model_name": "LayoutModel",
          "model_module_version": "1.2.0",
          "state": {
            "_view_name": "LayoutView",
            "grid_template_rows": null,
            "right": null,
            "justify_content": null,
            "_view_module": "@jupyter-widgets/base",
            "overflow": null,
            "_model_module_version": "1.2.0",
            "_view_count": null,
            "flex_flow": null,
            "width": null,
            "min_width": null,
            "border": null,
            "align_items": null,
            "bottom": null,
            "_model_module": "@jupyter-widgets/base",
            "top": null,
            "grid_column": null,
            "overflow_y": null,
            "overflow_x": null,
            "grid_auto_flow": null,
            "grid_area": null,
            "grid_template_columns": null,
            "flex": null,
            "_model_name": "LayoutModel",
            "justify_items": null,
            "grid_row": null,
            "max_height": null,
            "align_content": null,
            "visibility": null,
            "align_self": null,
            "height": null,
            "min_height": null,
            "padding": null,
            "grid_auto_rows": null,
            "grid_gap": null,
            "max_width": null,
            "order": null,
            "_view_module_version": "1.2.0",
            "grid_template_areas": null,
            "object_position": null,
            "object_fit": null,
            "grid_auto_columns": null,
            "margin": null,
            "display": null,
            "left": null
          }
        },
        "89771a55181c4f5db0df0b3162b9c6df": {
          "model_module": "@jupyter-widgets/controls",
          "model_name": "DescriptionStyleModel",
          "model_module_version": "1.5.0",
          "state": {
            "_view_name": "StyleView",
            "_model_name": "DescriptionStyleModel",
            "description_width": "",
            "_view_module": "@jupyter-widgets/base",
            "_model_module_version": "1.5.0",
            "_view_count": null,
            "_view_module_version": "1.2.0",
            "_model_module": "@jupyter-widgets/controls"
          }
        },
        "2af6836ac92c437b97acc7aad0f38fb1": {
          "model_module": "@jupyter-widgets/base",
          "model_name": "LayoutModel",
          "model_module_version": "1.2.0",
          "state": {
            "_view_name": "LayoutView",
            "grid_template_rows": null,
            "right": null,
            "justify_content": null,
            "_view_module": "@jupyter-widgets/base",
            "overflow": null,
            "_model_module_version": "1.2.0",
            "_view_count": null,
            "flex_flow": null,
            "width": null,
            "min_width": null,
            "border": null,
            "align_items": null,
            "bottom": null,
            "_model_module": "@jupyter-widgets/base",
            "top": null,
            "grid_column": null,
            "overflow_y": null,
            "overflow_x": null,
            "grid_auto_flow": null,
            "grid_area": null,
            "grid_template_columns": null,
            "flex": null,
            "_model_name": "LayoutModel",
            "justify_items": null,
            "grid_row": null,
            "max_height": null,
            "align_content": null,
            "visibility": null,
            "align_self": null,
            "height": null,
            "min_height": null,
            "padding": null,
            "grid_auto_rows": null,
            "grid_gap": null,
            "max_width": null,
            "order": null,
            "_view_module_version": "1.2.0",
            "grid_template_areas": null,
            "object_position": null,
            "object_fit": null,
            "grid_auto_columns": null,
            "margin": null,
            "display": null,
            "left": null
          }
        }
      }
    }
  },
  "cells": [
    {
      "cell_type": "markdown",
      "source": [
        "## Requirements"
      ],
      "metadata": {
        "id": "BsqR_HO-x_Of"
      }
    },
    {
      "cell_type": "markdown",
      "source": [
        "Download GTZAN dataset"
      ],
      "metadata": {
        "id": "DQzmC0nLhFMq"
      }
    },
    {
      "cell_type": "code",
      "source": [
        "!gdown --id 1gIm_aDWjHMEO6P0GEZ9jmy3kLcn0YXl5"
      ],
      "metadata": {
        "colab": {
          "base_uri": "https://localhost:8080/"
        },
        "id": "QQBjWbLCu1fU",
        "outputId": "9e8775be-22c8-4cf1-99cd-10e3ab239116"
      },
      "execution_count": null,
      "outputs": [
        {
          "output_type": "stream",
          "name": "stdout",
          "text": [
            "Downloading...\n",
            "From: https://drive.google.com/uc?id=1gIm_aDWjHMEO6P0GEZ9jmy3kLcn0YXl5\n",
            "To: /content/genres.tar.gz\n",
            "100% 1.23G/1.23G [00:11<00:00, 108MB/s] \n"
          ]
        }
      ]
    },
    {
      "cell_type": "code",
      "metadata": {
        "id": "vnAJ2mzgW_j7"
      },
      "source": [
        "!pip -q install pydub\n",
        "!pip -q install torchaudio==0.7.0\n",
        "!pip -q install xgboost"
      ],
      "execution_count": null,
      "outputs": []
    },
    {
      "cell_type": "markdown",
      "source": [
        "## Imports"
      ],
      "metadata": {
        "id": "9UIa6EXcx7RO"
      }
    },
    {
      "cell_type": "code",
      "metadata": {
        "id": "21d9u8VHI9jh"
      },
      "source": [
        "import os\n",
        "import tqdm\n",
        "import torch\n",
        "import torchaudio\n",
        "import tarfile\n",
        "import librosa\n",
        "import IPython\n",
        "import matplotlib\n",
        "import torch.nn as nn\n",
        "import numpy as np\n",
        "import pandas as pd\n",
        "import seaborn as sns\n",
        "import matplotlib.pyplot as plt\n",
        "from pydub import AudioSegment\n",
        "\n",
        "from sklearn.metrics import classification_report, accuracy_score, confusion_matrix\n",
        "from sklearn.model_selection import train_test_split\n",
        "from sklearn.preprocessing import MinMaxScaler\n",
        "\n",
        "from xgboost import XGBClassifier, XGBRFClassifier\n",
        "from xgboost import plot_tree, plot_importance\n",
        "\n",
        "import torch.nn.functional as F\n",
        "from torch.utils.data import DataLoader, Dataset, random_split\n",
        "\n",
        "from torchaudio.datasets import GTZAN\n",
        "from torchaudio.datasets.utils import download_url\n",
        "from tensorflow import one_hot\n",
        "\n",
        "import torchaudio.transforms as tt\n",
        "\n",
        "%matplotlib inline\n",
        "matplotlib.rcParams['figure.facecolor'] = '#ffffff'"
      ],
      "execution_count": null,
      "outputs": []
    },
    {
      "cell_type": "code",
      "source": [
        "!tar -xvf genres.tar.gz"
      ],
      "metadata": {
        "id": "jF6-dBxvu3t2"
      },
      "execution_count": null,
      "outputs": []
    },
    {
      "cell_type": "markdown",
      "source": [
        "Set Download = flase because we have downloaded it already"
      ],
      "metadata": {
        "id": "wUpKoT0khfPJ"
      }
    },
    {
      "cell_type": "code",
      "metadata": {
        "id": "teXbrNqdJGdM"
      },
      "source": [
        "dataset = GTZAN(root=\".\", download=False)"
      ],
      "execution_count": null,
      "outputs": []
    },
    {
      "cell_type": "code",
      "source": [
        "data_dir = '/content/genres'"
      ],
      "metadata": {
        "id": "RXI9VHLkzHZO"
      },
      "execution_count": null,
      "outputs": []
    },
    {
      "cell_type": "code",
      "metadata": {
        "colab": {
          "base_uri": "https://localhost:8080/"
        },
        "id": "2PrH82Z4SeLc",
        "outputId": "168c72f0-9b83-45c9-8d10-18305303c1dd"
      },
      "source": [
        "def getClasses(data_dir):\n",
        "  list_files=os.listdir(data_dir)\n",
        "  classes=[]\n",
        "  for file in list_files:\n",
        "    name='{}/{}'.format(data_dir,file)\n",
        "    if os.path.isdir(name):\n",
        "      classes.append(file)\n",
        "  return classes\n",
        "\n",
        "classes = getClasses(data_dir)\n",
        "print(classes)"
      ],
      "execution_count": null,
      "outputs": [
        {
          "output_type": "stream",
          "name": "stdout",
          "text": [
            "['metal', 'classical', 'country', 'disco', 'reggae', 'hiphop', 'rock', 'pop', 'blues', 'jazz']\n"
          ]
        }
      ]
    },
    {
      "cell_type": "code",
      "metadata": {
        "id": "xG7Q7-kySlJ8",
        "colab": {
          "base_uri": "https://localhost:8080/"
        },
        "outputId": "fb078417-202e-443e-893c-52693f4b497a"
      },
      "source": [
        "waveform1,samplerate1,label1 = dataset[0]\n",
        "waveform2,samplerate2,label2 = dataset[111]\n",
        "\n",
        "print(\"shape of waveform {}, sample rate with {}, label is {} \".format(waveform1.size(),samplerate1,label1))\n",
        "print(\"shape of waveform {}, sample rate with {}, label is {} \".format(waveform2.size(),samplerate2,label2))"
      ],
      "execution_count": null,
      "outputs": [
        {
          "output_type": "stream",
          "name": "stdout",
          "text": [
            "shape of waveform torch.Size([1, 661794]), sample rate with 22050, label is blues \n",
            "shape of waveform torch.Size([1, 661794]), sample rate with 22050, label is classical \n"
          ]
        }
      ]
    },
    {
      "cell_type": "code",
      "metadata": {
        "id": "8tZl0mCvSu4R",
        "colab": {
          "base_uri": "https://localhost:8080/",
          "height": 365
        },
        "outputId": "e94ab93f-a913-48ad-c32a-4e3be2ee1ef8"
      },
      "source": [
        "specgram1=tt.Spectrogram()(waveform1)\n",
        "print(\"shape of spectogram {}\".format(specgram1.size()))\n",
        "specgram2=tt.Spectrogram()(waveform2)\n",
        "print(\"shape of spectogram {}\".format(specgram2.size()))\n",
        "\n",
        "plt.figure(figsize=(20, 5))\n",
        "plt.imshow(specgram1.log2()[0,:,:].numpy(),cmap='magma')\n",
        "plt.figure(figsize=(20, 5))\n",
        "plt.imshow(specgram2.log2()[0,:,:].numpy(),cmap='magma')"
      ],
      "execution_count": null,
      "outputs": [
        {
          "output_type": "stream",
          "name": "stdout",
          "text": [
            "shape of spectogram torch.Size([1, 201, 3309])\n",
            "shape of spectogram torch.Size([1, 201, 3309])\n"
          ]
        },
        {
          "output_type": "stream",
          "name": "stderr",
          "text": [
            "/usr/local/lib/python3.7/dist-packages/torch/functional.py:516: UserWarning: stft will require the return_complex parameter be explicitly  specified in a future PyTorch release. Use return_complex=False  to preserve the current behavior or return_complex=True to return  a complex output. (Triggered internally at  /pytorch/aten/src/ATen/native/SpectralOps.cpp:653.)\n",
            "  normalized, onesided, return_complex)\n",
            "/usr/local/lib/python3.7/dist-packages/torch/functional.py:516: UserWarning: The function torch.rfft is deprecated and will be removed in a future PyTorch release. Use the new torch.fft module functions, instead, by importing torch.fft and calling torch.fft.fft or torch.fft.rfft. (Triggered internally at  /pytorch/aten/src/ATen/native/SpectralOps.cpp:590.)\n",
            "  normalized, onesided, return_complex)\n"
          ]
        },
        {
          "output_type": "execute_result",
          "data": {
            "text/plain": [
              "<matplotlib.image.AxesImage at 0x7f3c9bee5690>"
            ]
          },
          "metadata": {},
          "execution_count": 16
        },
        {
          "output_type": "display_data",
          "data": {
            "image/png": "[encoded data removed]",
            "text/plain": [
              "<Figure size 1440x360 with 1 Axes>"
            ]
          },
          "metadata": {}
        },
        {
          "output_type": "display_data",
          "data": {
            "image/png": "[encoded data removed]",
            "text/plain": [
              "<Figure size 1440x360 with 1 Axes>"
            ]
          },
          "metadata": {}
        }
      ]
    },
    {
      "cell_type": "code",
      "metadata": {
        "colab": {
          "base_uri": "https://localhost:8080/"
        },
        "id": "MG4kiYkXTVrX",
        "outputId": "3b292fcb-2869-4d1e-899c-f26c072272aa"
      },
      "source": [
        "def createDirs(classes, new_dir):\n",
        "  try:\n",
        "    os.mkdir(new_dir)\n",
        "    print(\"Directory \" , new_dir ,  \" Created \") \n",
        "  except FileExistsError:\n",
        "    print(\"Directory \" , new_dir,  \" already exists...\")\n",
        "    \n",
        "  for x in classes:\n",
        "    directory_name='{}/{}'.format(new_dir,x)\n",
        "    try:\n",
        "        # Create  Directory  MyDirectory \n",
        "      os.mkdir(directory_name)\n",
        "        #print if directory created successfully...\n",
        "      print(\"Directory \" , directory_name ,  \" Created \") \n",
        "    except FileExistsError:\n",
        "        ##print if directory already exists...\n",
        "      print(\"Directory \" , directory_name ,  \" already exists...\") \n",
        "\n",
        "new_dir='/content/data'\n",
        "createDirs(classes, new_dir)"
      ],
      "execution_count": null,
      "outputs": [
        {
          "output_type": "stream",
          "name": "stdout",
          "text": [
            "Directory  /content/data  Created \n",
            "Directory  /content/data/metal  Created \n",
            "Directory  /content/data/classical  Created \n",
            "Directory  /content/data/country  Created \n",
            "Directory  /content/data/disco  Created \n",
            "Directory  /content/data/reggae  Created \n",
            "Directory  /content/data/hiphop  Created \n",
            "Directory  /content/data/rock  Created \n",
            "Directory  /content/data/pop  Created \n",
            "Directory  /content/data/blues  Created \n",
            "Directory  /content/data/jazz  Created \n"
          ]
        }
      ]
    },
    {
      "cell_type": "code",
      "metadata": {
        "id": "aS7TDGRgTXjg"
      },
      "source": [
        "def export_to_dir(class_name,new_dir,chopped_audio,counter):\n",
        "  for audio_data in chopped_audio:\n",
        "    file_name=class_name + '_' + str(counter)+'.wav'\n",
        "    export_path=os.path.join(new_dir,file_name)\n",
        "    audio_data.export(export_path, format=\"wav\")\n",
        "    int(counter)\n",
        "    counter+=1  \n",
        "  return counter  \n",
        "\n",
        "def chop_audio(audio_file,segment_size,max_size):  #All file are not even so we cut it in same size using max_size and provide segment size using segment\n",
        "  audio_data = AudioSegment.from_wav(audio_file)\n",
        "  cut_audio_data = audio_data[:max_sec]\n",
        "  chopped_audio=[x for x in cut_audio_data[::segment]]\n",
        "  return chopped_audio\n",
        "\n",
        "def parse_genres(fname):\n",
        "    parts = fname.split('_')\n",
        "    return ' '.join(parts[:-1])\n",
        "  "
      ],
      "execution_count": null,
      "outputs": []
    },
    {
      "cell_type": "code",
      "source": [
        "max_sec=30 * 1000 # max size of audio we take (for 30 sec)\n",
        "segment=10 * 1000  # segment size(for 10 sec)\n",
        "new_dir='/content/data'\n",
        "counter=0\n",
        "\n",
        "for x in classes:\n",
        "  path=os.path.join(\"/content/genres\", x)\n",
        "  os.chdir(path)\n",
        "  list_file=os.listdir(path)\n",
        "  new_dir_genre = os.path.join(new_dir,x)\n",
        "  for file_name in list_file:\n",
        "    chopped_audio=chop_audio(file_name,segment,max_sec)\n",
        "    counter=export_to_dir(x,new_dir_genre,chopped_audio,counter)"
      ],
      "metadata": {
        "id": "goEPEzTBhQmn"
      },
      "execution_count": null,
      "outputs": []
    },
    {
      "cell_type": "code",
      "metadata": {
        "colab": {
          "base_uri": "https://localhost:8080/"
        },
        "id": "6c3hMoXNTYmP",
        "outputId": "3dfabbcb-b1f5-47c0-ed97-4b4cb997f4d4"
      },
      "source": [
        "print(os.getcwd())\n",
        "print(len(chopped_audio))\n",
        "print(counter)"
      ],
      "execution_count": null,
      "outputs": [
        {
          "output_type": "stream",
          "name": "stdout",
          "text": [
            "/content/genres/jazz\n",
            "3\n",
            "3000\n"
          ]
        }
      ]
    },
    {
      "cell_type": "code",
      "source": [
        "os.chdir('/content')"
      ],
      "metadata": {
        "id": "XM9CQ1Pw_aaF"
      },
      "execution_count": null,
      "outputs": []
    },
    {
      "cell_type": "markdown",
      "source": [
        "## Feature Based Classification"
      ],
      "metadata": {
        "id": "g1VSLM-4_KEH"
      }
    },
    {
      "cell_type": "code",
      "metadata": {
        "id": "uXQDuqjK7Bog"
      },
      "source": [
        "sample_rate = 22050\n",
        "wnd_size = 2048 \n",
        "wnd_stride = 512"
      ],
      "execution_count": null,
      "outputs": []
    },
    {
      "cell_type": "code",
      "metadata": {
        "id": "uq1RHVHR6mS8"
      },
      "source": [
        "def extract_features(audio):\n",
        "    chroma_stft = librosa.feature.chroma_stft(y=audio, sr=sample_rate,n_fft=wnd_size,win_length=wnd_size, hop_length=wnd_size).flatten()\n",
        "    rmse = librosa.feature.rms(y=audio, frame_length=wnd_size, hop_length=wnd_size).flatten()\n",
        "    spec_cent = librosa.feature.spectral_centroid(y=audio, sr=sample_rate, n_fft=wnd_size, win_length=wnd_size, hop_length=wnd_stride).flatten()\n",
        "    spec_bw = librosa.feature.spectral_bandwidth(y=audio, sr=sample_rate,  n_fft=wnd_size, win_length=wnd_size, hop_length=wnd_stride).flatten()\n",
        "    rolloff = librosa.feature.spectral_rolloff(y=audio + 0.01, sr=sample_rate,n_fft=wnd_size,win_length=wnd_size, hop_length=wnd_stride).flatten()\n",
        "    zcr = librosa.feature.zero_crossing_rate(audio,frame_length=wnd_size, hop_length=wnd_stride).flatten()\n",
        "\n",
        "    harmony = librosa.feature.tempogram(audio,win_length=wnd_size, hop_length=wnd_stride).flatten()\n",
        "\n",
        "    mfcc = librosa.feature.mfcc(y=audio, sr=sample_rate,win_length=wnd_size, hop_length=wnd_stride)\n",
        "    mfccs_features = np.hstack([np.mean(chroma_stft, axis=0),np.var(chroma_stft, axis=0),np.mean(rmse, axis=0),np.var(rmse, axis=0),np.mean(spec_cent, axis=0),\n",
        "                                np.var(spec_cent, axis=0),np.mean(spec_bw, axis=0), np.var(spec_bw, axis=0),np.mean(rolloff, axis=0),np.var(rolloff, axis=0),\n",
        "                                np.mean(zcr, axis=0),np.var(zcr, axis=0),np.mean(harmony, axis=0),\n",
        "                                np.var(harmony, axis=0),np.mean(mfcc.T, axis=0),np.var(mfcc.T, axis=0)])\n",
        "    return mfccs_features"
      ],
      "execution_count": null,
      "outputs": []
    },
    {
      "cell_type": "code",
      "metadata": {
        "id": "_WF-R7U4ToLb"
      },
      "source": [
        "# from skimage.io import imsave\n",
        "# class MusicDataset(Dataset):\n",
        "#     def __init__(self, root):\n",
        "#         super().__init__()\n",
        "#         self.root = root\n",
        "#         self.files = [fname for fname in os.listdir(root) if fname.endswith('.wav')]\n",
        "#         self.classes = list(set(parse_genres(fname) for fname in self.files))\n",
        "#         self.transform = tt.Spectrogram()\n",
        "    \n",
        "#     def __len__(self):\n",
        "#         return len(self.files)\n",
        "\n",
        "#     def __getitem__(self, i):\n",
        "#         fname = self.files[i]\n",
        "#         print((self.root, fname))\n",
        "#         fpath = os.path.join(self.root, fname)\n",
        "#         audio = torchaudio.load(fpath)[0]\n",
        "#         print(len(audio[0]))\n",
        "#         if len(audio[0]) <22050*10:\n",
        "#             return\n",
        "#         img = self.transform(audio)\n",
        "#         img = img[:,:,:-1]\n",
        "#         specgram = img.resize(1,img.size()[1]*2,img.size()[2]//2)\n",
        "#         plt.figure(figsize=(6, 5))\n",
        "#         plt.imshow(specgram.log2()[0,:,:].numpy(),cmap='magma')\n",
        "#         plt.xlim([0, specgram.size()[2]])\n",
        "#         plt.xticks([])\n",
        "#         plt.yticks([])\n",
        "#         img = np.squeeze(img,axis=0)\n",
        "#         class_label = parse_genres(fname)\n",
        "\n",
        "#         path_to_save = os.path.join('/content/data',class_label,fname+'.jpg')\n",
        "#         plt.savefig(path_to_save)\n",
        "#         from IPython.display import clear_output\n",
        "\n",
        "#         clear_output(wait=True)\n",
        "#         return audio, class_label"
      ],
      "execution_count": null,
      "outputs": []
    },
    {
      "cell_type": "code",
      "metadata": {
        "id": "u7Q4ELVi79g6"
      },
      "source": [
        "class MusicDataset(Dataset):\n",
        "    def __init__(self, root):\n",
        "        super().__init__()\n",
        "        self.root = root\n",
        "        self.fpaths =  [fname for _,_,fname in os.walk(root) if fname]\n",
        "        self.files = []\n",
        "        for fname in self.fpaths:\n",
        "          for f in fname:\n",
        "            if f.endswith('.wav'):\n",
        "              self.files.append(f)\n",
        "        self.classes = list(set(parse_genres(fname) for fname in self.files))\n",
        "        self.transform = extract_features\n",
        "    \n",
        "    def __len__(self):\n",
        "        return len(self.files)\n",
        "\n",
        "    def __getitem__(self, i):\n",
        "        fname = self.files[i]\n",
        "        fpath = os.path.join(self.root,parse_genres(fname), fname)\n",
        "        audio = librosa.load(fpath)[0]\n",
        "        if len(audio) <22050*10:\n",
        "            return\n",
        "        feats = self.transform(audio)\n",
        "        class_label = parse_genres(fname)\n",
        "        return feats, class_label"
      ],
      "execution_count": null,
      "outputs": []
    },
    {
      "cell_type": "code",
      "metadata": {
        "id": "IjzCAD-5TpY_"
      },
      "source": [
        "dataset = MusicDataset(new_dir)"
      ],
      "execution_count": null,
      "outputs": []
    },
    {
      "cell_type": "code",
      "metadata": {
        "colab": {
          "base_uri": "https://localhost:8080/",
          "height": 124,
          "referenced_widgets": [
            "d51dc1d2265b41009ebf00e329c8fc88",
            "33970d5d20a24caaa5701f921d7071e0",
            "94c4e924c2764f71a44d1bcb9543bf9b",
            "1824ef4377fa4b86bb8f46be269d9a12",
            "f062cda8678f486796630fbfbf24ac17",
            "45c1cb7425524c4da82373e406ed95b7",
            "007ef3b55d364c04b70a0ad0dbe9b3f1",
            "ac49153d6b0e4b55900ce85cf5c9c979",
            "3f64d146a0364c2f9dcda23aa555310b",
            "4cb0534fa2324add953239d6dfe8deba",
            "16ea1229e6f044bca2e4dbcae71ce45b"
          ]
        },
        "id": "dUIhoDldMf_i",
        "outputId": "7ef1c5d1-3b96-40d7-9ed1-a56c9358c4e1"
      },
      "source": [
        "X=[]\n",
        "y=[]\n",
        "for d in tqdm.tqdm_notebook(dataset):\n",
        "  if d is not None:\n",
        "    X.append(d[0])\n",
        "    y.append(d[1])"
      ],
      "execution_count": null,
      "outputs": [
        {
          "output_type": "stream",
          "name": "stderr",
          "text": [
            "/usr/local/lib/python3.7/dist-packages/ipykernel_launcher.py:3: TqdmDeprecationWarning: This function will be removed in tqdm==5.0.0\n",
            "Please use `tqdm.notebook.tqdm` instead of `tqdm.tqdm_notebook`\n",
            "  This is separate from the ipykernel package so we can avoid doing imports until\n"
          ]
        },
        {
          "output_type": "display_data",
          "data": {
            "application/vnd.jupyter.widget-view+json": {
              "model_id": "d51dc1d2265b41009ebf00e329c8fc88",
              "version_minor": 0,
              "version_major": 2
            },
            "text/plain": [
              "  0%|          | 0/3000 [00:00<?, ?it/s]"
            ]
          },
          "metadata": {}
        }
      ]
    },
    {
      "cell_type": "code",
      "metadata": {
        "colab": {
          "base_uri": "https://localhost:8080/"
        },
        "id": "fZotTDZ-8k0y",
        "outputId": "3585685e-f950-4467-9de2-5972c1503e39"
      },
      "source": [
        "print(f'{len(X)} samples in the dataset')"
      ],
      "execution_count": null,
      "outputs": [
        {
          "output_type": "stream",
          "name": "stdout",
          "text": [
            "2991 samples in the dataset\n"
          ]
        }
      ]
    },
    {
      "cell_type": "code",
      "metadata": {
        "id": "tl6zEWmvbSNt"
      },
      "source": [
        "X = np.array(X)\n",
        "y = np.array(y).reshape(-1,1)\n",
        "\n",
        "\n",
        "data = np.hstack([X,y])\n",
        "\n",
        "df = pd.DataFrame(data,columns = [i for i in range(X.shape[1])]+['labels'])"
      ],
      "execution_count": null,
      "outputs": []
    },
    {
      "cell_type": "code",
      "metadata": {
        "id": "1mu7ZT6OcX0v",
        "outputId": "aa5feae4-ae2e-4c00-f9cf-a2c44393d429",
        "colab": {
          "base_uri": "https://localhost:8080/",
          "height": 444
        }
      },
      "source": [
        "df"
      ],
      "execution_count": null,
      "outputs": [
        {
          "output_type": "execute_result",
          "data": {
            "text/html": [
              "<div>\n",
              "<style scoped>\n",
              "    .dataframe tbody tr th:only-of-type {\n",
              "        vertical-align: middle;\n",
              "    }\n",
              "\n",
              "    .dataframe tbody tr th {\n",
              "        vertical-align: top;\n",
              "    }\n",
              "\n",
              "    .dataframe thead th {\n",
              "        text-align: right;\n",
              "    }\n",
              "</style>\n",
              "<table border=\"1\" class=\"dataframe\">\n",
              "  <thead>\n",
              "    <tr style=\"text-align: right;\">\n",
              "      <th></th>\n",
              "      <th>0</th>\n",
              "      <th>1</th>\n",
              "      <th>2</th>\n",
              "      <th>3</th>\n",
              "      <th>4</th>\n",
              "      <th>5</th>\n",
              "      <th>6</th>\n",
              "      <th>7</th>\n",
              "      <th>8</th>\n",
              "      <th>9</th>\n",
              "      <th>10</th>\n",
              "      <th>11</th>\n",
              "      <th>12</th>\n",
              "      <th>13</th>\n",
              "      <th>14</th>\n",
              "      <th>15</th>\n",
              "      <th>16</th>\n",
              "      <th>17</th>\n",
              "      <th>18</th>\n",
              "      <th>19</th>\n",
              "      <th>20</th>\n",
              "      <th>21</th>\n",
              "      <th>22</th>\n",
              "      <th>23</th>\n",
              "      <th>24</th>\n",
              "      <th>25</th>\n",
              "      <th>26</th>\n",
              "      <th>27</th>\n",
              "      <th>28</th>\n",
              "      <th>29</th>\n",
              "      <th>30</th>\n",
              "      <th>31</th>\n",
              "      <th>32</th>\n",
              "      <th>33</th>\n",
              "      <th>34</th>\n",
              "      <th>35</th>\n",
              "      <th>36</th>\n",
              "      <th>37</th>\n",
              "      <th>38</th>\n",
              "      <th>39</th>\n",
              "      <th>40</th>\n",
              "      <th>41</th>\n",
              "      <th>42</th>\n",
              "      <th>43</th>\n",
              "      <th>44</th>\n",
              "      <th>45</th>\n",
              "      <th>46</th>\n",
              "      <th>47</th>\n",
              "      <th>48</th>\n",
              "      <th>49</th>\n",
              "      <th>50</th>\n",
              "      <th>51</th>\n",
              "      <th>52</th>\n",
              "      <th>53</th>\n",
              "      <th>labels</th>\n",
              "    </tr>\n",
              "  </thead>\n",
              "  <tbody>\n",
              "    <tr>\n",
              "      <th>0</th>\n",
              "      <td>0.46144622564315796</td>\n",
              "      <td>0.07522960007190704</td>\n",
              "      <td>0.10160871595144272</td>\n",
              "      <td>0.000573033990804106</td>\n",
              "      <td>2832.6375391143774</td>\n",
              "      <td>196847.62780853763</td>\n",
              "      <td>2263.8187824032425</td>\n",
              "      <td>58207.31284890073</td>\n",
              "      <td>5390.744974441705</td>\n",
              "      <td>778975.0555245113</td>\n",
              "      <td>0.17768905887470998</td>\n",
              "      <td>0.001732176964190618</td>\n",
              "      <td>0.138804445095263</td>\n",
              "      <td>0.046789240338786724</td>\n",
              "      <td>-77.52392578125</td>\n",
              "      <td>73.85814666748047</td>\n",
              "      <td>-41.365455627441406</td>\n",
              "      <td>55.42484664916992</td>\n",
              "      <td>-9.80247974395752</td>\n",
              "      <td>31.954145431518555</td>\n",
              "      <td>-12.055061340332031</td>\n",
              "      <td>25.33519172668457</td>\n",
              "      <td>-18.014402389526367</td>\n",
              "      <td>18.210519790649414</td>\n",
              "      <td>-19.190248489379883</td>\n",
              "      <td>8.154386520385742</td>\n",
              "      <td>-19.70462989807129</td>\n",
              "      <td>7.210487365722656</td>\n",
              "      <td>-7.31333589553833</td>\n",
              "      <td>5.648828983306885</td>\n",
              "      <td>-13.045845031738281</td>\n",
              "      <td>0.9245074391365051</td>\n",
              "      <td>-10.659893035888672</td>\n",
              "      <td>-3.224797487258911</td>\n",
              "      <td>710.5070190429688</td>\n",
              "      <td>371.31829833984375</td>\n",
              "      <td>224.6362762451172</td>\n",
              "      <td>100.1236572265625</td>\n",
              "      <td>85.25462341308594</td>\n",
              "      <td>65.97843170166016</td>\n",
              "      <td>79.69058990478516</td>\n",
              "      <td>46.136993408203125</td>\n",
              "      <td>52.952980041503906</td>\n",
              "      <td>46.562835693359375</td>\n",
              "      <td>32.863399505615234</td>\n",
              "      <td>25.680747985839844</td>\n",
              "      <td>43.38459777832031</td>\n",
              "      <td>52.336669921875</td>\n",
              "      <td>51.8391227722168</td>\n",
              "      <td>35.355587005615234</td>\n",
              "      <td>58.98509216308594</td>\n",
              "      <td>45.689964294433594</td>\n",
              "      <td>41.94163131713867</td>\n",
              "      <td>37.392372131347656</td>\n",
              "      <td>metal</td>\n",
              "    </tr>\n",
              "    <tr>\n",
              "      <th>1</th>\n",
              "      <td>0.4766130745410919</td>\n",
              "      <td>0.07637028396129608</td>\n",
              "      <td>0.2289465218782425</td>\n",
              "      <td>0.001316214445978403</td>\n",
              "      <td>3104.7489829970295</td>\n",
              "      <td>111595.28133083828</td>\n",
              "      <td>2400.2641974974813</td>\n",
              "      <td>46717.31651146831</td>\n",
              "      <td>5739.198165150087</td>\n",
              "      <td>424308.8090922569</td>\n",
              "      <td>0.19112075841067286</td>\n",
              "      <td>0.001240090073085835</td>\n",
              "      <td>0.12546565383280364</td>\n",
              "      <td>0.04123247191261647</td>\n",
              "      <td>8.072547912597656</td>\n",
              "      <td>63.252559661865234</td>\n",
              "      <td>-24.670534133911133</td>\n",
              "      <td>60.73622512817383</td>\n",
              "      <td>-17.253311157226562</td>\n",
              "      <td>27.876314163208008</td>\n",
              "      <td>-15.184203147888184</td>\n",
              "      <td>16.989316940307617</td>\n",
              "      <td>-11.549942970275879</td>\n",
              "      <td>17.296472549438477</td>\n",
              "      <td>-12.056083679199219</td>\n",
              "      <td>18.113773345947266</td>\n",
              "      <td>-10.671952247619629</td>\n",
              "      <td>13.801994323730469</td>\n",
              "      <td>-6.097410202026367</td>\n",
              "      <td>8.513005256652832</td>\n",
              "      <td>-8.020364761352539</td>\n",
              "      <td>3.4265623092651367</td>\n",
              "      <td>-9.153212547302246</td>\n",
              "      <td>7.387617111206055</td>\n",
              "      <td>533.3505859375</td>\n",
              "      <td>165.9094696044922</td>\n",
              "      <td>191.47012329101562</td>\n",
              "      <td>150.72190856933594</td>\n",
              "      <td>94.73235321044922</td>\n",
              "      <td>85.34974670410156</td>\n",
              "      <td>78.49769592285156</td>\n",
              "      <td>64.62848663330078</td>\n",
              "      <td>56.689414978027344</td>\n",
              "      <td>58.52682876586914</td>\n",
              "      <td>48.258995056152344</td>\n",
              "      <td>60.73588943481445</td>\n",
              "      <td>45.31845474243164</td>\n",
              "      <td>49.512001037597656</td>\n",
              "      <td>39.11819076538086</td>\n",
              "      <td>36.672698974609375</td>\n",
              "      <td>30.6164493560791</td>\n",
              "      <td>37.325138092041016</td>\n",
              "      <td>45.984344482421875</td>\n",
              "      <td>41.590415954589844</td>\n",
              "      <td>metal</td>\n",
              "    </tr>\n",
              "    <tr>\n",
              "      <th>2</th>\n",
              "      <td>0.4452823996543884</td>\n",
              "      <td>0.08122172951698303</td>\n",
              "      <td>0.09767501801252365</td>\n",
              "      <td>0.0006363874999806285</td>\n",
              "      <td>2630.8520847416175</td>\n",
              "      <td>255873.13246448472</td>\n",
              "      <td>2147.5486305082736</td>\n",
              "      <td>121863.11510524151</td>\n",
              "      <td>4949.514154491734</td>\n",
              "      <td>1187511.2871154416</td>\n",
              "      <td>0.14524724477958237</td>\n",
              "      <td>0.002035672737761592</td>\n",
              "      <td>0.08598316598990224</td>\n",
              "      <td>0.021632718980884848</td>\n",
              "      <td>-113.98417663574219</td>\n",
              "      <td>79.8329086303711</td>\n",
              "      <td>-40.311676025390625</td>\n",
              "      <td>73.17774963378906</td>\n",
              "      <td>-5.7354326248168945</td>\n",
              "      <td>25.543302536010742</td>\n",
              "      <td>-11.792083740234375</td>\n",
              "      <td>25.41423988342285</td>\n",
              "      <td>-16.527067184448242</td>\n",
              "      <td>13.163764953613281</td>\n",
              "      <td>-12.368885040283203</td>\n",
              "      <td>12.837336540222168</td>\n",
              "      <td>-12.48442268371582</td>\n",
              "      <td>4.414340019226074</td>\n",
              "      <td>-12.147810935974121</td>\n",
              "      <td>1.3768439292907715</td>\n",
              "      <td>-11.60632038116455</td>\n",
              "      <td>-1.0976660251617432</td>\n",
              "      <td>-3.7609047889709473</td>\n",
              "      <td>-3.6187710762023926</td>\n",
              "      <td>1502.40673828125</td>\n",
              "      <td>464.4570007324219</td>\n",
              "      <td>582.6034545898438</td>\n",
              "      <td>251.6705322265625</td>\n",
              "      <td>104.81188201904297</td>\n",
              "      <td>76.2742919921875</td>\n",
              "      <td>73.00941467285156</td>\n",
              "      <td>52.13746643066406</td>\n",
              "      <td>33.14680099487305</td>\n",
              "      <td>68.59139251708984</td>\n",
              "      <td>47.74797058105469</td>\n",
              "      <td>35.7255973815918</td>\n",
              "      <td>47.708980560302734</td>\n",
              "      <td>33.85920333862305</td>\n",
              "      <td>51.416934967041016</td>\n",
              "      <td>36.76054382324219</td>\n",
              "      <td>33.38540267944336</td>\n",
              "      <td>32.12893295288086</td>\n",
              "      <td>50.73306655883789</td>\n",
              "      <td>34.64799499511719</td>\n",
              "      <td>metal</td>\n",
              "    </tr>\n",
              "    <tr>\n",
              "      <th>3</th>\n",
              "      <td>0.5113515853881836</td>\n",
              "      <td>0.07688184082508087</td>\n",
              "      <td>0.2597420811653137</td>\n",
              "      <td>0.0020046511199325323</td>\n",
              "      <td>2714.041164662419</td>\n",
              "      <td>361388.80358389707</td>\n",
              "      <td>2502.3402385028066</td>\n",
              "      <td>98673.20197342015</td>\n",
              "      <td>5740.2473467408645</td>\n",
              "      <td>1183152.9067360982</td>\n",
              "      <td>0.11404935832366589</td>\n",
              "      <td>0.0016440468143121404</td>\n",
              "      <td>0.1354891362639974</td>\n",
              "      <td>0.04428778268412927</td>\n",
              "      <td>-15.57045841217041</td>\n",
              "      <td>75.54179382324219</td>\n",
              "      <td>-17.34221839904785</td>\n",
              "      <td>61.259315490722656</td>\n",
              "      <td>-3.0198211669921875</td>\n",
              "      <td>36.798919677734375</td>\n",
              "      <td>-7.87914514541626</td>\n",
              "      <td>32.37117004394531</td>\n",
              "      <td>-7.904566287994385</td>\n",
              "      <td>19.385074615478516</td>\n",
              "      <td>-10.67492961883545</td>\n",
              "      <td>14.872488021850586</td>\n",
              "      <td>-9.141741752624512</td>\n",
              "      <td>3.784259557723999</td>\n",
              "      <td>-7.325206279754639</td>\n",
              "      <td>5.338850021362305</td>\n",
              "      <td>-6.9914631843566895</td>\n",
              "      <td>1.1095904111862183</td>\n",
              "      <td>-2.709042549133301</td>\n",
              "      <td>1.7639429569244385</td>\n",
              "      <td>1450.586669921875</td>\n",
              "      <td>402.1274719238281</td>\n",
              "      <td>228.6114044189453</td>\n",
              "      <td>175.48089599609375</td>\n",
              "      <td>59.685699462890625</td>\n",
              "      <td>70.09046173095703</td>\n",
              "      <td>92.07608032226562</td>\n",
              "      <td>92.22492980957031</td>\n",
              "      <td>62.43756866455078</td>\n",
              "      <td>54.20167922973633</td>\n",
              "      <td>41.480621337890625</td>\n",
              "      <td>40.20671844482422</td>\n",
              "      <td>37.151065826416016</td>\n",
              "      <td>28.310632705688477</td>\n",
              "      <td>24.33981704711914</td>\n",
              "      <td>30.61716651916504</td>\n",
              "      <td>24.38909149169922</td>\n",
              "      <td>21.512996673583984</td>\n",
              "      <td>26.64513397216797</td>\n",
              "      <td>17.780956268310547</td>\n",
              "      <td>metal</td>\n",
              "    </tr>\n",
              "    <tr>\n",
              "      <th>4</th>\n",
              "      <td>0.423284649848938</td>\n",
              "      <td>0.07435673475265503</td>\n",
              "      <td>0.10670401155948639</td>\n",
              "      <td>0.00022549905406776816</td>\n",
              "      <td>2576.348597314061</td>\n",
              "      <td>193611.56349052803</td>\n",
              "      <td>2266.9346720835365</td>\n",
              "      <td>67661.36222801688</td>\n",
              "      <td>5198.095249963747</td>\n",
              "      <td>828850.5136881676</td>\n",
              "      <td>0.14780420714907191</td>\n",
              "      <td>0.0011633034294989636</td>\n",
              "      <td>0.12401278412688156</td>\n",
              "      <td>0.041446543762292065</td>\n",
              "      <td>-69.12808990478516</td>\n",
              "      <td>97.0693130493164</td>\n",
              "      <td>-29.911701202392578</td>\n",
              "      <td>53.994544982910156</td>\n",
              "      <td>-23.78481674194336</td>\n",
              "      <td>20.879146575927734</td>\n",
              "      <td>-23.621477127075195</td>\n",
              "      <td>24.951231002807617</td>\n",
              "      <td>-11.24246597290039</td>\n",
              "      <td>22.889347076416016</td>\n",
              "      <td>-14.276556015014648</td>\n",
              "      <td>10.710058212280273</td>\n",
              "      <td>-16.113706588745117</td>\n",
              "      <td>9.531601905822754</td>\n",
              "      <td>-7.92269229888916</td>\n",
              "      <td>8.659889221191406</td>\n",
              "      <td>-7.957919597625732</td>\n",
              "      <td>4.8927764892578125</td>\n",
              "      <td>-12.947832107543945</td>\n",
              "      <td>5.43367862701416</td>\n",
              "      <td>515.7517700195312</td>\n",
              "      <td>284.39093017578125</td>\n",
              "      <td>172.74066162109375</td>\n",
              "      <td>94.83583068847656</td>\n",
              "      <td>54.849971771240234</td>\n",
              "      <td>67.7825698852539</td>\n",
              "      <td>55.74813461303711</td>\n",
              "      <td>40.83332443237305</td>\n",
              "      <td>57.840396881103516</td>\n",
              "      <td>34.80930709838867</td>\n",
              "      <td>33.536014556884766</td>\n",
              "      <td>40.2249755859375</td>\n",
              "      <td>28.696033477783203</td>\n",
              "      <td>30.05767250061035</td>\n",
              "      <td>44.06621551513672</td>\n",
              "      <td>27.069225311279297</td>\n",
              "      <td>39.883670806884766</td>\n",
              "      <td>40.63410568237305</td>\n",
              "      <td>26.0159969329834</td>\n",
              "      <td>32.230567932128906</td>\n",
              "      <td>metal</td>\n",
              "    </tr>\n",
              "    <tr>\n",
              "      <th>...</th>\n",
              "      <td>...</td>\n",
              "      <td>...</td>\n",
              "      <td>...</td>\n",
              "      <td>...</td>\n",
              "      <td>...</td>\n",
              "      <td>...</td>\n",
              "      <td>...</td>\n",
              "      <td>...</td>\n",
              "      <td>...</td>\n",
              "      <td>...</td>\n",
              "      <td>...</td>\n",
              "      <td>...</td>\n",
              "      <td>...</td>\n",
              "      <td>...</td>\n",
              "      <td>...</td>\n",
              "      <td>...</td>\n",
              "      <td>...</td>\n",
              "      <td>...</td>\n",
              "      <td>...</td>\n",
              "      <td>...</td>\n",
              "      <td>...</td>\n",
              "      <td>...</td>\n",
              "      <td>...</td>\n",
              "      <td>...</td>\n",
              "      <td>...</td>\n",
              "      <td>...</td>\n",
              "      <td>...</td>\n",
              "      <td>...</td>\n",
              "      <td>...</td>\n",
              "      <td>...</td>\n",
              "      <td>...</td>\n",
              "      <td>...</td>\n",
              "      <td>...</td>\n",
              "      <td>...</td>\n",
              "      <td>...</td>\n",
              "      <td>...</td>\n",
              "      <td>...</td>\n",
              "      <td>...</td>\n",
              "      <td>...</td>\n",
              "      <td>...</td>\n",
              "      <td>...</td>\n",
              "      <td>...</td>\n",
              "      <td>...</td>\n",
              "      <td>...</td>\n",
              "      <td>...</td>\n",
              "      <td>...</td>\n",
              "      <td>...</td>\n",
              "      <td>...</td>\n",
              "      <td>...</td>\n",
              "      <td>...</td>\n",
              "      <td>...</td>\n",
              "      <td>...</td>\n",
              "      <td>...</td>\n",
              "      <td>...</td>\n",
              "      <td>...</td>\n",
              "    </tr>\n",
              "    <tr>\n",
              "      <th>2986</th>\n",
              "      <td>0.24399255216121674</td>\n",
              "      <td>0.09698905050754547</td>\n",
              "      <td>0.06093260273337364</td>\n",
              "      <td>0.0008995556272566319</td>\n",
              "      <td>1717.0540030279572</td>\n",
              "      <td>250801.2975646005</td>\n",
              "      <td>2601.205191061671</td>\n",
              "      <td>130709.80083288779</td>\n",
              "      <td>3682.3026369453305</td>\n",
              "      <td>2178928.234754471</td>\n",
              "      <td>0.03921544192285383</td>\n",
              "      <td>0.0004480890301801595</td>\n",
              "      <td>0.1325035644343969</td>\n",
              "      <td>0.043279778921024165</td>\n",
              "      <td>-293.4989929199219</td>\n",
              "      <td>95.29780578613281</td>\n",
              "      <td>36.72109603881836</td>\n",
              "      <td>34.547576904296875</td>\n",
              "      <td>14.600610733032227</td>\n",
              "      <td>0.28154468536376953</td>\n",
              "      <td>8.012639999389648</td>\n",
              "      <td>6.948342323303223</td>\n",
              "      <td>-8.63847541809082</td>\n",
              "      <td>-8.174372673034668</td>\n",
              "      <td>0.2781313359737396</td>\n",
              "      <td>-3.161766767501831</td>\n",
              "      <td>4.983564853668213</td>\n",
              "      <td>2.1517550945281982</td>\n",
              "      <td>4.745824813842773</td>\n",
              "      <td>0.1832040250301361</td>\n",
              "      <td>-4.701202392578125</td>\n",
              "      <td>-2.6678407192230225</td>\n",
              "      <td>5.997588157653809</td>\n",
              "      <td>1.0201565027236938</td>\n",
              "      <td>1299.3758544921875</td>\n",
              "      <td>448.9787902832031</td>\n",
              "      <td>139.34324645996094</td>\n",
              "      <td>63.43316650390625</td>\n",
              "      <td>140.7102813720703</td>\n",
              "      <td>148.51300048828125</td>\n",
              "      <td>48.2019157409668</td>\n",
              "      <td>42.756874084472656</td>\n",
              "      <td>122.1771240234375</td>\n",
              "      <td>60.77643585205078</td>\n",
              "      <td>30.01039695739746</td>\n",
              "      <td>37.271671295166016</td>\n",
              "      <td>63.66374969482422</td>\n",
              "      <td>87.81730651855469</td>\n",
              "      <td>159.69400024414062</td>\n",
              "      <td>105.55467224121094</td>\n",
              "      <td>107.7433853149414</td>\n",
              "      <td>126.16161346435547</td>\n",
              "      <td>73.53852844238281</td>\n",
              "      <td>43.492218017578125</td>\n",
              "      <td>jazz</td>\n",
              "    </tr>\n",
              "    <tr>\n",
              "      <th>2987</th>\n",
              "      <td>0.276840478181839</td>\n",
              "      <td>0.09127660095691681</td>\n",
              "      <td>0.1296570748090744</td>\n",
              "      <td>0.001678026164881885</td>\n",
              "      <td>1738.5847096885798</td>\n",
              "      <td>104207.18697054336</td>\n",
              "      <td>2081.200775869978</td>\n",
              "      <td>88865.9498208727</td>\n",
              "      <td>3803.1583639972446</td>\n",
              "      <td>962373.994951291</td>\n",
              "      <td>0.06632468097447795</td>\n",
              "      <td>0.00039849312961393204</td>\n",
              "      <td>0.09641932732371553</td>\n",
              "      <td>0.026979452565205026</td>\n",
              "      <td>-151.68617248535156</td>\n",
              "      <td>108.78720092773438</td>\n",
              "      <td>-5.60235595703125</td>\n",
              "      <td>34.81418991088867</td>\n",
              "      <td>-11.84378433227539</td>\n",
              "      <td>23.890310287475586</td>\n",
              "      <td>-11.285507202148438</td>\n",
              "      <td>10.82578182220459</td>\n",
              "      <td>-13.602154731750488</td>\n",
              "      <td>15.49700927734375</td>\n",
              "      <td>-7.211005687713623</td>\n",
              "      <td>10.530570983886719</td>\n",
              "      <td>-7.05627965927124</td>\n",
              "      <td>5.122066974639893</td>\n",
              "      <td>-8.517975807189941</td>\n",
              "      <td>6.717034816741943</td>\n",
              "      <td>-0.8805162310600281</td>\n",
              "      <td>5.222440242767334</td>\n",
              "      <td>5.92422342300415</td>\n",
              "      <td>-0.6445211172103882</td>\n",
              "      <td>1425.894775390625</td>\n",
              "      <td>369.6456604003906</td>\n",
              "      <td>239.7371368408203</td>\n",
              "      <td>132.17935180664062</td>\n",
              "      <td>88.52509307861328</td>\n",
              "      <td>59.08204650878906</td>\n",
              "      <td>50.35139465332031</td>\n",
              "      <td>53.38479232788086</td>\n",
              "      <td>62.52948760986328</td>\n",
              "      <td>78.02523040771484</td>\n",
              "      <td>73.22991943359375</td>\n",
              "      <td>104.40513610839844</td>\n",
              "      <td>101.82720184326172</td>\n",
              "      <td>74.38980865478516</td>\n",
              "      <td>85.70486450195312</td>\n",
              "      <td>106.1962890625</td>\n",
              "      <td>195.9683380126953</td>\n",
              "      <td>129.88485717773438</td>\n",
              "      <td>97.10516357421875</td>\n",
              "      <td>168.72842407226562</td>\n",
              "      <td>jazz</td>\n",
              "    </tr>\n",
              "    <tr>\n",
              "      <th>2988</th>\n",
              "      <td>0.346861869096756</td>\n",
              "      <td>0.09039967507123947</td>\n",
              "      <td>0.0468808077275753</td>\n",
              "      <td>0.0004957773489877582</td>\n",
              "      <td>1814.9943600126223</td>\n",
              "      <td>245312.26072045608</td>\n",
              "      <td>2219.1137110443724</td>\n",
              "      <td>79129.53042535983</td>\n",
              "      <td>4033.054034947796</td>\n",
              "      <td>1404349.3406444725</td>\n",
              "      <td>0.07537657700116009</td>\n",
              "      <td>0.0017216612751955558</td>\n",
              "      <td>0.04545952888420769</td>\n",
              "      <td>0.009775500118272119</td>\n",
              "      <td>-241.8084716796875</td>\n",
              "      <td>110.88834381103516</td>\n",
              "      <td>5.958725452423096</td>\n",
              "      <td>36.40855026245117</td>\n",
              "      <td>-9.737746238708496</td>\n",
              "      <td>15.254233360290527</td>\n",
              "      <td>-14.170998573303223</td>\n",
              "      <td>10.410276412963867</td>\n",
              "      <td>-17.060260772705078</td>\n",
              "      <td>10.742602348327637</td>\n",
              "      <td>-8.677284240722656</td>\n",
              "      <td>7.261038780212402</td>\n",
              "      <td>-6.1175150871276855</td>\n",
              "      <td>3.798163652420044</td>\n",
              "      <td>-7.258312702178955</td>\n",
              "      <td>1.5131957530975342</td>\n",
              "      <td>-6.328612327575684</td>\n",
              "      <td>-2.435218334197998</td>\n",
              "      <td>-0.6880821585655212</td>\n",
              "      <td>-4.048377990722656</td>\n",
              "      <td>2043.343994140625</td>\n",
              "      <td>404.0574035644531</td>\n",
              "      <td>203.54881286621094</td>\n",
              "      <td>69.65924835205078</td>\n",
              "      <td>44.0505256652832</td>\n",
              "      <td>45.18564987182617</td>\n",
              "      <td>79.13491821289062</td>\n",
              "      <td>84.23281860351562</td>\n",
              "      <td>92.67837524414062</td>\n",
              "      <td>63.82047653198242</td>\n",
              "      <td>52.67489242553711</td>\n",
              "      <td>74.76980590820312</td>\n",
              "      <td>95.34527587890625</td>\n",
              "      <td>63.37337875366211</td>\n",
              "      <td>89.67181396484375</td>\n",
              "      <td>84.14729309082031</td>\n",
              "      <td>57.69746398925781</td>\n",
              "      <td>59.74418640136719</td>\n",
              "      <td>51.12548828125</td>\n",
              "      <td>60.1886100769043</td>\n",
              "      <td>jazz</td>\n",
              "    </tr>\n",
              "    <tr>\n",
              "      <th>2989</th>\n",
              "      <td>0.27723076939582825</td>\n",
              "      <td>0.08823870122432709</td>\n",
              "      <td>0.08664507418870926</td>\n",
              "      <td>0.0014173482777550817</td>\n",
              "      <td>1120.0228581191438</td>\n",
              "      <td>160568.80624774445</td>\n",
              "      <td>1517.61746591848</td>\n",
              "      <td>138918.47894490932</td>\n",
              "      <td>1991.3966203233758</td>\n",
              "      <td>802431.2799144879</td>\n",
              "      <td>0.052201910527842225</td>\n",
              "      <td>0.0004362669848497837</td>\n",
              "      <td>0.08037589036655889</td>\n",
              "      <td>0.0202691637316713</td>\n",
              "      <td>-234.01792907714844</td>\n",
              "      <td>158.59124755859375</td>\n",
              "      <td>-9.552678108215332</td>\n",
              "      <td>12.35841178894043</td>\n",
              "      <td>7.872010707855225</td>\n",
              "      <td>8.332592964172363</td>\n",
              "      <td>2.108339786529541</td>\n",
              "      <td>0.8540077805519104</td>\n",
              "      <td>1.765486240386963</td>\n",
              "      <td>3.045700788497925</td>\n",
              "      <td>-1.8633006811141968</td>\n",
              "      <td>1.6102429628372192</td>\n",
              "      <td>1.3882060050964355</td>\n",
              "      <td>5.820078372955322</td>\n",
              "      <td>3.8702902793884277</td>\n",
              "      <td>2.0932068824768066</td>\n",
              "      <td>6.200128078460693</td>\n",
              "      <td>8.01066780090332</td>\n",
              "      <td>5.202455520629883</td>\n",
              "      <td>1.3996154069900513</td>\n",
              "      <td>3751.95361328125</td>\n",
              "      <td>1257.3143310546875</td>\n",
              "      <td>552.6220092773438</td>\n",
              "      <td>158.23773193359375</td>\n",
              "      <td>105.45800018310547</td>\n",
              "      <td>74.42003631591797</td>\n",
              "      <td>35.384918212890625</td>\n",
              "      <td>65.59148406982422</td>\n",
              "      <td>39.19465255737305</td>\n",
              "      <td>45.425636291503906</td>\n",
              "      <td>41.219539642333984</td>\n",
              "      <td>74.16326141357422</td>\n",
              "      <td>86.4702377319336</td>\n",
              "      <td>92.38843536376953</td>\n",
              "      <td>89.12296295166016</td>\n",
              "      <td>127.69730377197266</td>\n",
              "      <td>122.69529724121094</td>\n",
              "      <td>148.3369140625</td>\n",
              "      <td>198.6466827392578</td>\n",
              "      <td>186.0404510498047</td>\n",
              "      <td>jazz</td>\n",
              "    </tr>\n",
              "    <tr>\n",
              "      <th>2990</th>\n",
              "      <td>0.34983590245246887</td>\n",
              "      <td>0.10192414373159409</td>\n",
              "      <td>0.04176275432109833</td>\n",
              "      <td>0.00037135157617740333</td>\n",
              "      <td>1663.6679785535061</td>\n",
              "      <td>146295.46886968083</td>\n",
              "      <td>2119.0365028671863</td>\n",
              "      <td>115166.77119137153</td>\n",
              "      <td>3754.421381054234</td>\n",
              "      <td>1054259.0263087759</td>\n",
              "      <td>0.05270945113109049</td>\n",
              "      <td>0.0006689211481575415</td>\n",
              "      <td>0.11529333444244036</td>\n",
              "      <td>0.033964135256213744</td>\n",
              "      <td>-275.2042236328125</td>\n",
              "      <td>111.77035522460938</td>\n",
              "      <td>0.392300009727478</td>\n",
              "      <td>54.592247009277344</td>\n",
              "      <td>-8.732155799865723</td>\n",
              "      <td>21.23184585571289</td>\n",
              "      <td>-6.094174861907959</td>\n",
              "      <td>18.543062210083008</td>\n",
              "      <td>-14.321152687072754</td>\n",
              "      <td>17.648788452148438</td>\n",
              "      <td>-8.64545726776123</td>\n",
              "      <td>11.68299674987793</td>\n",
              "      <td>-3.180276870727539</td>\n",
              "      <td>8.37198543548584</td>\n",
              "      <td>-8.082032203674316</td>\n",
              "      <td>4.064004898071289</td>\n",
              "      <td>-5.206394195556641</td>\n",
              "      <td>-3.686523914337158</td>\n",
              "      <td>-5.344865322113037</td>\n",
              "      <td>-3.234292507171631</td>\n",
              "      <td>2673.620849609375</td>\n",
              "      <td>301.4124450683594</td>\n",
              "      <td>473.75244140625</td>\n",
              "      <td>69.03954315185547</td>\n",
              "      <td>68.23439025878906</td>\n",
              "      <td>60.09223556518555</td>\n",
              "      <td>36.784427642822266</td>\n",
              "      <td>33.445159912109375</td>\n",
              "      <td>72.441162109375</td>\n",
              "      <td>32.67743682861328</td>\n",
              "      <td>32.17927551269531</td>\n",
              "      <td>40.20078659057617</td>\n",
              "      <td>43.014217376708984</td>\n",
              "      <td>35.116355895996094</td>\n",
              "      <td>43.10495376586914</td>\n",
              "      <td>23.328121185302734</td>\n",
              "      <td>37.137542724609375</td>\n",
              "      <td>20.06511688232422</td>\n",
              "      <td>46.86115264892578</td>\n",
              "      <td>31.581897735595703</td>\n",
              "      <td>jazz</td>\n",
              "    </tr>\n",
              "  </tbody>\n",
              "</table>\n",
              "<p>2991 rows × 55 columns</p>\n",
              "</div>"
            ],
            "text/plain": [
              "                        0                    1  ...                  53 labels\n",
              "0     0.46144622564315796  0.07522960007190704  ...  37.392372131347656  metal\n",
              "1      0.4766130745410919  0.07637028396129608  ...  41.590415954589844  metal\n",
              "2      0.4452823996543884  0.08122172951698303  ...   34.64799499511719  metal\n",
              "3      0.5113515853881836  0.07688184082508087  ...  17.780956268310547  metal\n",
              "4       0.423284649848938  0.07435673475265503  ...  32.230567932128906  metal\n",
              "...                   ...                  ...  ...                 ...    ...\n",
              "2986  0.24399255216121674  0.09698905050754547  ...  43.492218017578125   jazz\n",
              "2987    0.276840478181839  0.09127660095691681  ...  168.72842407226562   jazz\n",
              "2988    0.346861869096756  0.09039967507123947  ...    60.1886100769043   jazz\n",
              "2989  0.27723076939582825  0.08823870122432709  ...   186.0404510498047   jazz\n",
              "2990  0.34983590245246887  0.10192414373159409  ...  31.581897735595703   jazz\n",
              "\n",
              "[2991 rows x 55 columns]"
            ]
          },
          "metadata": {},
          "execution_count": 74
        }
      ]
    },
    {
      "cell_type": "code",
      "metadata": {
        "id": "PukXxcfSbiCr"
      },
      "source": [
        "df.to_csv('features_10sec.csv', index=None)"
      ],
      "execution_count": null,
      "outputs": []
    },
    {
      "cell_type": "code",
      "metadata": {
        "id": "8vy0Az3acGT2",
        "colab": {
          "base_uri": "https://localhost:8080/"
        },
        "outputId": "ceec8c3d-545e-432a-92d1-03c2e8b4fb78"
      },
      "source": [
        "!cp 'features_10sec.csv' /content/"
      ],
      "execution_count": null,
      "outputs": [
        {
          "output_type": "stream",
          "name": "stdout",
          "text": [
            "cp: 'features_10sec.csv' and '/content/features_10sec.csv' are the same file\n"
          ]
        }
      ]
    },
    {
      "cell_type": "code",
      "metadata": {
        "colab": {
          "base_uri": "https://localhost:8080/"
        },
        "id": "Ue0OTB4pFQjz",
        "outputId": "f9f2d839-59b0-4b35-9c33-958ac41dbdf7"
      },
      "source": [
        "def splitData(X,y,test_size=0.2, classes=10):\n",
        "  mapping_dict = {y_:i for i,y_ in enumerate(classes)}\n",
        "  X= np.array(X)\n",
        "  y_categorical = [mapping_dict.get(y_) for y_ in y.ravel()]\n",
        "  y_categorical = np.array(y_categorical)\n",
        "  y_categorical = one_hot(y_categorical,len(classes),dtype=np.int32).numpy()\n",
        "\n",
        "  X_train, X_test, y_train, y_test = train_test_split(X,y_categorical , test_size=test_size)\n",
        "  return X_train, X_test, y_train, y_test\n",
        "\n",
        "X_train, X_test, y_train, y_test = splitData(X, y, test_size=0.2, classes = classes)\n",
        "X_train.shape, X_test.shape, y_train.shape, y_test.shape\n"
      ],
      "execution_count": null,
      "outputs": [
        {
          "output_type": "execute_result",
          "data": {
            "text/plain": [
              "((2392, 54), (599, 54), (2392, 10), (599, 10))"
            ]
          },
          "metadata": {},
          "execution_count": 77
        }
      ]
    },
    {
      "cell_type": "code",
      "metadata": {
        "id": "FjR1wa6HBwXG"
      },
      "source": [
        "def transformScale(X_train,X_test):\n",
        "  mm_scaler = MinMaxScaler((-1,1))\n",
        "  mm_scaler.fit(X_train)\n",
        "  X_train_scaled = mm_scaler.transform(X_train)\n",
        "  X_test_scaled = mm_scaler.transform(X_test)\n",
        "  return X_train_scaled, X_test_scaled, mm_scaler"
      ],
      "execution_count": null,
      "outputs": []
    },
    {
      "cell_type": "code",
      "source": [
        "X_train_scaled, X_test_scaled, mm_scaler = transformScale(X_train,X_test)"
      ],
      "metadata": {
        "id": "5nhk3p8GNLNr"
      },
      "execution_count": null,
      "outputs": []
    },
    {
      "cell_type": "code",
      "metadata": {
        "id": "x_nNORk5J88e"
      },
      "source": [
        "y_train_new = np.argmax(y_train,axis=1)\n",
        "y_test_new  = np.argmax(y_test,axis=1)"
      ],
      "execution_count": null,
      "outputs": []
    },
    {
      "cell_type": "code",
      "metadata": {
        "id": "03yQh38mJsvQ"
      },
      "source": [
        "xgb = XGBClassifier(n_estimators=1000, learning_rate=0.05)\n",
        "xgb.fit(X_train, y_train_new)\n",
        "preds = xgb.predict(X_test)"
      ],
      "execution_count": null,
      "outputs": []
    },
    {
      "cell_type": "markdown",
      "source": [
        "Results for feature based method."
      ],
      "metadata": {
        "id": "iozeJakchuQ5"
      }
    },
    {
      "cell_type": "code",
      "metadata": {
        "colab": {
          "base_uri": "https://localhost:8080/"
        },
        "id": "vCxnFUh6KUmB",
        "outputId": "6a1147ad-1767-44e5-d669-362a79d7eca0"
      },
      "source": [
        "cm = confusion_matrix(y_test_new, preds)\n",
        "print('Accuracy:', round(accuracy_score(y_test_new, preds), 5), '\\n')"
      ],
      "execution_count": null,
      "outputs": [
        {
          "output_type": "stream",
          "name": "stdout",
          "text": [
            "Accuracy: 0.85643 \n",
            "\n"
          ]
        }
      ]
    },
    {
      "cell_type": "code",
      "metadata": {
        "id": "1yVrYDBTKQd7",
        "colab": {
          "base_uri": "https://localhost:8080/",
          "height": 700
        },
        "outputId": "bb22eca9-6bf3-4024-f507-017db10350be"
      },
      "source": [
        "df_cm = pd.DataFrame(cm,columns=classes, index=classes)\n",
        "plt.figure(figsize = (15,12))\n",
        "sns.heatmap(df_cm, annot=True, annot_kws={\"size\": 12}, fmt='g', cmap='Blues')\n",
        "plt.savefig('heatmap')"
      ],
      "execution_count": null,
      "outputs": [
        {
          "output_type": "display_data",
          "data": {
            "image/png": "[encoded data removed]",
            "text/plain": [
              "<Figure size 1080x864 with 2 Axes>"
            ]
          },
          "metadata": {}
        }
      ]
    },
    {
      "cell_type": "markdown",
      "source": [
        "## CNN for Music Classification"
      ],
      "metadata": {
        "id": "jxZq0-s4YcDn"
      }
    },
    {
      "cell_type": "code",
      "source": [
        "class MusicDataset(Dataset):\n",
        "    def __init__(self, root):\n",
        "        super().__init__()\n",
        "        self.root = root\n",
        "        self.fpaths =  [fname for _,_,fname in os.walk(root) if fname]\n",
        "        self.files = []\n",
        "        for fname in self.fpaths:\n",
        "          for f in fname:\n",
        "            if f.endswith('.wav'):\n",
        "              self.files.append(f)\n",
        "        self.classes = list(set(parse_genres(fname) for fname in self.files))\n",
        "        self.max_len = 22050*10\n",
        "        #self.transform = transform\n",
        "\n",
        "    def __len__(self):\n",
        "        return len(self.files)\n",
        "\n",
        "    def __getitem__(self, i):\n",
        "        audio, class_idx = self.process(i)\n",
        "        return audio, class_idx\n",
        "        \n",
        "    def process(self, i):\n",
        "        fname = self.files[i]\n",
        "        fpath = os.path.join(self.root,parse_genres(fname), fname)\n",
        "        audio = torchaudio.load(fpath)[0]\n",
        "\n",
        "        if audio.shape[1] < self.max_len:\n",
        "            pad = np.zeros((self.max_len-audio.shape[1],1)).ravel()\n",
        "            audio = np.hstack([audio[0],pad])\n",
        "            audio = torch.FloatTensor(audio)\n",
        "            audio = torch.unsqueeze(audio, dim=0)\n",
        "            \n",
        "        class_idx = self.classes.index(parse_genres(fname))\n",
        "        return audio, class_idx"
      ],
      "metadata": {
        "id": "wWQvAtwqYfjy"
      },
      "execution_count": null,
      "outputs": []
    },
    {
      "cell_type": "code",
      "source": [
        "dataset = MusicDataset(new_dir)\n",
        "print(len(dataset))\n",
        "dataset[0]\n"
      ],
      "metadata": {
        "colab": {
          "base_uri": "https://localhost:8080/"
        },
        "id": "Klj3n5DRYgNH",
        "outputId": "ff2c76d8-0f4f-49a8-8308-cbbc3289ee8a"
      },
      "execution_count": null,
      "outputs": [
        {
          "output_type": "stream",
          "name": "stdout",
          "text": [
            "3000\n"
          ]
        },
        {
          "output_type": "execute_result",
          "data": {
            "text/plain": [
              "(tensor([[-0.0047,  0.0135,  0.0172,  ...,  0.1613,  0.2242,  0.2332]]), 3)"
            ]
          },
          "metadata": {},
          "execution_count": 23
        }
      ]
    },
    {
      "cell_type": "code",
      "metadata": {
        "colab": {
          "base_uri": "https://localhost:8080/"
        },
        "id": "XTFdRIgKTtq4",
        "outputId": "279b05ee-c4cf-42c1-a4f2-d61da19da1fb"
      },
      "source": [
        "random_seed = 42\n",
        "torch.manual_seed(random_seed);\n",
        "val_size = 600\n",
        "train_size = len(dataset) - val_size\n",
        "\n",
        "train_ds, val_ds = random_split(dataset, [train_size, val_size])\n",
        "len(train_ds), len(val_ds)"
      ],
      "execution_count": null,
      "outputs": [
        {
          "output_type": "execute_result",
          "data": {
            "text/plain": [
              "(2400, 600)"
            ]
          },
          "metadata": {},
          "execution_count": 24
        }
      ]
    },
    {
      "cell_type": "code",
      "metadata": {
        "id": "gXXV-010TwEK"
      },
      "source": [
        "from torch.utils.data import DataLoader\n",
        "batch_size = 16\n",
        "\n",
        "train_dl = DataLoader(train_ds, batch_size, shuffle=True, num_workers=4, pin_memory=True)\n",
        "valid_dl = DataLoader(val_ds, batch_size*2, num_workers=4, pin_memory=True)"
      ],
      "execution_count": null,
      "outputs": []
    },
    {
      "cell_type": "code",
      "metadata": {
        "id": "-1tgm_ZiTyiX"
      },
      "source": [
        "def get_default_device():\n",
        "    if torch.cuda.is_available():\n",
        "        return torch.device('cuda')\n",
        "    else:\n",
        "        return torch.device('cpu')\n",
        "    \n",
        "def to_device(data, device):\n",
        "    if isinstance(data, (list,tuple)):\n",
        "        return [to_device(x, device) for x in data]\n",
        "    return data.to(device, non_blocking=True)\n",
        "\n",
        "class DeviceDataLoader():\n",
        "    def __init__(self, dl, device):\n",
        "        self.dl = dl\n",
        "        self.device = device\n",
        "        \n",
        "    def __iter__(self):\n",
        "        for b in self.dl: \n",
        "            yield to_device(b, self.device)\n",
        "\n",
        "    def __len__(self):\n",
        "        return len(self.dl)"
      ],
      "execution_count": null,
      "outputs": []
    },
    {
      "cell_type": "code",
      "metadata": {
        "colab": {
          "base_uri": "https://localhost:8080/"
        },
        "id": "XikxtaGvT0G8",
        "outputId": "f4831852-3e02-43e6-d13e-05b5fdace4f3"
      },
      "source": [
        "device = get_default_device()\n",
        "device"
      ],
      "execution_count": null,
      "outputs": [
        {
          "output_type": "execute_result",
          "data": {
            "text/plain": [
              "device(type='cuda')"
            ]
          },
          "metadata": {},
          "execution_count": 38
        }
      ]
    },
    {
      "cell_type": "code",
      "metadata": {
        "id": "9MfiPSq7T2dJ"
      },
      "source": [
        "train_dl = DeviceDataLoader(train_dl, device)\n",
        "valid_dl = DeviceDataLoader(valid_dl, device)"
      ],
      "execution_count": null,
      "outputs": []
    },
    {
      "cell_type": "code",
      "source": [
        "for batch in train_dl:\n",
        "  audio = batch[0]\n",
        "  print(audio.shape)\n",
        "  break"
      ],
      "metadata": {
        "colab": {
          "base_uri": "https://localhost:8080/"
        },
        "id": "TK3Ike9_Zoha",
        "outputId": "1d804d9a-f462-437f-ec2d-02e79a0f70bb"
      },
      "execution_count": null,
      "outputs": [
        {
          "output_type": "stream",
          "name": "stdout",
          "text": [
            "torch.Size([16, 1, 220500])\n"
          ]
        }
      ]
    },
    {
      "cell_type": "code",
      "metadata": {
        "id": "ojqZEl7qT-Kk"
      },
      "source": [
        "def accuracy(outputs, labels):\n",
        "    _, preds = torch.max(outputs, dim=1)\n",
        "    return torch.tensor(torch.sum(preds == labels).item() / len(preds))\n",
        "\n",
        "class MusicgenreClassificationBase(nn.Module):\n",
        "    def training_step(self, batch):\n",
        "        audios, labels = batch \n",
        "        out = self(audios)                  # Generate predictions\n",
        "        loss = F.cross_entropy(out, labels) # Calculate loss\n",
        "        return loss\n",
        "    \n",
        "    def validation_step(self, batch):\n",
        "        audios, labels = batch \n",
        "        out = self(audios)                    # Generate predictions\n",
        "        loss = F.cross_entropy(out, labels)   # Calculate loss\n",
        "        acc = accuracy(out, labels)           # Calculate accuracy\n",
        "        return {'val_loss': loss.detach(), 'val_acc': acc}\n",
        "        \n",
        "    def validation_epoch_end(self, outputs):\n",
        "        batch_losses = [x['val_loss'] for x in outputs]\n",
        "        epoch_loss = torch.stack(batch_losses).mean()   # Combine losses\n",
        "        batch_accs = [x['val_acc'] for x in outputs]\n",
        "        epoch_acc = torch.stack(batch_accs).mean()      # Combine accuracies\n",
        "        return {'val_loss': epoch_loss.item(), 'val_acc': epoch_acc.item()}\n",
        "    \n",
        "    def epoch_end(self, epoch, result):\n",
        "        print(\"Epoch [{}], last_lr: {:.5f}, train_loss: {:.4f}, val_loss: {:.4f}, val_acc: {:.4f}\".format(\n",
        "            epoch, result['lrs'][-1], result['train_loss'], result['val_loss'], result['val_acc']))"
      ],
      "execution_count": null,
      "outputs": []
    },
    {
      "cell_type": "code",
      "metadata": {
        "id": "XNFYNbDVT0Ik"
      },
      "source": [
        "def conv_block(in_channels, out_channels, pool=False):\n",
        "    layers = [nn.Conv2d(in_channels, out_channels, kernel_size=3, padding=1), \n",
        "              nn.BatchNorm2d(out_channels), \n",
        "              nn.ReLU(inplace=True)]\n",
        "    if pool: layers.append(nn.MaxPool2d(2))\n",
        "    return nn.Sequential(*layers)\n",
        "\n",
        "def conv_block1(in_channels, out_channels, pool=False):\n",
        "    layers = [nn.Conv1d(in_channels, out_channels, kernel_size=11, padding=5), \n",
        "              nn.BatchNorm1d(out_channels), \n",
        "              nn.ReLU(inplace=True)]\n",
        "    if pool: layers.append(nn.MaxPool1d(100))\n",
        "    return nn.Sequential(*layers)\n",
        "\n",
        "def conv_block2(in_channels, out_channels, pool=False):\n",
        "    layers = [nn.Conv1d(in_channels, out_channels, kernel_size=51, padding=30), \n",
        "              nn.BatchNorm1d(out_channels), \n",
        "              nn.ReLU(inplace=True)]\n",
        "    if pool: layers.append(nn.MaxPool1d(100))\n",
        "    return nn.Sequential(*layers)\n",
        "\n",
        "def conv_block3(in_channels, out_channels, pool=False):\n",
        "    layers = [nn.Conv1d(in_channels, out_channels, kernel_size=101, padding=50), \n",
        "              nn.BatchNorm1d(out_channels), \n",
        "              nn.ReLU(inplace=True)]\n",
        "    if pool: layers.append(nn.MaxPool1d(100))\n",
        "    return nn.Sequential(*layers)"
      ],
      "execution_count": null,
      "outputs": []
    },
    {
      "cell_type": "code",
      "source": [
        "\n",
        "class MusicClassificationModel(MusicgenreClassificationBase):\n",
        "    def __init__(self, in_channels, num_classes):\n",
        "        super().__init__()\n",
        "        \n",
        "        self.conv1 = conv_block1(in_channels, 32,pool=True)\n",
        "        self.conv2 = conv_block2(in_channels, 32,pool=True) \n",
        "        self.conv3 = conv_block3(in_channels, 32,pool=True)\n",
        "        \n",
        "        self.conv_1 = conv_block(3, 64)\n",
        "        self.conv_2 = conv_block(64, 128, pool=True)\n",
        "        self.res1 = nn.Sequential(conv_block(128, 128), conv_block(128, 128))      \n",
        "        self.conv_3 = conv_block(128, 256, pool=True)\n",
        "        self.conv_4 = conv_block(256, 512, pool=True)\n",
        "        self.res2 = nn.Sequential(conv_block(512, 512), conv_block(512, 512))       \n",
        "        self.classifier = nn.Sequential(nn.MaxPool2d(4), \n",
        "                                        nn.Flatten(), \n",
        "                                        nn.Dropout(0.2))\n",
        "                                     \n",
        "        self.linear1 = nn.Linear(34816, 2000)\n",
        "        # output layer\n",
        "        self.linear2 = nn.Linear(2000, 100)\n",
        "        self.linear3 = nn.Linear(100, num_classes)\n",
        "\n",
        "    def forward(self, xb):\n",
        "        out1 = self.conv1(xb)\n",
        "        out2 = self.conv2(xb)\n",
        "        out3 = self.conv3(xb)\n",
        "        out_new=torch.stack((out1,out2,out3),dim=1)\n",
        "        out = self.conv_1(out_new)\n",
        "        out = self.conv_2(out)\n",
        "        out = self.res1(out) + out\n",
        "        out = self.conv_3(out)\n",
        "        out = self.conv_4(out)\n",
        "        out = self.res2(out) + out\n",
        "        out_1 = self.classifier(out)\n",
        "        xb = out_1.view(out_1.size(0), -1)\n",
        "        out= self.linear1(xb)\n",
        "        out=F.relu(out)  \n",
        "        out=self.linear2(out)\n",
        "        out=F.relu(out)  \n",
        "        out=self.linear3(out)\n",
        "        return out"
      ],
      "metadata": {
        "id": "djNJTFjkZGRK"
      },
      "execution_count": null,
      "outputs": []
    },
    {
      "cell_type": "code",
      "metadata": {
        "colab": {
          "base_uri": "https://localhost:8080/"
        },
        "id": "0Sx-zuS6UESQ",
        "outputId": "5fd5267d-e6f9-41f3-94d8-531f3dab903f"
      },
      "source": [
        "model = to_device(MusicClassificationModel(1, 10), device)\n",
        "model"
      ],
      "execution_count": null,
      "outputs": [
        {
          "output_type": "execute_result",
          "data": {
            "text/plain": [
              "MusicClassificationModel(\n",
              "  (conv1): Sequential(\n",
              "    (0): Conv1d(1, 32, kernel_size=(11,), stride=(1,), padding=(5,))\n",
              "    (1): BatchNorm1d(32, eps=1e-05, momentum=0.1, affine=True, track_running_stats=True)\n",
              "    (2): ReLU(inplace=True)\n",
              "    (3): MaxPool1d(kernel_size=100, stride=100, padding=0, dilation=1, ceil_mode=False)\n",
              "  )\n",
              "  (conv2): Sequential(\n",
              "    (0): Conv1d(1, 32, kernel_size=(51,), stride=(1,), padding=(30,))\n",
              "    (1): BatchNorm1d(32, eps=1e-05, momentum=0.1, affine=True, track_running_stats=True)\n",
              "    (2): ReLU(inplace=True)\n",
              "    (3): MaxPool1d(kernel_size=100, stride=100, padding=0, dilation=1, ceil_mode=False)\n",
              "  )\n",
              "  (conv3): Sequential(\n",
              "    (0): Conv1d(1, 32, kernel_size=(101,), stride=(1,), padding=(50,))\n",
              "    (1): BatchNorm1d(32, eps=1e-05, momentum=0.1, affine=True, track_running_stats=True)\n",
              "    (2): ReLU(inplace=True)\n",
              "    (3): MaxPool1d(kernel_size=100, stride=100, padding=0, dilation=1, ceil_mode=False)\n",
              "  )\n",
              "  (conv_1): Sequential(\n",
              "    (0): Conv2d(3, 64, kernel_size=(3, 3), stride=(1, 1), padding=(1, 1))\n",
              "    (1): BatchNorm2d(64, eps=1e-05, momentum=0.1, affine=True, track_running_stats=True)\n",
              "    (2): ReLU(inplace=True)\n",
              "  )\n",
              "  (conv_2): Sequential(\n",
              "    (0): Conv2d(64, 128, kernel_size=(3, 3), stride=(1, 1), padding=(1, 1))\n",
              "    (1): BatchNorm2d(128, eps=1e-05, momentum=0.1, affine=True, track_running_stats=True)\n",
              "    (2): ReLU(inplace=True)\n",
              "    (3): MaxPool2d(kernel_size=2, stride=2, padding=0, dilation=1, ceil_mode=False)\n",
              "  )\n",
              "  (res1): Sequential(\n",
              "    (0): Sequential(\n",
              "      (0): Conv2d(128, 128, kernel_size=(3, 3), stride=(1, 1), padding=(1, 1))\n",
              "      (1): BatchNorm2d(128, eps=1e-05, momentum=0.1, affine=True, track_running_stats=True)\n",
              "      (2): ReLU(inplace=True)\n",
              "    )\n",
              "    (1): Sequential(\n",
              "      (0): Conv2d(128, 128, kernel_size=(3, 3), stride=(1, 1), padding=(1, 1))\n",
              "      (1): BatchNorm2d(128, eps=1e-05, momentum=0.1, affine=True, track_running_stats=True)\n",
              "      (2): ReLU(inplace=True)\n",
              "    )\n",
              "  )\n",
              "  (conv_3): Sequential(\n",
              "    (0): Conv2d(128, 256, kernel_size=(3, 3), stride=(1, 1), padding=(1, 1))\n",
              "    (1): BatchNorm2d(256, eps=1e-05, momentum=0.1, affine=True, track_running_stats=True)\n",
              "    (2): ReLU(inplace=True)\n",
              "    (3): MaxPool2d(kernel_size=2, stride=2, padding=0, dilation=1, ceil_mode=False)\n",
              "  )\n",
              "  (conv_4): Sequential(\n",
              "    (0): Conv2d(256, 512, kernel_size=(3, 3), stride=(1, 1), padding=(1, 1))\n",
              "    (1): BatchNorm2d(512, eps=1e-05, momentum=0.1, affine=True, track_running_stats=True)\n",
              "    (2): ReLU(inplace=True)\n",
              "    (3): MaxPool2d(kernel_size=2, stride=2, padding=0, dilation=1, ceil_mode=False)\n",
              "  )\n",
              "  (res2): Sequential(\n",
              "    (0): Sequential(\n",
              "      (0): Conv2d(512, 512, kernel_size=(3, 3), stride=(1, 1), padding=(1, 1))\n",
              "      (1): BatchNorm2d(512, eps=1e-05, momentum=0.1, affine=True, track_running_stats=True)\n",
              "      (2): ReLU(inplace=True)\n",
              "    )\n",
              "    (1): Sequential(\n",
              "      (0): Conv2d(512, 512, kernel_size=(3, 3), stride=(1, 1), padding=(1, 1))\n",
              "      (1): BatchNorm2d(512, eps=1e-05, momentum=0.1, affine=True, track_running_stats=True)\n",
              "      (2): ReLU(inplace=True)\n",
              "    )\n",
              "  )\n",
              "  (classifier): Sequential(\n",
              "    (0): MaxPool2d(kernel_size=4, stride=4, padding=0, dilation=1, ceil_mode=False)\n",
              "    (1): Flatten(start_dim=1, end_dim=-1)\n",
              "    (2): Dropout(p=0.2, inplace=False)\n",
              "  )\n",
              "  (linear1): Linear(in_features=34816, out_features=2000, bias=True)\n",
              "  (linear2): Linear(in_features=2000, out_features=100, bias=True)\n",
              "  (linear3): Linear(in_features=100, out_features=10, bias=True)\n",
              ")"
            ]
          },
          "metadata": {},
          "execution_count": 49
        }
      ]
    },
    {
      "cell_type": "code",
      "metadata": {
        "id": "2PhGv2sMUFpJ"
      },
      "source": [
        "@torch.no_grad()\n",
        "def evaluate(model, val_loader):\n",
        "    model.eval()\n",
        "    outputs = [model.validation_step(batch) for batch in val_loader]\n",
        "    return model.validation_epoch_end(outputs)\n",
        "\n",
        "def get_lr(optimizer):\n",
        "    for param_group in optimizer.param_groups:\n",
        "        return param_group['lr']\n",
        "\n",
        "def fit_one_cycle(epochs, max_lr, model, train_loader, val_loader, \n",
        "                  weight_decay=0, grad_clip=None, opt_func=torch.optim.SGD):\n",
        "    torch.cuda.empty_cache()\n",
        "    history = []\n",
        "    \n",
        "    # Set up cutom optimizer with weight decay\n",
        "    optimizer = opt_func(model.parameters(), max_lr, weight_decay=weight_decay)\n",
        "    # Set up one-cycle learning rate scheduler\n",
        "    sched = torch.optim.lr_scheduler.OneCycleLR(optimizer, max_lr, epochs=epochs, \n",
        "                                                steps_per_epoch=len(train_loader))\n",
        "    \n",
        "    for epoch in tqdm.tqdm_notebook(range(epochs)):\n",
        "        # Training Phase \n",
        "        model.train()\n",
        "        train_losses = []\n",
        "        lrs = []\n",
        "        for batch in train_loader:\n",
        "            loss = model.training_step(batch)\n",
        "            train_losses.append(loss)\n",
        "            loss.backward()\n",
        "            \n",
        "            # Gradient clipping\n",
        "            if grad_clip: \n",
        "                nn.utils.clip_grad_value_(model.parameters(), grad_clip)\n",
        "            \n",
        "            optimizer.step()\n",
        "            optimizer.zero_grad()\n",
        "            \n",
        "            # Record & update learning rate\n",
        "            lrs.append(get_lr(optimizer))\n",
        "            sched.step()\n",
        "        \n",
        "        # Validation phase\n",
        "        result = evaluate(model, val_loader)\n",
        "        result['train_loss'] = torch.stack(train_losses).mean().item()\n",
        "        result['lrs'] = lrs\n",
        "        \n",
        "        model.epoch_end(epoch, result)\n",
        "        history.append(result)\n",
        "    return history"
      ],
      "execution_count": null,
      "outputs": []
    },
    {
      "cell_type": "code",
      "metadata": {
        "colab": {
          "base_uri": "https://localhost:8080/"
        },
        "id": "XGsLeydXUFrq",
        "outputId": "b8066dca-5173-48de-831d-4c195a71c4cf"
      },
      "source": [
        "#%%time\n",
        "history = [evaluate(model, valid_dl)]\n",
        "history"
      ],
      "execution_count": null,
      "outputs": [
        {
          "output_type": "execute_result",
          "data": {
            "text/plain": [
              "[{'val_acc': 0.10745613276958466, 'val_loss': 2.6992573738098145}]"
            ]
          },
          "metadata": {},
          "execution_count": 55
        }
      ]
    },
    {
      "cell_type": "code",
      "metadata": {
        "id": "UNNrqLEgUFuB"
      },
      "source": [
        "epochs = 20\n",
        "max_lr = 0.005\n",
        "grad_clip = 0.1\n",
        "weight_decay = 1e-4\n",
        "opt_func = torch.optim.Adam"
      ],
      "execution_count": null,
      "outputs": []
    },
    {
      "cell_type": "markdown",
      "source": [
        "This cell is optional, I ran it once and got 80% accuracy but the second time it did not optimize correctly and ended up overfitting, we can see val_loss>> train_loss. So may run it or may not run it"
      ],
      "metadata": {
        "id": "7Obx00OMiEz0"
      }
    },
    {
      "cell_type": "code",
      "metadata": {
        "colab": {
          "base_uri": "https://localhost:8080/",
          "height": 483,
          "referenced_widgets": [
            "e51c5ed6945244729056e3bcdb0a8e8b",
            "b60266fe1b01428e948c38cbe6f864ac",
            "e8f9aca2b69242e9aa71fc46e6076517",
            "0250a235791f4b45a975886240b6058a",
            "9f7fe490dfd94c76b80474000ebccf69",
            "9c253a938dc142cf80e89522e6ffaae9",
            "27456da842f44004b0fc5c93aa8ec01d",
            "15628ca89279460899cdb7be24dd3fa3",
            "85eac9cfb9ac4cf1a8ca64147afd81d9",
            "89771a55181c4f5db0df0b3162b9c6df",
            "2af6836ac92c437b97acc7aad0f38fb1"
          ]
        },
        "id": "3axEqwIiUFwX",
        "outputId": "1726636a-f3f1-44bd-a1fb-ebeedacb7e4f"
      },
      "source": [
        "%%time\n",
        "history += fit_one_cycle(epochs, max_lr, model, train_dl, valid_dl, \n",
        "                             grad_clip=grad_clip, \n",
        "                             weight_decay=weight_decay, \n",
        "                             opt_func=opt_func)"
      ],
      "execution_count": null,
      "outputs": [
        {
          "output_type": "stream",
          "name": "stderr",
          "text": [
            "/usr/local/lib/python3.7/dist-packages/ipykernel_launcher.py:22: TqdmDeprecationWarning: This function will be removed in tqdm==5.0.0\n",
            "Please use `tqdm.notebook.tqdm` instead of `tqdm.tqdm_notebook`\n"
          ]
        },
        {
          "output_type": "display_data",
          "data": {
            "application/vnd.jupyter.widget-view+json": {
              "model_id": "e51c5ed6945244729056e3bcdb0a8e8b",
              "version_minor": 0,
              "version_major": 2
            },
            "text/plain": [
              "  0%|          | 0/25 [00:00<?, ?it/s]"
            ]
          },
          "metadata": {}
        },
        {
          "output_type": "stream",
          "name": "stdout",
          "text": [
            "Epoch [0], last_lr: 0.00041, train_loss: 0.6742, val_loss: 1.2819, val_acc: 0.5658\n",
            "Epoch [1], last_lr: 0.00099, train_loss: 0.7304, val_loss: 1.2989, val_acc: 0.5938\n",
            "Epoch [2], last_lr: 0.00185, train_loss: 0.7806, val_loss: 1.5527, val_acc: 0.5636\n",
            "Epoch [3], last_lr: 0.00285, train_loss: 0.8250, val_loss: 1.7368, val_acc: 0.5219\n",
            "Epoch [4], last_lr: 0.00380, train_loss: 0.9389, val_loss: 1.8492, val_acc: 0.5027\n",
            "Epoch [5], last_lr: 0.00454, train_loss: 1.0585, val_loss: 1.7462, val_acc: 0.5493\n",
            "Epoch [6], last_lr: 0.00495, train_loss: 1.0940, val_loss: 1.3689, val_acc: 0.5345\n",
            "Epoch [7], last_lr: 0.00499, train_loss: 1.0353, val_loss: 1.4040, val_acc: 0.5378\n",
            "Epoch [8], last_lr: 0.00491, train_loss: 0.8661, val_loss: 2.4970, val_acc: 0.5005\n",
            "Epoch [9], last_lr: 0.00475, train_loss: 0.8426, val_loss: 1.4767, val_acc: 0.5789\n",
            "Epoch [10], last_lr: 0.00452, train_loss: 0.8046, val_loss: 1.7747, val_acc: 0.5334\n",
            "Epoch [11], last_lr: 0.00423, train_loss: 0.6055, val_loss: 1.4326, val_acc: 0.6124\n",
            "Epoch [12], last_lr: 0.00388, train_loss: 0.5827, val_loss: 1.3891, val_acc: 0.6025\n",
            "Epoch [13], last_lr: 0.00348, train_loss: 0.4619, val_loss: 1.5840, val_acc: 0.6014\n",
            "Epoch [14], last_lr: 0.00306, train_loss: 0.4264, val_loss: 1.5338, val_acc: 0.6036\n",
            "Epoch [15], last_lr: 0.00261, train_loss: 0.4443, val_loss: 1.6150, val_acc: 0.5916\n",
            "Epoch [16], last_lr: 0.00216, train_loss: 0.3335, val_loss: 1.5952, val_acc: 0.6212\n",
            "Epoch [17], last_lr: 0.00173, train_loss: 0.2185, val_loss: 1.6209, val_acc: 0.6332\n",
            "Epoch [18], last_lr: 0.00132, train_loss: 0.1874, val_loss: 1.7362, val_acc: 0.6080\n",
            "Epoch [19], last_lr: 0.00094, train_loss: 0.1459, val_loss: 1.7444, val_acc: 0.6184\n",
            "Epoch [20], last_lr: 0.00062, train_loss: 0.1003, val_loss: 1.7958, val_acc: 0.6283\n",
            "Epoch [21], last_lr: 0.00035, train_loss: 0.0963, val_loss: 1.7622, val_acc: 0.6305\n",
            "Epoch [22], last_lr: 0.00016, train_loss: 0.0874, val_loss: 1.8023, val_acc: 0.6179\n"
          ]
        }
      ]
    },
    {
      "cell_type": "code",
      "metadata": {
        "id": "DU-M3NDmUFyu"
      },
      "source": [
        "def plot_accuracies(history):\n",
        "    accuracies = [x['val_acc'] for x in history]\n",
        "    plt.plot(accuracies, '-x')\n",
        "    plt.xlabel('epoch')\n",
        "    plt.ylabel('accuracy')\n",
        "    plt.title('Accuracy vs. No. of epochs');"
      ],
      "execution_count": null,
      "outputs": []
    },
    {
      "cell_type": "code",
      "metadata": {
        "colab": {
          "base_uri": "https://localhost:8080/",
          "height": 295
        },
        "id": "QZWFsOiSTpbd",
        "outputId": "770024ab-8f2f-4d64-da36-2e81ece049d0"
      },
      "source": [
        "plot_accuracies(history)\n"
      ],
      "execution_count": null,
      "outputs": [
        {
          "data": {
            "image/png": "[encoded data removed]",
            "text/plain": [
              "<Figure size 432x288 with 1 Axes>"
            ]
          },
          "metadata": {},
          "output_type": "display_data"
        }
      ]
    },
    {
      "cell_type": "code",
      "metadata": {
        "id": "OI93TiDtURYa"
      },
      "source": [
        "def plot_losses(history):\n",
        "    train_losses = [x.get('train_loss') for x in history]\n",
        "    val_losses = [x['val_loss'] for x in history]\n",
        "    plt.plot(train_losses, '-bx')\n",
        "    plt.plot(val_losses, '-rx')\n",
        "    plt.xlabel('epoch')\n",
        "    plt.ylabel('loss')\n",
        "    plt.legend(['Training', 'Validation'])\n",
        "    plt.title('Loss vs. No. of epochs');"
      ],
      "execution_count": null,
      "outputs": []
    },
    {
      "cell_type": "code",
      "metadata": {
        "colab": {
          "base_uri": "https://localhost:8080/",
          "height": 295
        },
        "id": "IhumCqkvURaw",
        "outputId": "238e3a36-ef3b-4620-8663-2d8546765e9c"
      },
      "source": [
        "plot_losses(history)"
      ],
      "execution_count": null,
      "outputs": [
        {
          "data": {
            "image/png": "[encoded data removed]",
            "text/plain": [
              "<Figure size 432x288 with 1 Axes>"
            ]
          },
          "metadata": {},
          "output_type": "display_data"
        }
      ]
    },
    {
      "cell_type": "code",
      "metadata": {
        "id": "fxb1K8YIUUSI"
      },
      "source": [
        "def plot_lrs(history):\n",
        "    lrs = np.concatenate([x.get('lrs', []) for x in history])\n",
        "    plt.plot(lrs)\n",
        "    plt.xlabel('Batch no.')\n",
        "    plt.ylabel('Learning rate')\n",
        "    plt.title('Learning Rate vs. Batch no.');"
      ],
      "execution_count": null,
      "outputs": []
    },
    {
      "cell_type": "code",
      "metadata": {
        "colab": {
          "base_uri": "https://localhost:8080/",
          "height": 295
        },
        "id": "RNwFce2UUUUj",
        "outputId": "186e2c0b-e3e1-4bdf-9976-ffe9310534d8"
      },
      "source": [
        "plot_lrs(history)\n"
      ],
      "execution_count": null,
      "outputs": [
        {
          "data": {
            "image/png": "[encoded data removed]",
            "text/plain": [
              "<Figure size 432x288 with 1 Axes>"
            ]
          },
          "metadata": {},
          "output_type": "display_data"
        }
      ]
    },
    {
      "cell_type": "code",
      "metadata": {
        "id": "ZEl9e4heUUWg"
      },
      "source": [
        "def load_gtzan_item(fileid: str, path: str, ext_audio: str):\n",
        "    \"\"\"\n",
        "    Loads a file from the dataset and returns the raw waveform\n",
        "    as a Torch Tensor, its sample rate as an integer, and its\n",
        "    genre as a string.\n",
        "    \"\"\"\n",
        "    # Filenames are of the form label.id, e.g. blues.00078\n",
        "    label, _ = fileid.split(\".\")\n",
        "\n",
        "    # Read wav\n",
        "    file_audio = os.path.join(path, label, fileid + ext_audio)\n",
        "    waveform, sample_rate = torchaudio.load(file_audio)\n",
        "\n",
        "    return waveform, sample_rate, label\n",
        "class TestDataset(GTZAN):\n",
        "   def __getitem__(self, n: int):\n",
        "        fileid = self._walker[n]\n",
        "        item = load_gtzan_item(fileid, self._path, self._ext_audio)\n",
        "        waveform, sample_rate, label = item\n",
        "        label = classes.index(label)\n",
        "        return waveform, label"
      ],
      "execution_count": null,
      "outputs": []
    },
    {
      "cell_type": "code",
      "metadata": {
        "id": "9IluQR7fUagt"
      },
      "source": [
        "#test_dataset = TestDataset(root=\".\", download=False)\n"
      ],
      "execution_count": null,
      "outputs": []
    },
    {
      "cell_type": "code",
      "metadata": {
        "id": "gfDIzZA1Ub3e"
      },
      "source": [
        "#test_dataset[0]\n"
      ],
      "execution_count": null,
      "outputs": []
    },
    {
      "cell_type": "code",
      "metadata": {
        "id": "FNckqAonUeU2"
      },
      "source": [
        "test_dl = DataLoader(val_ds,1,shuffle=True, num_workers=4, pin_memory=True)\n",
        "test_dl=DeviceDataLoader(test_dl,device)"
      ],
      "execution_count": null,
      "outputs": []
    },
    {
      "cell_type": "code",
      "metadata": {
        "id": "zRZxYVh0UhZv"
      },
      "source": [
        "def predict_audio(audio, model):\n",
        "    # Convert to a batch of 1\n",
        "    xb = audio\n",
        "    # Get predictions from model\n",
        "    yb = model(xb)\n",
        "    # Pick index with highest probability\n",
        "    _, preds  = torch.max(yb, dim=1)\n",
        "    # Retrieve the class label\n",
        "    return classes[preds[0].item()]\n",
        "actuals=[]\n",
        "predictions=[]\n",
        "for audio,label in test_dl:\n",
        "  # print(\"Actual label: {}\".format(classes[label[0].item()]))\n",
        "  # print( 'Predicted Label: ', predict_audio(audio, model))\n",
        "  actuals.append(classes[label[0].item()])\n",
        "  predictions.append(predict_audio(audio, model))"
      ],
      "execution_count": null,
      "outputs": []
    },
    {
      "cell_type": "markdown",
      "source": [
        "This is the result for neural network based method."
      ],
      "metadata": {
        "id": "szEvxNCIiKyf"
      }
    },
    {
      "cell_type": "markdown",
      "source": [
        ""
      ],
      "metadata": {
        "id": "uFp4WhpoiKwW"
      }
    },
    {
      "cell_type": "code",
      "metadata": {
        "colab": {
          "base_uri": "https://localhost:8080/"
        },
        "id": "Pu_tlaJwWtsi",
        "outputId": "5bc294ff-6412-4fac-8548-6c897d969213"
      },
      "source": [
        "print(classification_report(actuals,predictions))"
      ],
      "execution_count": null,
      "outputs": [
        {
          "name": "stdout",
          "output_type": "stream",
          "text": [
            "              precision    recall  f1-score   support\n",
            "\n",
            "       blues       0.86      0.79      0.82       150\n",
            "   classical       0.89      0.83      0.86       141\n",
            "     country       0.78      0.88      0.83       139\n",
            "       disco       0.84      0.79      0.81       150\n",
            "      hiphop       0.88      0.91      0.90       159\n",
            "        jazz       0.72      0.74      0.73       141\n",
            "       metal       0.84      0.85      0.84       145\n",
            "         pop       0.72      0.68      0.70       148\n",
            "      reggae       0.82      0.83      0.83       170\n",
            "        rock       0.88      0.93      0.90       157\n",
            "\n",
            "    accuracy                           0.82      1500\n",
            "   macro avg       0.82      0.82      0.82      1500\n",
            "weighted avg       0.82      0.82      0.82      1500\n",
            "\n"
          ]
        }
      ]
    },
    {
      "cell_type": "code",
      "metadata": {
        "id": "mm1Esnq2VURj"
      },
      "source": [
        "saved_path = '/content/music_model.pt' "
      ],
      "execution_count": null,
      "outputs": []
    },
    {
      "cell_type": "code",
      "metadata": {
        "id": "gXlmHq7cTM1_"
      },
      "source": [
        "torch.save(model.state_dict(),saved_path)"
      ],
      "execution_count": null,
      "outputs": []
    },
    {
      "cell_type": "code",
      "metadata": {
        "colab": {
          "base_uri": "https://localhost:8080/"
        },
        "id": "C2bBPG17Tke0",
        "outputId": "bba7681c-6c02-4052-ada9-904d8edded53"
      },
      "source": [
        "music_dict = torch.load(saved_path)\n",
        "music_model = to_device(multitemporalfeturemap(1, 10), device)\n",
        "music_model.load_state_dict(music_dict)"
      ],
      "execution_count": null,
      "outputs": [
        {
          "data": {
            "text/plain": [
              "<All keys matched successfully>"
            ]
          },
          "execution_count": 78,
          "metadata": {},
          "output_type": "execute_result"
        }
      ]
    },
    {
      "cell_type": "code",
      "metadata": {
        "colab": {
          "base_uri": "https://localhost:8080/"
        },
        "id": "FTrAZqISUhXa",
        "outputId": "54d9f88f-51f8-4297-fae6-2ac3c9549406"
      },
      "source": [
        "for audio,label in test_dl:\n",
        "  print(\"Actual label: {}\".format(classes[label[0].item()]))\n",
        "  print( 'Predicted Label: ', predict_audio(audio, music_model))\n",
        "  break"
      ],
      "execution_count": null,
      "outputs": [
        {
          "name": "stdout",
          "output_type": "stream",
          "text": [
            "Actual label: classical\n",
            "Predicted Label:  disco\n"
          ]
        }
      ]
    },
    {
      "cell_type": "code",
      "metadata": {
        "colab": {
          "base_uri": "https://localhost:8080/"
        },
        "id": "ibj-HIbuUj4K",
        "outputId": "7e606cf2-4ea9-4a7d-b7c3-fc12eca7073d"
      },
      "source": [
        "for audio,label in test_dl:\n",
        "  print(\"Actual label: {}\".format(classes[label[0].item()]))\n",
        "  print( 'Predicted Label: ', predict_audio(audio, music_model))\n",
        "  break"
      ],
      "execution_count": null,
      "outputs": [
        {
          "name": "stdout",
          "output_type": "stream",
          "text": [
            "Actual label: reggae\n",
            "Predicted Label:  reggae\n"
          ]
        }
      ]
    },
    {
      "cell_type": "code",
      "metadata": {
        "colab": {
          "base_uri": "https://localhost:8080/"
        },
        "id": "6R7WmWXHUj6n",
        "outputId": "ce000002-8453-43a8-f8b4-00d3d2bb8fe5"
      },
      "source": [
        "for audio,label in test_dl:\n",
        "  print(\"Actual label: {}\".format(classes[label[0].item()]))\n",
        "  print( 'Predicted Label: ', predict_audio(audio, music_model))\n",
        "  break"
      ],
      "execution_count": null,
      "outputs": [
        {
          "name": "stdout",
          "output_type": "stream",
          "text": [
            "Actual label: country\n",
            "Predicted Label:  disco\n"
          ]
        }
      ]
    },
    {
      "cell_type": "code",
      "metadata": {
        "colab": {
          "base_uri": "https://localhost:8080/"
        },
        "id": "R98O79Y9URdO",
        "outputId": "fedc7294-903f-4431-a156-f4979c8b6048"
      },
      "source": [
        "for audio,label in test_dl:\n",
        "  print(\"Actual label: {}\".format(classes[label[0].item()]))\n",
        "  print( 'Predicted Label: ', predict_audio(audio, music_model))\n",
        "  break"
      ],
      "execution_count": null,
      "outputs": [
        {
          "name": "stdout",
          "output_type": "stream",
          "text": [
            "Actual label: pop\n",
            "Predicted Label:  disco\n"
          ]
        }
      ]
    },
    {
      "cell_type": "code",
      "metadata": {
        "id": "C1SLoHAdVyiN"
      },
      "source": [
        ""
      ],
      "execution_count": null,
      "outputs": []
    },
    {
      "cell_type": "code",
      "source": [
        "!pip install torchviz"
      ],
      "metadata": {
        "colab": {
          "base_uri": "https://localhost:8080/"
        },
        "id": "8ovBDyvwTJve",
        "outputId": "6c2eba1b-51ae-4e29-d495-b04eebbee37e"
      },
      "execution_count": null,
      "outputs": [
        {
          "output_type": "stream",
          "name": "stdout",
          "text": [
            "Collecting torchviz\n",
            "  Downloading torchviz-0.0.2.tar.gz (4.9 kB)\n",
            "Requirement already satisfied: torch in /usr/local/lib/python3.7/dist-packages (from torchviz) (1.7.0)\n",
            "Requirement already satisfied: graphviz in /usr/local/lib/python3.7/dist-packages (from torchviz) (0.10.1)\n",
            "Requirement already satisfied: typing-extensions in /usr/local/lib/python3.7/dist-packages (from torch->torchviz) (3.10.0.2)\n",
            "Requirement already satisfied: future in /usr/local/lib/python3.7/dist-packages (from torch->torchviz) (0.16.0)\n",
            "Requirement already satisfied: numpy in /usr/local/lib/python3.7/dist-packages (from torch->torchviz) (1.19.5)\n",
            "Requirement already satisfied: dataclasses in /usr/local/lib/python3.7/dist-packages (from torch->torchviz) (0.6)\n",
            "Building wheels for collected packages: torchviz\n",
            "  Building wheel for torchviz (setup.py) ... \u001b[?25l\u001b[?25hdone\n",
            "  Created wheel for torchviz: filename=torchviz-0.0.2-py3-none-any.whl size=4151 sha256=956173393737b666720bdee5958716ffef1d9207a05531fe772ea7310ce2831d\n",
            "  Stored in directory: /root/.cache/pip/wheels/04/38/f5/dc4f85c3909051823df49901e72015d2d750bd26b086480ec2\n",
            "Successfully built torchviz\n",
            "Installing collected packages: torchviz\n",
            "Successfully installed torchviz-0.0.2\n"
          ]
        }
      ]
    },
    {
      "cell_type": "code",
      "source": [
        "x = dataset[0][0].unsqueeze(dim=0).to(device)\n",
        "y = model(x)\n"
      ],
      "metadata": {
        "id": "4uIYTEnLTLs6"
      },
      "execution_count": null,
      "outputs": []
    },
    {
      "cell_type": "code",
      "source": [
        "from torchviz import make_dot\n",
        "make_dot(y.mean(), params=dict(model.named_parameters()), show_attrs=True, show_saved=True)"
      ],
      "metadata": {
        "colab": {
          "base_uri": "https://localhost:8080/",
          "height": 1000
        },
        "id": "doW7e-2sTsW4",
        "outputId": "9031c3e9-3b59-4e60-81a4-b2fdecfe54d3"
      },
      "execution_count": null,
      "outputs": [
        {
          "output_type": "stream",
          "name": "stderr",
          "text": [
            "/usr/local/lib/python3.7/dist-packages/torchviz/dot.py:68: UserWarning: make_dot: showing grad_fn attributes and saved variables requires PyTorch version >= 1.9. (This does NOT apply to saved tensors saved by custom autograd functions.)\n",
            "  \"make_dot: showing grad_fn attributes and saved variables\"\n"
          ]
        },
        {
          "output_type": "execute_result",
          "data": {
            "text/plain": [
              "<graphviz.dot.Digraph at 0x7f3c93daef10>"
            ],
            "image/svg+xml": "<?xml version=\"1.0\" encoding=\"UTF-8\" standalone=\"no\"?>\n<!DOCTYPE svg PUBLIC \"-//W3C//DTD SVG 1.1//EN\"\n \"http://www.w3.org/Graphics/SVG/1.1/DTD/svg11.dtd\">\n<!-- Generated by graphviz version 2.40.1 (20161225.0304)\n -->\n<!-- Title: %3 Pages: 1 -->\n<svg width=\"3475pt\" height=\"3504pt\"\n viewBox=\"0.00 0.00 3475.00 3504.00\" xmlns=\"http://www.w3.org/2000/svg\" xmlns:xlink=\"http://www.w3.org/1999/xlink\">\n<g id=\"graph0\" class=\"graph\" transform=\"scale(1 1) rotate(0) translate(4 3500)\">\n<title>%3</title>\n<polygon fill=\"#ffffff\" stroke=\"transparent\" points=\"-4,4 -4,-3500 3471,-3500 3471,4 -4,4\"/>\n<!-- 139898154514864 -->\n<g id=\"node1\" class=\"node\">\n<title>139898154514864</title>\n<polygon fill=\"#caff70\" stroke=\"#000000\" points=\"2787.5,-31 2733.5,-31 2733.5,0 2787.5,0 2787.5,-31\"/>\n<text text-anchor=\"middle\" x=\"2760.5\" y=\"-7\" font-family=\"monospace\" font-size=\"10.00\" fill=\"#000000\"> ()</text>\n</g>\n<!-- 139898185690384 -->\n<g id=\"node2\" class=\"node\">\n<title>139898185690384</title>\n<polygon fill=\"#d3d3d3\" stroke=\"#000000\" points=\"2808,-86 2713,-86 2713,-67 2808,-67 2808,-86\"/>\n<text text-anchor=\"middle\" x=\"2760.5\" y=\"-74\" font-family=\"monospace\" font-size=\"10.00\" fill=\"#000000\">MeanBackward0</text>\n</g>\n<!-- 139898185690384&#45;&gt;139898154514864 -->\n<g id=\"edge190\" class=\"edge\">\n<title>139898185690384&#45;&gt;139898154514864</title>\n<path fill=\"none\" stroke=\"#000000\" d=\"M2760.5,-66.9688C2760.5,-60.1289 2760.5,-50.5621 2760.5,-41.5298\"/>\n<polygon fill=\"#000000\" stroke=\"#000000\" points=\"2764.0001,-41.3678 2760.5,-31.3678 2757.0001,-41.3678 2764.0001,-41.3678\"/>\n</g>\n<!-- 139898239688144 -->\n<g id=\"node3\" class=\"node\">\n<title>139898239688144</title>\n<polygon fill=\"#d3d3d3\" stroke=\"#000000\" points=\"2808,-141 2713,-141 2713,-122 2808,-122 2808,-141\"/>\n<text text-anchor=\"middle\" x=\"2760.5\" y=\"-129\" font-family=\"monospace\" font-size=\"10.00\" fill=\"#000000\">AddmmBackward</text>\n</g>\n<!-- 139898239688144&#45;&gt;139898185690384 -->\n<g id=\"edge1\" class=\"edge\">\n<title>139898239688144&#45;&gt;139898185690384</title>\n<path fill=\"none\" stroke=\"#000000\" d=\"M2760.5,-121.9197C2760.5,-114.9083 2760.5,-105.1442 2760.5,-96.4652\"/>\n<polygon fill=\"#000000\" stroke=\"#000000\" points=\"2764.0001,-96.3408 2760.5,-86.3408 2757.0001,-96.3409 2764.0001,-96.3408\"/>\n</g>\n<!-- 139898154974672 -->\n<g id=\"node4\" class=\"node\">\n<title>139898154974672</title>\n<polygon fill=\"#d3d3d3\" stroke=\"#000000\" points=\"2695,-196 2594,-196 2594,-177 2695,-177 2695,-196\"/>\n<text text-anchor=\"middle\" x=\"2644.5\" y=\"-184\" font-family=\"monospace\" font-size=\"10.00\" fill=\"#000000\">AccumulateGrad</text>\n</g>\n<!-- 139898154974672&#45;&gt;139898239688144 -->\n<g id=\"edge2\" class=\"edge\">\n<title>139898154974672&#45;&gt;139898239688144</title>\n<path fill=\"none\" stroke=\"#000000\" d=\"M2664.7057,-176.9197C2682.9737,-168.2581 2710.1018,-155.3957 2730.8304,-145.5675\"/>\n<polygon fill=\"#000000\" stroke=\"#000000\" points=\"2732.6004,-148.6018 2740.1367,-141.155 2729.6014,-142.2768 2732.6004,-148.6018\"/>\n</g>\n<!-- 139898202265872 -->\n<g id=\"node5\" class=\"node\">\n<title>139898202265872</title>\n<polygon fill=\"#add8e6\" stroke=\"#000000\" points=\"2689,-262 2600,-262 2600,-232 2689,-232 2689,-262\"/>\n<text text-anchor=\"middle\" x=\"2644.5\" y=\"-250\" font-family=\"monospace\" font-size=\"10.00\" fill=\"#000000\">linear3.bias</text>\n<text text-anchor=\"middle\" x=\"2644.5\" y=\"-239\" font-family=\"monospace\" font-size=\"10.00\" fill=\"#000000\"> (10)</text>\n</g>\n<!-- 139898202265872&#45;&gt;139898154974672 -->\n<g id=\"edge3\" class=\"edge\">\n<title>139898202265872&#45;&gt;139898154974672</title>\n<path fill=\"none\" stroke=\"#000000\" d=\"M2644.5,-231.7333C2644.5,-224.0322 2644.5,-214.5977 2644.5,-206.3414\"/>\n<polygon fill=\"#000000\" stroke=\"#000000\" points=\"2648.0001,-206.0864 2644.5,-196.0864 2641.0001,-206.0864 2648.0001,-206.0864\"/>\n</g>\n<!-- 139898155098896 -->\n<g id=\"node6\" class=\"node\">\n<title>139898155098896</title>\n<polygon fill=\"#d3d3d3\" stroke=\"#000000\" points=\"2808,-196 2713,-196 2713,-177 2808,-177 2808,-196\"/>\n<text text-anchor=\"middle\" x=\"2760.5\" y=\"-184\" font-family=\"monospace\" font-size=\"10.00\" fill=\"#000000\">ReluBackward0</text>\n</g>\n<!-- 139898155098896&#45;&gt;139898239688144 -->\n<g id=\"edge4\" class=\"edge\">\n<title>139898155098896&#45;&gt;139898239688144</title>\n<path fill=\"none\" stroke=\"#000000\" d=\"M2760.5,-176.9197C2760.5,-169.9083 2760.5,-160.1442 2760.5,-151.4652\"/>\n<polygon fill=\"#000000\" stroke=\"#000000\" points=\"2764.0001,-151.3408 2760.5,-141.3408 2757.0001,-151.3409 2764.0001,-151.3408\"/>\n</g>\n<!-- 139898156434512 -->\n<g id=\"node7\" class=\"node\">\n<title>139898156434512</title>\n<polygon fill=\"#d3d3d3\" stroke=\"#000000\" points=\"2805,-256.5 2710,-256.5 2710,-237.5 2805,-237.5 2805,-256.5\"/>\n<text text-anchor=\"middle\" x=\"2757.5\" y=\"-244.5\" font-family=\"monospace\" font-size=\"10.00\" fill=\"#000000\">AddmmBackward</text>\n</g>\n<!-- 139898156434512&#45;&gt;139898155098896 -->\n<g id=\"edge5\" class=\"edge\">\n<title>139898156434512&#45;&gt;139898155098896</title>\n<path fill=\"none\" stroke=\"#000000\" d=\"M2757.982,-237.2796C2758.3907,-229.0376 2758.9903,-216.9457 2759.5019,-206.629\"/>\n<polygon fill=\"#000000\" stroke=\"#000000\" points=\"2763.0096,-206.5583 2760.0092,-196.3972 2756.0182,-206.2116 2763.0096,-206.5583\"/>\n</g>\n<!-- 139898155574480 -->\n<g id=\"node8\" class=\"node\">\n<title>139898155574480</title>\n<polygon fill=\"#d3d3d3\" stroke=\"#000000\" points=\"2669,-322.5 2568,-322.5 2568,-303.5 2669,-303.5 2669,-322.5\"/>\n<text text-anchor=\"middle\" x=\"2618.5\" y=\"-310.5\" font-family=\"monospace\" font-size=\"10.00\" fill=\"#000000\">AccumulateGrad</text>\n</g>\n<!-- 139898155574480&#45;&gt;139898156434512 -->\n<g id=\"edge6\" class=\"edge\">\n<title>139898155574480&#45;&gt;139898156434512</title>\n<path fill=\"none\" stroke=\"#000000\" d=\"M2638.7118,-303.403C2662.1828,-292.2585 2701.1054,-273.7773 2727.9649,-261.0238\"/>\n<polygon fill=\"#000000\" stroke=\"#000000\" points=\"2729.7317,-264.0595 2737.2638,-256.6085 2726.7291,-257.7362 2729.7317,-264.0595\"/>\n</g>\n<!-- 139898244250912 -->\n<g id=\"node9\" class=\"node\">\n<title>139898244250912</title>\n<polygon fill=\"#add8e6\" stroke=\"#000000\" points=\"2663,-394 2574,-394 2574,-364 2663,-364 2663,-394\"/>\n<text text-anchor=\"middle\" x=\"2618.5\" y=\"-382\" font-family=\"monospace\" font-size=\"10.00\" fill=\"#000000\">linear2.bias</text>\n<text text-anchor=\"middle\" x=\"2618.5\" y=\"-371\" font-family=\"monospace\" font-size=\"10.00\" fill=\"#000000\"> (100)</text>\n</g>\n<!-- 139898244250912&#45;&gt;139898155574480 -->\n<g id=\"edge7\" class=\"edge\">\n<title>139898244250912&#45;&gt;139898155574480</title>\n<path fill=\"none\" stroke=\"#000000\" d=\"M2618.5,-363.6924C2618.5,-354.5067 2618.5,-342.7245 2618.5,-332.8312\"/>\n<polygon fill=\"#000000\" stroke=\"#000000\" points=\"2622.0001,-332.703 2618.5,-322.7031 2615.0001,-332.7031 2622.0001,-332.703\"/>\n</g>\n<!-- 139898155573520 -->\n<g id=\"node10\" class=\"node\">\n<title>139898155573520</title>\n<polygon fill=\"#d3d3d3\" stroke=\"#000000\" points=\"2782,-322.5 2687,-322.5 2687,-303.5 2782,-303.5 2782,-322.5\"/>\n<text text-anchor=\"middle\" x=\"2734.5\" y=\"-310.5\" font-family=\"monospace\" font-size=\"10.00\" fill=\"#000000\">ReluBackward0</text>\n</g>\n<!-- 139898155573520&#45;&gt;139898156434512 -->\n<g id=\"edge8\" class=\"edge\">\n<title>139898155573520&#45;&gt;139898156434512</title>\n<path fill=\"none\" stroke=\"#000000\" d=\"M2737.8937,-303.2615C2741.257,-293.6102 2746.5025,-278.558 2750.7218,-266.4506\"/>\n<polygon fill=\"#000000\" stroke=\"#000000\" points=\"2754.1066,-267.3733 2754.0923,-256.7785 2747.4965,-265.0697 2754.1066,-267.3733\"/>\n</g>\n<!-- 139898154546704 -->\n<g id=\"node11\" class=\"node\">\n<title>139898154546704</title>\n<polygon fill=\"#d3d3d3\" stroke=\"#000000\" points=\"2779,-388.5 2684,-388.5 2684,-369.5 2779,-369.5 2779,-388.5\"/>\n<text text-anchor=\"middle\" x=\"2731.5\" y=\"-376.5\" font-family=\"monospace\" font-size=\"10.00\" fill=\"#000000\">AddmmBackward</text>\n</g>\n<!-- 139898154546704&#45;&gt;139898155573520 -->\n<g id=\"edge9\" class=\"edge\">\n<title>139898154546704&#45;&gt;139898155573520</title>\n<path fill=\"none\" stroke=\"#000000\" d=\"M2731.9427,-369.2615C2732.3769,-359.7077 2733.0517,-344.8615 2733.5992,-332.8183\"/>\n<polygon fill=\"#000000\" stroke=\"#000000\" points=\"2737.0977,-332.9271 2734.0555,-322.7785 2730.105,-332.6092 2737.0977,-332.9271\"/>\n</g>\n<!-- 139898154546896 -->\n<g id=\"node12\" class=\"node\">\n<title>139898154546896</title>\n<polygon fill=\"#d3d3d3\" stroke=\"#000000\" points=\"2648,-454.5 2547,-454.5 2547,-435.5 2648,-435.5 2648,-454.5\"/>\n<text text-anchor=\"middle\" x=\"2597.5\" y=\"-442.5\" font-family=\"monospace\" font-size=\"10.00\" fill=\"#000000\">AccumulateGrad</text>\n</g>\n<!-- 139898154546896&#45;&gt;139898154546704 -->\n<g id=\"edge10\" class=\"edge\">\n<title>139898154546896&#45;&gt;139898154546704</title>\n<path fill=\"none\" stroke=\"#000000\" d=\"M2616.9848,-435.403C2639.5123,-424.3074 2676.8051,-405.9393 2702.686,-393.192\"/>\n<polygon fill=\"#000000\" stroke=\"#000000\" points=\"2704.5673,-396.1669 2711.9917,-388.6085 2701.4743,-389.8873 2704.5673,-396.1669\"/>\n</g>\n<!-- 139898291662192 -->\n<g id=\"node13\" class=\"node\">\n<title>139898291662192</title>\n<polygon fill=\"#add8e6\" stroke=\"#000000\" points=\"2642,-526 2553,-526 2553,-496 2642,-496 2642,-526\"/>\n<text text-anchor=\"middle\" x=\"2597.5\" y=\"-514\" font-family=\"monospace\" font-size=\"10.00\" fill=\"#000000\">linear1.bias</text>\n<text text-anchor=\"middle\" x=\"2597.5\" y=\"-503\" font-family=\"monospace\" font-size=\"10.00\" fill=\"#000000\"> (2000)</text>\n</g>\n<!-- 139898291662192&#45;&gt;139898154546896 -->\n<g id=\"edge11\" class=\"edge\">\n<title>139898291662192&#45;&gt;139898154546896</title>\n<path fill=\"none\" stroke=\"#000000\" d=\"M2597.5,-495.6924C2597.5,-486.5067 2597.5,-474.7245 2597.5,-464.8312\"/>\n<polygon fill=\"#000000\" stroke=\"#000000\" points=\"2601.0001,-464.703 2597.5,-454.7031 2594.0001,-464.7031 2601.0001,-464.703\"/>\n</g>\n<!-- 139898154547152 -->\n<g id=\"node14\" class=\"node\">\n<title>139898154547152</title>\n<polygon fill=\"#d3d3d3\" stroke=\"#000000\" points=\"2755,-454.5 2666,-454.5 2666,-435.5 2755,-435.5 2755,-454.5\"/>\n<text text-anchor=\"middle\" x=\"2710.5\" y=\"-442.5\" font-family=\"monospace\" font-size=\"10.00\" fill=\"#000000\">ViewBackward</text>\n</g>\n<!-- 139898154547152&#45;&gt;139898154546704 -->\n<g id=\"edge12\" class=\"edge\">\n<title>139898154547152&#45;&gt;139898154546704</title>\n<path fill=\"none\" stroke=\"#000000\" d=\"M2713.5986,-435.2615C2716.6695,-425.6102 2721.4588,-410.558 2725.3112,-398.4506\"/>\n<polygon fill=\"#000000\" stroke=\"#000000\" points=\"2728.6918,-399.369 2728.3887,-388.7785 2722.0213,-397.2465 2728.6918,-399.369\"/>\n</g>\n<!-- 139898154766032 -->\n<g id=\"node15\" class=\"node\">\n<title>139898154766032</title>\n<polygon fill=\"#d3d3d3\" stroke=\"#000000\" points=\"2752,-520.5 2663,-520.5 2663,-501.5 2752,-501.5 2752,-520.5\"/>\n<text text-anchor=\"middle\" x=\"2707.5\" y=\"-508.5\" font-family=\"monospace\" font-size=\"10.00\" fill=\"#000000\">ViewBackward</text>\n</g>\n<!-- 139898154766032&#45;&gt;139898154547152 -->\n<g id=\"edge13\" class=\"edge\">\n<title>139898154766032&#45;&gt;139898154547152</title>\n<path fill=\"none\" stroke=\"#000000\" d=\"M2707.9427,-501.2615C2708.3769,-491.7077 2709.0517,-476.8615 2709.5992,-464.8183\"/>\n<polygon fill=\"#000000\" stroke=\"#000000\" points=\"2713.0977,-464.9271 2710.0555,-454.7785 2706.105,-464.6092 2713.0977,-464.9271\"/>\n</g>\n<!-- 139898154547216 -->\n<g id=\"node16\" class=\"node\">\n<title>139898154547216</title>\n<polygon fill=\"#d3d3d3\" stroke=\"#000000\" points=\"2788,-586.5 2603,-586.5 2603,-567.5 2788,-567.5 2788,-586.5\"/>\n<text text-anchor=\"middle\" x=\"2695.5\" y=\"-574.5\" font-family=\"monospace\" font-size=\"10.00\" fill=\"#000000\">MaxPool2DWithIndicesBackward</text>\n</g>\n<!-- 139898154547216&#45;&gt;139898154766032 -->\n<g id=\"edge14\" class=\"edge\">\n<title>139898154547216&#45;&gt;139898154766032</title>\n<path fill=\"none\" stroke=\"#000000\" d=\"M2697.2706,-567.2615C2699.0077,-557.7077 2701.707,-542.8615 2703.8967,-530.8183\"/>\n<polygon fill=\"#000000\" stroke=\"#000000\" points=\"2707.3767,-531.2433 2705.7221,-520.7785 2700.4896,-529.9911 2707.3767,-531.2433\"/>\n</g>\n<!-- 139898154547408 -->\n<g id=\"node17\" class=\"node\">\n<title>139898154547408</title>\n<polygon fill=\"#d3d3d3\" stroke=\"#000000\" points=\"2740,-647 2651,-647 2651,-628 2740,-628 2740,-647\"/>\n<text text-anchor=\"middle\" x=\"2695.5\" y=\"-635\" font-family=\"monospace\" font-size=\"10.00\" fill=\"#000000\">AddBackward0</text>\n</g>\n<!-- 139898154547408&#45;&gt;139898154547216 -->\n<g id=\"edge15\" class=\"edge\">\n<title>139898154547408&#45;&gt;139898154547216</title>\n<path fill=\"none\" stroke=\"#000000\" d=\"M2695.5,-627.7796C2695.5,-619.5376 2695.5,-607.4457 2695.5,-597.129\"/>\n<polygon fill=\"#000000\" stroke=\"#000000\" points=\"2699.0001,-596.8972 2695.5,-586.8972 2692.0001,-596.8973 2699.0001,-596.8972\"/>\n</g>\n<!-- 139898154547280 -->\n<g id=\"node18\" class=\"node\">\n<title>139898154547280</title>\n<polygon fill=\"#d3d3d3\" stroke=\"#000000\" points=\"2940,-702 2845,-702 2845,-683 2940,-683 2940,-702\"/>\n<text text-anchor=\"middle\" x=\"2892.5\" y=\"-690\" font-family=\"monospace\" font-size=\"10.00\" fill=\"#000000\">ReluBackward1</text>\n</g>\n<!-- 139898154547280&#45;&gt;139898154547408 -->\n<g id=\"edge16\" class=\"edge\">\n<title>139898154547280&#45;&gt;139898154547408</title>\n<path fill=\"none\" stroke=\"#000000\" d=\"M2858.1852,-682.9197C2825.2353,-673.7205 2775.3127,-659.7827 2739.4637,-649.7741\"/>\n<polygon fill=\"#000000\" stroke=\"#000000\" points=\"2740.3243,-646.3806 2729.7515,-647.0626 2738.442,-653.1228 2740.3243,-646.3806\"/>\n</g>\n<!-- 139898154547600 -->\n<g id=\"node19\" class=\"node\">\n<title>139898154547600</title>\n<polygon fill=\"#d3d3d3\" stroke=\"#000000\" points=\"3313,-757 3164,-757 3164,-738 3313,-738 3313,-757\"/>\n<text text-anchor=\"middle\" x=\"3238.5\" y=\"-745\" font-family=\"monospace\" font-size=\"10.00\" fill=\"#000000\">CudnnBatchNormBackward</text>\n</g>\n<!-- 139898154547600&#45;&gt;139898154547280 -->\n<g id=\"edge17\" class=\"edge\">\n<title>139898154547600&#45;&gt;139898154547280</title>\n<path fill=\"none\" stroke=\"#000000\" d=\"M3178.6264,-737.9825C3114.5918,-727.8036 3013.7349,-711.7715 2950.4498,-701.7117\"/>\n<polygon fill=\"#000000\" stroke=\"#000000\" points=\"2950.6681,-698.2025 2940.2427,-700.0892 2949.5692,-705.1157 2950.6681,-698.2025\"/>\n</g>\n<!-- 139898154547856 -->\n<g id=\"node20\" class=\"node\">\n<title>139898154547856</title>\n<polygon fill=\"#d3d3d3\" stroke=\"#000000\" points=\"3227,-812 3138,-812 3138,-793 3227,-793 3227,-812\"/>\n<text text-anchor=\"middle\" x=\"3182.5\" y=\"-800\" font-family=\"monospace\" font-size=\"10.00\" fill=\"#000000\">AddBackward0</text>\n</g>\n<!-- 139898154547856&#45;&gt;139898154547600 -->\n<g id=\"edge18\" class=\"edge\">\n<title>139898154547856&#45;&gt;139898154547600</title>\n<path fill=\"none\" stroke=\"#000000\" d=\"M3192.2545,-792.9197C3200.1865,-785.1293 3211.5788,-773.9405 3221.0712,-764.6176\"/>\n<polygon fill=\"#000000\" stroke=\"#000000\" points=\"3223.7982,-766.845 3228.4802,-757.3408 3218.8932,-761.8509 3223.7982,-766.845\"/>\n</g>\n<!-- 139898154548048 -->\n<g id=\"node21\" class=\"node\">\n<title>139898154548048</title>\n<polygon fill=\"#d3d3d3\" stroke=\"#000000\" points=\"3120,-872.5 2959,-872.5 2959,-853.5 3120,-853.5 3120,-872.5\"/>\n<text text-anchor=\"middle\" x=\"3039.5\" y=\"-860.5\" font-family=\"monospace\" font-size=\"10.00\" fill=\"#000000\">CudnnConvolutionBackward</text>\n</g>\n<!-- 139898154548048&#45;&gt;139898154547856 -->\n<g id=\"edge19\" class=\"edge\">\n<title>139898154548048&#45;&gt;139898154547856</title>\n<path fill=\"none\" stroke=\"#000000\" d=\"M3062.1588,-853.4136C3086.0065,-843.3242 3123.7399,-827.3601 3150.5924,-815.9994\"/>\n<polygon fill=\"#000000\" stroke=\"#000000\" points=\"3152.1013,-819.1614 3159.9472,-812.0416 3149.3738,-812.7146 3152.1013,-819.1614\"/>\n</g>\n<!-- 139898154548176 -->\n<g id=\"node22\" class=\"node\">\n<title>139898154548176</title>\n<polygon fill=\"#d3d3d3\" stroke=\"#000000\" points=\"3026,-933 2931,-933 2931,-914 3026,-914 3026,-933\"/>\n<text text-anchor=\"middle\" x=\"2978.5\" y=\"-921\" font-family=\"monospace\" font-size=\"10.00\" fill=\"#000000\">ReluBackward1</text>\n</g>\n<!-- 139898154548176&#45;&gt;139898154548048 -->\n<g id=\"edge20\" class=\"edge\">\n<title>139898154548176&#45;&gt;139898154548048</title>\n<path fill=\"none\" stroke=\"#000000\" d=\"M2988.3007,-913.7796C2997.4065,-904.7485 3011.1728,-891.095 3022.1382,-880.2195\"/>\n<polygon fill=\"#000000\" stroke=\"#000000\" points=\"3024.8855,-882.4242 3029.521,-872.8972 3019.9562,-877.4541 3024.8855,-882.4242\"/>\n</g>\n<!-- 139898154548112 -->\n<g id=\"node23\" class=\"node\">\n<title>139898154548112</title>\n<polygon fill=\"#d3d3d3\" stroke=\"#000000\" points=\"3047,-993.5 2898,-993.5 2898,-974.5 3047,-974.5 3047,-993.5\"/>\n<text text-anchor=\"middle\" x=\"2972.5\" y=\"-981.5\" font-family=\"monospace\" font-size=\"10.00\" fill=\"#000000\">CudnnBatchNormBackward</text>\n</g>\n<!-- 139898154548112&#45;&gt;139898154548176 -->\n<g id=\"edge21\" class=\"edge\">\n<title>139898154548112&#45;&gt;139898154548176</title>\n<path fill=\"none\" stroke=\"#000000\" d=\"M2973.464,-974.2796C2974.2814,-966.0376 2975.4806,-953.9457 2976.5037,-943.629\"/>\n<polygon fill=\"#000000\" stroke=\"#000000\" points=\"2980.0144,-943.6939 2977.5185,-933.3972 2973.0486,-943.003 2980.0144,-943.6939\"/>\n</g>\n<!-- 139898154548624 -->\n<g id=\"node24\" class=\"node\">\n<title>139898154548624</title>\n<polygon fill=\"#d3d3d3\" stroke=\"#000000\" points=\"2961,-1054 2872,-1054 2872,-1035 2961,-1035 2961,-1054\"/>\n<text text-anchor=\"middle\" x=\"2916.5\" y=\"-1042\" font-family=\"monospace\" font-size=\"10.00\" fill=\"#000000\">AddBackward0</text>\n</g>\n<!-- 139898154548624&#45;&gt;139898154548112 -->\n<g id=\"edge22\" class=\"edge\">\n<title>139898154548624&#45;&gt;139898154548112</title>\n<path fill=\"none\" stroke=\"#000000\" d=\"M2925.4974,-1034.7796C2933.7756,-1025.8362 2946.2497,-1012.3597 2956.2674,-1001.537\"/>\n<polygon fill=\"#000000\" stroke=\"#000000\" points=\"2959.1146,-1003.6135 2963.3389,-993.8972 2953.9775,-998.8585 2959.1146,-1003.6135\"/>\n</g>\n<!-- 139898154548816 -->\n<g id=\"node25\" class=\"node\">\n<title>139898154548816</title>\n<polygon fill=\"#d3d3d3\" stroke=\"#000000\" points=\"2854,-1114.5 2693,-1114.5 2693,-1095.5 2854,-1095.5 2854,-1114.5\"/>\n<text text-anchor=\"middle\" x=\"2773.5\" y=\"-1102.5\" font-family=\"monospace\" font-size=\"10.00\" fill=\"#000000\">CudnnConvolutionBackward</text>\n</g>\n<!-- 139898154548816&#45;&gt;139898154548624 -->\n<g id=\"edge23\" class=\"edge\">\n<title>139898154548816&#45;&gt;139898154548624</title>\n<path fill=\"none\" stroke=\"#000000\" d=\"M2796.1588,-1095.4136C2820.0065,-1085.3242 2857.7399,-1069.3601 2884.5924,-1057.9994\"/>\n<polygon fill=\"#000000\" stroke=\"#000000\" points=\"2886.1013,-1061.1614 2893.9472,-1054.0416 2883.3738,-1054.7146 2886.1013,-1061.1614\"/>\n</g>\n<!-- 139898154547728 -->\n<g id=\"node26\" class=\"node\">\n<title>139898154547728</title>\n<polygon fill=\"#d3d3d3\" stroke=\"#000000\" points=\"2736,-1175 2551,-1175 2551,-1156 2736,-1156 2736,-1175\"/>\n<text text-anchor=\"middle\" x=\"2643.5\" y=\"-1163\" font-family=\"monospace\" font-size=\"10.00\" fill=\"#000000\">MaxPool2DWithIndicesBackward</text>\n</g>\n<!-- 139898154547728&#45;&gt;139898154547408 -->\n<g id=\"edge180\" class=\"edge\">\n<title>139898154547728&#45;&gt;139898154547408</title>\n<path fill=\"none\" stroke=\"#000000\" d=\"M2645.3881,-1155.8198C2649.2095,-1135.3561 2657.5,-1086.1598 2657.5,-1044.5 2657.5,-1044.5 2657.5,-1044.5 2657.5,-747.5 2657.5,-713.8364 2673.5962,-677.3974 2684.8367,-656.0549\"/>\n<polygon fill=\"#000000\" stroke=\"#000000\" points=\"2687.9953,-657.5739 2689.7286,-647.1218 2681.8556,-654.2117 2687.9953,-657.5739\"/>\n</g>\n<!-- 139898154547728&#45;&gt;139898154548816 -->\n<g id=\"edge24\" class=\"edge\">\n<title>139898154547728&#45;&gt;139898154548816</title>\n<path fill=\"none\" stroke=\"#000000\" d=\"M2664.0989,-1155.9136C2685.5885,-1145.9127 2719.4809,-1130.1397 2743.8484,-1118.7994\"/>\n<polygon fill=\"#000000\" stroke=\"#000000\" points=\"2745.408,-1121.9341 2752.9975,-1114.5416 2742.4544,-1115.5877 2745.408,-1121.9341\"/>\n</g>\n<!-- 139898154549136 -->\n<g id=\"node27\" class=\"node\">\n<title>139898154549136</title>\n<polygon fill=\"#d3d3d3\" stroke=\"#000000\" points=\"2691,-1235.5 2596,-1235.5 2596,-1216.5 2691,-1216.5 2691,-1235.5\"/>\n<text text-anchor=\"middle\" x=\"2643.5\" y=\"-1223.5\" font-family=\"monospace\" font-size=\"10.00\" fill=\"#000000\">ReluBackward1</text>\n</g>\n<!-- 139898154549136&#45;&gt;139898154547728 -->\n<g id=\"edge25\" class=\"edge\">\n<title>139898154549136&#45;&gt;139898154547728</title>\n<path fill=\"none\" stroke=\"#000000\" d=\"M2643.5,-1216.2796C2643.5,-1208.0376 2643.5,-1195.9457 2643.5,-1185.629\"/>\n<polygon fill=\"#000000\" stroke=\"#000000\" points=\"2647.0001,-1185.3972 2643.5,-1175.3972 2640.0001,-1185.3973 2647.0001,-1185.3972\"/>\n</g>\n<!-- 139898154066064 -->\n<g id=\"node28\" class=\"node\">\n<title>139898154066064</title>\n<polygon fill=\"#d3d3d3\" stroke=\"#000000\" points=\"2718,-1296 2569,-1296 2569,-1277 2718,-1277 2718,-1296\"/>\n<text text-anchor=\"middle\" x=\"2643.5\" y=\"-1284\" font-family=\"monospace\" font-size=\"10.00\" fill=\"#000000\">CudnnBatchNormBackward</text>\n</g>\n<!-- 139898154066064&#45;&gt;139898154549136 -->\n<g id=\"edge26\" class=\"edge\">\n<title>139898154066064&#45;&gt;139898154549136</title>\n<path fill=\"none\" stroke=\"#000000\" d=\"M2643.5,-1276.7796C2643.5,-1268.5376 2643.5,-1256.4457 2643.5,-1246.129\"/>\n<polygon fill=\"#000000\" stroke=\"#000000\" points=\"2647.0001,-1245.8972 2643.5,-1235.8972 2640.0001,-1245.8973 2647.0001,-1245.8972\"/>\n</g>\n<!-- 139898154066192 -->\n<g id=\"node29\" class=\"node\">\n<title>139898154066192</title>\n<polygon fill=\"#d3d3d3\" stroke=\"#000000\" points=\"2572,-1351 2483,-1351 2483,-1332 2572,-1332 2572,-1351\"/>\n<text text-anchor=\"middle\" x=\"2527.5\" y=\"-1339\" font-family=\"monospace\" font-size=\"10.00\" fill=\"#000000\">AddBackward0</text>\n</g>\n<!-- 139898154066192&#45;&gt;139898154066064 -->\n<g id=\"edge27\" class=\"edge\">\n<title>139898154066192&#45;&gt;139898154066064</title>\n<path fill=\"none\" stroke=\"#000000\" d=\"M2547.7057,-1331.9197C2565.9737,-1323.2581 2593.1018,-1310.3957 2613.8304,-1300.5675\"/>\n<polygon fill=\"#000000\" stroke=\"#000000\" points=\"2615.6004,-1303.6018 2623.1367,-1296.155 2612.6014,-1297.2768 2615.6004,-1303.6018\"/>\n</g>\n<!-- 139898154066384 -->\n<g id=\"node30\" class=\"node\">\n<title>139898154066384</title>\n<polygon fill=\"#d3d3d3\" stroke=\"#000000\" points=\"2465,-1411.5 2304,-1411.5 2304,-1392.5 2465,-1392.5 2465,-1411.5\"/>\n<text text-anchor=\"middle\" x=\"2384.5\" y=\"-1399.5\" font-family=\"monospace\" font-size=\"10.00\" fill=\"#000000\">CudnnConvolutionBackward</text>\n</g>\n<!-- 139898154066384&#45;&gt;139898154066192 -->\n<g id=\"edge28\" class=\"edge\">\n<title>139898154066384&#45;&gt;139898154066192</title>\n<path fill=\"none\" stroke=\"#000000\" d=\"M2407.1588,-1392.4136C2431.0065,-1382.3242 2468.7399,-1366.3601 2495.5924,-1354.9994\"/>\n<polygon fill=\"#000000\" stroke=\"#000000\" points=\"2497.1013,-1358.1614 2504.9472,-1351.0416 2494.3738,-1351.7146 2497.1013,-1358.1614\"/>\n</g>\n<!-- 139898154066512 -->\n<g id=\"node31\" class=\"node\">\n<title>139898154066512</title>\n<polygon fill=\"#d3d3d3\" stroke=\"#000000\" points=\"2325,-1472 2140,-1472 2140,-1453 2325,-1453 2325,-1472\"/>\n<text text-anchor=\"middle\" x=\"2232.5\" y=\"-1460\" font-family=\"monospace\" font-size=\"10.00\" fill=\"#000000\">MaxPool2DWithIndicesBackward</text>\n</g>\n<!-- 139898154066512&#45;&gt;139898154066384 -->\n<g id=\"edge29\" class=\"edge\">\n<title>139898154066512&#45;&gt;139898154066384</title>\n<path fill=\"none\" stroke=\"#000000\" d=\"M2256.5849,-1452.9136C2282.0447,-1442.7799 2322.3938,-1426.7199 2350.9591,-1415.3502\"/>\n<polygon fill=\"#000000\" stroke=\"#000000\" points=\"2352.5311,-1418.4916 2360.5278,-1411.5416 2349.9424,-1411.9878 2352.5311,-1418.4916\"/>\n</g>\n<!-- 139898154066448 -->\n<g id=\"node32\" class=\"node\">\n<title>139898154066448</title>\n<polygon fill=\"#d3d3d3\" stroke=\"#000000\" points=\"2280,-1532.5 2185,-1532.5 2185,-1513.5 2280,-1513.5 2280,-1532.5\"/>\n<text text-anchor=\"middle\" x=\"2232.5\" y=\"-1520.5\" font-family=\"monospace\" font-size=\"10.00\" fill=\"#000000\">ReluBackward1</text>\n</g>\n<!-- 139898154066448&#45;&gt;139898154066512 -->\n<g id=\"edge30\" class=\"edge\">\n<title>139898154066448&#45;&gt;139898154066512</title>\n<path fill=\"none\" stroke=\"#000000\" d=\"M2232.5,-1513.2796C2232.5,-1505.0376 2232.5,-1492.9457 2232.5,-1482.629\"/>\n<polygon fill=\"#000000\" stroke=\"#000000\" points=\"2236.0001,-1482.3972 2232.5,-1472.3972 2229.0001,-1482.3973 2236.0001,-1482.3972\"/>\n</g>\n<!-- 139898154066896 -->\n<g id=\"node33\" class=\"node\">\n<title>139898154066896</title>\n<polygon fill=\"#d3d3d3\" stroke=\"#000000\" points=\"2307,-1593 2158,-1593 2158,-1574 2307,-1574 2307,-1593\"/>\n<text text-anchor=\"middle\" x=\"2232.5\" y=\"-1581\" font-family=\"monospace\" font-size=\"10.00\" fill=\"#000000\">CudnnBatchNormBackward</text>\n</g>\n<!-- 139898154066896&#45;&gt;139898154066448 -->\n<g id=\"edge31\" class=\"edge\">\n<title>139898154066896&#45;&gt;139898154066448</title>\n<path fill=\"none\" stroke=\"#000000\" d=\"M2232.5,-1573.7796C2232.5,-1565.5376 2232.5,-1553.4457 2232.5,-1543.129\"/>\n<polygon fill=\"#000000\" stroke=\"#000000\" points=\"2236.0001,-1542.8972 2232.5,-1532.8972 2229.0001,-1542.8973 2236.0001,-1542.8972\"/>\n</g>\n<!-- 139898154067088 -->\n<g id=\"node34\" class=\"node\">\n<title>139898154067088</title>\n<polygon fill=\"#d3d3d3\" stroke=\"#000000\" points=\"2161,-1648 2072,-1648 2072,-1629 2161,-1629 2161,-1648\"/>\n<text text-anchor=\"middle\" x=\"2116.5\" y=\"-1636\" font-family=\"monospace\" font-size=\"10.00\" fill=\"#000000\">AddBackward0</text>\n</g>\n<!-- 139898154067088&#45;&gt;139898154066896 -->\n<g id=\"edge32\" class=\"edge\">\n<title>139898154067088&#45;&gt;139898154066896</title>\n<path fill=\"none\" stroke=\"#000000\" d=\"M2136.7057,-1628.9197C2154.9737,-1620.2581 2182.1018,-1607.3957 2202.8304,-1597.5675\"/>\n<polygon fill=\"#000000\" stroke=\"#000000\" points=\"2204.6004,-1600.6018 2212.1367,-1593.155 2201.6014,-1594.2768 2204.6004,-1600.6018\"/>\n</g>\n<!-- 139898154067280 -->\n<g id=\"node35\" class=\"node\">\n<title>139898154067280</title>\n<polygon fill=\"#d3d3d3\" stroke=\"#000000\" points=\"2054,-1708.5 1893,-1708.5 1893,-1689.5 2054,-1689.5 2054,-1708.5\"/>\n<text text-anchor=\"middle\" x=\"1973.5\" y=\"-1696.5\" font-family=\"monospace\" font-size=\"10.00\" fill=\"#000000\">CudnnConvolutionBackward</text>\n</g>\n<!-- 139898154067280&#45;&gt;139898154067088 -->\n<g id=\"edge33\" class=\"edge\">\n<title>139898154067280&#45;&gt;139898154067088</title>\n<path fill=\"none\" stroke=\"#000000\" d=\"M1996.1588,-1689.4136C2020.0065,-1679.3242 2057.7399,-1663.3601 2084.5924,-1651.9994\"/>\n<polygon fill=\"#000000\" stroke=\"#000000\" points=\"2086.1013,-1655.1614 2093.9472,-1648.0416 2083.3738,-1648.7146 2086.1013,-1655.1614\"/>\n</g>\n<!-- 139898154067408 -->\n<g id=\"node36\" class=\"node\">\n<title>139898154067408</title>\n<polygon fill=\"#d3d3d3\" stroke=\"#000000\" points=\"1902,-1769 1813,-1769 1813,-1750 1902,-1750 1902,-1769\"/>\n<text text-anchor=\"middle\" x=\"1857.5\" y=\"-1757\" font-family=\"monospace\" font-size=\"10.00\" fill=\"#000000\">AddBackward0</text>\n</g>\n<!-- 139898154067408&#45;&gt;139898154067280 -->\n<g id=\"edge34\" class=\"edge\">\n<title>139898154067408&#45;&gt;139898154067280</title>\n<path fill=\"none\" stroke=\"#000000\" d=\"M1875.8805,-1749.9136C1894.8013,-1740.0454 1924.4974,-1724.5574 1946.1713,-1713.2533\"/>\n<polygon fill=\"#000000\" stroke=\"#000000\" points=\"1947.9575,-1716.2693 1955.2054,-1708.5416 1944.7204,-1710.0627 1947.9575,-1716.2693\"/>\n</g>\n<!-- 139898154067344 -->\n<g id=\"node37\" class=\"node\">\n<title>139898154067344</title>\n<polygon fill=\"#d3d3d3\" stroke=\"#000000\" points=\"1905,-1829.5 1810,-1829.5 1810,-1810.5 1905,-1810.5 1905,-1829.5\"/>\n<text text-anchor=\"middle\" x=\"1857.5\" y=\"-1817.5\" font-family=\"monospace\" font-size=\"10.00\" fill=\"#000000\">ReluBackward1</text>\n</g>\n<!-- 139898154067344&#45;&gt;139898154067408 -->\n<g id=\"edge35\" class=\"edge\">\n<title>139898154067344&#45;&gt;139898154067408</title>\n<path fill=\"none\" stroke=\"#000000\" d=\"M1857.5,-1810.2796C1857.5,-1802.0376 1857.5,-1789.9457 1857.5,-1779.629\"/>\n<polygon fill=\"#000000\" stroke=\"#000000\" points=\"1861.0001,-1779.3972 1857.5,-1769.3972 1854.0001,-1779.3973 1861.0001,-1779.3972\"/>\n</g>\n<!-- 139898154067792 -->\n<g id=\"node38\" class=\"node\">\n<title>139898154067792</title>\n<polygon fill=\"#d3d3d3\" stroke=\"#000000\" points=\"2219,-1890 2070,-1890 2070,-1871 2219,-1871 2219,-1890\"/>\n<text text-anchor=\"middle\" x=\"2144.5\" y=\"-1878\" font-family=\"monospace\" font-size=\"10.00\" fill=\"#000000\">CudnnBatchNormBackward</text>\n</g>\n<!-- 139898154067792&#45;&gt;139898154067344 -->\n<g id=\"edge36\" class=\"edge\">\n<title>139898154067792&#45;&gt;139898154067344</title>\n<path fill=\"none\" stroke=\"#000000\" d=\"M2090.6042,-1870.9446C2043.6483,-1862.3671 1973.8213,-1849.0028 1913.5,-1835 1909.6396,-1834.1039 1905.6419,-1833.1285 1901.6405,-1832.1196\"/>\n<polygon fill=\"#000000\" stroke=\"#000000\" points=\"1902.32,-1828.6803 1891.7625,-1829.5682 1900.5694,-1835.4579 1902.32,-1828.6803\"/>\n</g>\n<!-- 139898154068048 -->\n<g id=\"node39\" class=\"node\">\n<title>139898154068048</title>\n<polygon fill=\"#d3d3d3\" stroke=\"#000000\" points=\"2133,-1945 2044,-1945 2044,-1926 2133,-1926 2133,-1945\"/>\n<text text-anchor=\"middle\" x=\"2088.5\" y=\"-1933\" font-family=\"monospace\" font-size=\"10.00\" fill=\"#000000\">AddBackward0</text>\n</g>\n<!-- 139898154068048&#45;&gt;139898154067792 -->\n<g id=\"edge37\" class=\"edge\">\n<title>139898154068048&#45;&gt;139898154067792</title>\n<path fill=\"none\" stroke=\"#000000\" d=\"M2098.2545,-1925.9197C2106.1865,-1918.1293 2117.5788,-1906.9405 2127.0712,-1897.6176\"/>\n<polygon fill=\"#000000\" stroke=\"#000000\" points=\"2129.7982,-1899.845 2134.4802,-1890.3408 2124.8932,-1894.8509 2129.7982,-1899.845\"/>\n</g>\n<!-- 139898154068240 -->\n<g id=\"node40\" class=\"node\">\n<title>139898154068240</title>\n<polygon fill=\"#d3d3d3\" stroke=\"#000000\" points=\"2026,-2005.5 1865,-2005.5 1865,-1986.5 2026,-1986.5 2026,-2005.5\"/>\n<text text-anchor=\"middle\" x=\"1945.5\" y=\"-1993.5\" font-family=\"monospace\" font-size=\"10.00\" fill=\"#000000\">CudnnConvolutionBackward</text>\n</g>\n<!-- 139898154068240&#45;&gt;139898154068048 -->\n<g id=\"edge38\" class=\"edge\">\n<title>139898154068240&#45;&gt;139898154068048</title>\n<path fill=\"none\" stroke=\"#000000\" d=\"M1968.1588,-1986.4136C1992.0065,-1976.3242 2029.7399,-1960.3601 2056.5924,-1948.9994\"/>\n<polygon fill=\"#000000\" stroke=\"#000000\" points=\"2058.1013,-1952.1614 2065.9472,-1945.0416 2055.3738,-1945.7146 2058.1013,-1952.1614\"/>\n</g>\n<!-- 139898154068368 -->\n<g id=\"node41\" class=\"node\">\n<title>139898154068368</title>\n<polygon fill=\"#d3d3d3\" stroke=\"#000000\" points=\"1932,-2066 1837,-2066 1837,-2047 1932,-2047 1932,-2066\"/>\n<text text-anchor=\"middle\" x=\"1884.5\" y=\"-2054\" font-family=\"monospace\" font-size=\"10.00\" fill=\"#000000\">ReluBackward1</text>\n</g>\n<!-- 139898154068368&#45;&gt;139898154068240 -->\n<g id=\"edge39\" class=\"edge\">\n<title>139898154068368&#45;&gt;139898154068240</title>\n<path fill=\"none\" stroke=\"#000000\" d=\"M1894.3007,-2046.7796C1903.4065,-2037.7485 1917.1728,-2024.095 1928.1382,-2013.2195\"/>\n<polygon fill=\"#000000\" stroke=\"#000000\" points=\"1930.8855,-2015.4242 1935.521,-2005.8972 1925.9562,-2010.4541 1930.8855,-2015.4242\"/>\n</g>\n<!-- 139898154068304 -->\n<g id=\"node42\" class=\"node\">\n<title>139898154068304</title>\n<polygon fill=\"#d3d3d3\" stroke=\"#000000\" points=\"1953,-2126.5 1804,-2126.5 1804,-2107.5 1953,-2107.5 1953,-2126.5\"/>\n<text text-anchor=\"middle\" x=\"1878.5\" y=\"-2114.5\" font-family=\"monospace\" font-size=\"10.00\" fill=\"#000000\">CudnnBatchNormBackward</text>\n</g>\n<!-- 139898154068304&#45;&gt;139898154068368 -->\n<g id=\"edge40\" class=\"edge\">\n<title>139898154068304&#45;&gt;139898154068368</title>\n<path fill=\"none\" stroke=\"#000000\" d=\"M1879.464,-2107.2796C1880.2814,-2099.0376 1881.4806,-2086.9457 1882.5037,-2076.629\"/>\n<polygon fill=\"#000000\" stroke=\"#000000\" points=\"1886.0144,-2076.6939 1883.5185,-2066.3972 1879.0486,-2076.003 1886.0144,-2076.6939\"/>\n</g>\n<!-- 139898154068816 -->\n<g id=\"node43\" class=\"node\">\n<title>139898154068816</title>\n<polygon fill=\"#d3d3d3\" stroke=\"#000000\" points=\"1867,-2187 1778,-2187 1778,-2168 1867,-2168 1867,-2187\"/>\n<text text-anchor=\"middle\" x=\"1822.5\" y=\"-2175\" font-family=\"monospace\" font-size=\"10.00\" fill=\"#000000\">AddBackward0</text>\n</g>\n<!-- 139898154068816&#45;&gt;139898154068304 -->\n<g id=\"edge41\" class=\"edge\">\n<title>139898154068816&#45;&gt;139898154068304</title>\n<path fill=\"none\" stroke=\"#000000\" d=\"M1831.4974,-2167.7796C1839.7756,-2158.8362 1852.2497,-2145.3597 1862.2674,-2134.537\"/>\n<polygon fill=\"#000000\" stroke=\"#000000\" points=\"1865.1146,-2136.6135 1869.3389,-2126.8972 1859.9775,-2131.8585 1865.1146,-2136.6135\"/>\n</g>\n<!-- 139898154069008 -->\n<g id=\"node44\" class=\"node\">\n<title>139898154069008</title>\n<polygon fill=\"#d3d3d3\" stroke=\"#000000\" points=\"1760,-2247.5 1599,-2247.5 1599,-2228.5 1760,-2228.5 1760,-2247.5\"/>\n<text text-anchor=\"middle\" x=\"1679.5\" y=\"-2235.5\" font-family=\"monospace\" font-size=\"10.00\" fill=\"#000000\">CudnnConvolutionBackward</text>\n</g>\n<!-- 139898154069008&#45;&gt;139898154068816 -->\n<g id=\"edge42\" class=\"edge\">\n<title>139898154069008&#45;&gt;139898154068816</title>\n<path fill=\"none\" stroke=\"#000000\" d=\"M1702.1588,-2228.4136C1726.0065,-2218.3242 1763.7399,-2202.3601 1790.5924,-2190.9994\"/>\n<polygon fill=\"#000000\" stroke=\"#000000\" points=\"1792.1013,-2194.1614 1799.9472,-2187.0416 1789.3738,-2187.7146 1792.1013,-2194.1614\"/>\n</g>\n<!-- 139898154067920 -->\n<g id=\"node45\" class=\"node\">\n<title>139898154067920</title>\n<polygon fill=\"#d3d3d3\" stroke=\"#000000\" points=\"1641,-2308 1456,-2308 1456,-2289 1641,-2289 1641,-2308\"/>\n<text text-anchor=\"middle\" x=\"1548.5\" y=\"-2296\" font-family=\"monospace\" font-size=\"10.00\" fill=\"#000000\">MaxPool2DWithIndicesBackward</text>\n</g>\n<!-- 139898154067920&#45;&gt;139898154067408 -->\n<g id=\"edge143\" class=\"edge\">\n<title>139898154067920&#45;&gt;139898154067408</title>\n<path fill=\"none\" stroke=\"#000000\" d=\"M1550.3881,-2288.8198C1554.2095,-2268.3561 1562.5,-2219.1598 1562.5,-2177.5 1562.5,-2177.5 1562.5,-2177.5 1562.5,-1880.5 1562.5,-1829.1159 1717.642,-1788.6241 1802.9101,-1770.2497\"/>\n<polygon fill=\"#000000\" stroke=\"#000000\" points=\"1803.6409,-1773.6726 1812.6958,-1768.1719 1802.1869,-1766.8253 1803.6409,-1773.6726\"/>\n</g>\n<!-- 139898154067920&#45;&gt;139898154069008 -->\n<g id=\"edge43\" class=\"edge\">\n<title>139898154067920&#45;&gt;139898154069008</title>\n<path fill=\"none\" stroke=\"#000000\" d=\"M1569.2573,-2288.9136C1590.9122,-2278.9127 1625.0653,-2263.1397 1649.6203,-2251.7994\"/>\n<polygon fill=\"#000000\" stroke=\"#000000\" points=\"1651.2287,-2254.9119 1658.8398,-2247.5416 1648.2937,-2248.5569 1651.2287,-2254.9119\"/>\n</g>\n<!-- 139898154069328 -->\n<g id=\"node46\" class=\"node\">\n<title>139898154069328</title>\n<polygon fill=\"#d3d3d3\" stroke=\"#000000\" points=\"1596,-2368.5 1501,-2368.5 1501,-2349.5 1596,-2349.5 1596,-2368.5\"/>\n<text text-anchor=\"middle\" x=\"1548.5\" y=\"-2356.5\" font-family=\"monospace\" font-size=\"10.00\" fill=\"#000000\">ReluBackward1</text>\n</g>\n<!-- 139898154069328&#45;&gt;139898154067920 -->\n<g id=\"edge44\" class=\"edge\">\n<title>139898154069328&#45;&gt;139898154067920</title>\n<path fill=\"none\" stroke=\"#000000\" d=\"M1548.5,-2349.2796C1548.5,-2341.0376 1548.5,-2328.9457 1548.5,-2318.629\"/>\n<polygon fill=\"#000000\" stroke=\"#000000\" points=\"1552.0001,-2318.3972 1548.5,-2308.3972 1545.0001,-2318.3973 1552.0001,-2318.3972\"/>\n</g>\n<!-- 139898154069456 -->\n<g id=\"node47\" class=\"node\">\n<title>139898154069456</title>\n<polygon fill=\"#d3d3d3\" stroke=\"#000000\" points=\"1623,-2429 1474,-2429 1474,-2410 1623,-2410 1623,-2429\"/>\n<text text-anchor=\"middle\" x=\"1548.5\" y=\"-2417\" font-family=\"monospace\" font-size=\"10.00\" fill=\"#000000\">CudnnBatchNormBackward</text>\n</g>\n<!-- 139898154069456&#45;&gt;139898154069328 -->\n<g id=\"edge45\" class=\"edge\">\n<title>139898154069456&#45;&gt;139898154069328</title>\n<path fill=\"none\" stroke=\"#000000\" d=\"M1548.5,-2409.7796C1548.5,-2401.5376 1548.5,-2389.4457 1548.5,-2379.129\"/>\n<polygon fill=\"#000000\" stroke=\"#000000\" points=\"1552.0001,-2378.8972 1548.5,-2368.8972 1545.0001,-2378.8973 1552.0001,-2378.8972\"/>\n</g>\n<!-- 139898154069648 -->\n<g id=\"node48\" class=\"node\">\n<title>139898154069648</title>\n<polygon fill=\"#d3d3d3\" stroke=\"#000000\" points=\"1477,-2484 1388,-2484 1388,-2465 1477,-2465 1477,-2484\"/>\n<text text-anchor=\"middle\" x=\"1432.5\" y=\"-2472\" font-family=\"monospace\" font-size=\"10.00\" fill=\"#000000\">AddBackward0</text>\n</g>\n<!-- 139898154069648&#45;&gt;139898154069456 -->\n<g id=\"edge46\" class=\"edge\">\n<title>139898154069648&#45;&gt;139898154069456</title>\n<path fill=\"none\" stroke=\"#000000\" d=\"M1452.7057,-2464.9197C1470.9737,-2456.2581 1498.1018,-2443.3957 1518.8304,-2433.5675\"/>\n<polygon fill=\"#000000\" stroke=\"#000000\" points=\"1520.6004,-2436.6018 1528.1367,-2429.155 1517.6014,-2430.2768 1520.6004,-2436.6018\"/>\n</g>\n<!-- 139898154069840 -->\n<g id=\"node49\" class=\"node\">\n<title>139898154069840</title>\n<polygon fill=\"#d3d3d3\" stroke=\"#000000\" points=\"1370,-2544.5 1209,-2544.5 1209,-2525.5 1370,-2525.5 1370,-2544.5\"/>\n<text text-anchor=\"middle\" x=\"1289.5\" y=\"-2532.5\" font-family=\"monospace\" font-size=\"10.00\" fill=\"#000000\">CudnnConvolutionBackward</text>\n</g>\n<!-- 139898154069840&#45;&gt;139898154069648 -->\n<g id=\"edge47\" class=\"edge\">\n<title>139898154069840&#45;&gt;139898154069648</title>\n<path fill=\"none\" stroke=\"#000000\" d=\"M1312.1588,-2525.4136C1336.0065,-2515.3242 1373.7399,-2499.3601 1400.5924,-2487.9994\"/>\n<polygon fill=\"#000000\" stroke=\"#000000\" points=\"1402.1013,-2491.1614 1409.9472,-2484.0416 1399.3738,-2484.7146 1402.1013,-2491.1614\"/>\n</g>\n<!-- 139898154074256 -->\n<g id=\"node50\" class=\"node\">\n<title>139898154074256</title>\n<polygon fill=\"#d3d3d3\" stroke=\"#000000\" points=\"1215,-2605 1120,-2605 1120,-2586 1215,-2586 1215,-2605\"/>\n<text text-anchor=\"middle\" x=\"1167.5\" y=\"-2593\" font-family=\"monospace\" font-size=\"10.00\" fill=\"#000000\">ReluBackward1</text>\n</g>\n<!-- 139898154074256&#45;&gt;139898154069840 -->\n<g id=\"edge48\" class=\"edge\">\n<title>139898154074256&#45;&gt;139898154069840</title>\n<path fill=\"none\" stroke=\"#000000\" d=\"M1186.8313,-2585.9136C1206.8199,-2576.0012 1238.2431,-2560.4184 1261.0639,-2549.1015\"/>\n<polygon fill=\"#000000\" stroke=\"#000000\" points=\"1262.8552,-2552.12 1270.2592,-2544.5416 1259.7453,-2545.8487 1262.8552,-2552.12\"/>\n</g>\n<!-- 139898154074192 -->\n<g id=\"node51\" class=\"node\">\n<title>139898154074192</title>\n<polygon fill=\"#d3d3d3\" stroke=\"#000000\" points=\"1226,-2665.5 1077,-2665.5 1077,-2646.5 1226,-2646.5 1226,-2665.5\"/>\n<text text-anchor=\"middle\" x=\"1151.5\" y=\"-2653.5\" font-family=\"monospace\" font-size=\"10.00\" fill=\"#000000\">CudnnBatchNormBackward</text>\n</g>\n<!-- 139898154074192&#45;&gt;139898154074256 -->\n<g id=\"edge49\" class=\"edge\">\n<title>139898154074192&#45;&gt;139898154074256</title>\n<path fill=\"none\" stroke=\"#000000\" d=\"M1154.0707,-2646.2796C1156.2736,-2637.9499 1159.5164,-2625.688 1162.2635,-2615.3004\"/>\n<polygon fill=\"#000000\" stroke=\"#000000\" points=\"1165.7094,-2615.9598 1164.8825,-2605.3972 1158.9421,-2614.17 1165.7094,-2615.9598\"/>\n</g>\n<!-- 139898154074576 -->\n<g id=\"node52\" class=\"node\">\n<title>139898154074576</title>\n<polygon fill=\"#d3d3d3\" stroke=\"#000000\" points=\"1080,-2726 991,-2726 991,-2707 1080,-2707 1080,-2726\"/>\n<text text-anchor=\"middle\" x=\"1035.5\" y=\"-2714\" font-family=\"monospace\" font-size=\"10.00\" fill=\"#000000\">AddBackward0</text>\n</g>\n<!-- 139898154074576&#45;&gt;139898154074192 -->\n<g id=\"edge50\" class=\"edge\">\n<title>139898154074576&#45;&gt;139898154074192</title>\n<path fill=\"none\" stroke=\"#000000\" d=\"M1053.8805,-2706.9136C1072.8013,-2697.0454 1102.4974,-2681.5574 1124.1713,-2670.2533\"/>\n<polygon fill=\"#000000\" stroke=\"#000000\" points=\"1125.9575,-2673.2693 1133.2054,-2665.5416 1122.7204,-2667.0627 1125.9575,-2673.2693\"/>\n</g>\n<!-- 139898154074768 -->\n<g id=\"node53\" class=\"node\">\n<title>139898154074768</title>\n<polygon fill=\"#d3d3d3\" stroke=\"#000000\" points=\"973,-2786.5 812,-2786.5 812,-2767.5 973,-2767.5 973,-2786.5\"/>\n<text text-anchor=\"middle\" x=\"892.5\" y=\"-2774.5\" font-family=\"monospace\" font-size=\"10.00\" fill=\"#000000\">CudnnConvolutionBackward</text>\n</g>\n<!-- 139898154074768&#45;&gt;139898154074576 -->\n<g id=\"edge51\" class=\"edge\">\n<title>139898154074768&#45;&gt;139898154074576</title>\n<path fill=\"none\" stroke=\"#000000\" d=\"M915.1588,-2767.4136C939.0065,-2757.3242 976.7399,-2741.3601 1003.5924,-2729.9994\"/>\n<polygon fill=\"#000000\" stroke=\"#000000\" points=\"1005.1013,-2733.1614 1012.9472,-2726.0416 1002.3738,-2726.7146 1005.1013,-2733.1614\"/>\n</g>\n<!-- 139898154074896 -->\n<g id=\"node54\" class=\"node\">\n<title>139898154074896</title>\n<polygon fill=\"#d3d3d3\" stroke=\"#000000\" points=\"759,-2847 664,-2847 664,-2828 759,-2828 759,-2847\"/>\n<text text-anchor=\"middle\" x=\"711.5\" y=\"-2835\" font-family=\"monospace\" font-size=\"10.00\" fill=\"#000000\">StackBackward</text>\n</g>\n<!-- 139898154074896&#45;&gt;139898154074768 -->\n<g id=\"edge52\" class=\"edge\">\n<title>139898154074896&#45;&gt;139898154074768</title>\n<path fill=\"none\" stroke=\"#000000\" d=\"M740.18,-2827.9136C771.0268,-2817.6029 820.2285,-2801.157 854.3293,-2789.7587\"/>\n<polygon fill=\"#000000\" stroke=\"#000000\" points=\"855.5795,-2793.0312 863.9542,-2786.5416 853.3604,-2786.3923 855.5795,-2793.0312\"/>\n</g>\n<!-- 139898154074832 -->\n<g id=\"node55\" class=\"node\">\n<title>139898154074832</title>\n<polygon fill=\"#d3d3d3\" stroke=\"#000000\" points=\"529,-2907.5 416,-2907.5 416,-2888.5 529,-2888.5 529,-2907.5\"/>\n<text text-anchor=\"middle\" x=\"472.5\" y=\"-2895.5\" font-family=\"monospace\" font-size=\"10.00\" fill=\"#000000\">SqueezeBackward1</text>\n</g>\n<!-- 139898154074832&#45;&gt;139898154074896 -->\n<g id=\"edge53\" class=\"edge\">\n<title>139898154074832&#45;&gt;139898154074896</title>\n<path fill=\"none\" stroke=\"#000000\" d=\"M510.1067,-2888.4803C551.6592,-2877.9618 618.6655,-2860.9999 663.8591,-2849.5597\"/>\n<polygon fill=\"#000000\" stroke=\"#000000\" points=\"664.8831,-2852.911 673.7184,-2847.064 663.1652,-2846.125 664.8831,-2852.911\"/>\n</g>\n<!-- 139898156425488 -->\n<g id=\"node56\" class=\"node\">\n<title>139898156425488</title>\n<polygon fill=\"#d3d3d3\" stroke=\"#000000\" points=\"529,-2968 344,-2968 344,-2949 529,-2949 529,-2968\"/>\n<text text-anchor=\"middle\" x=\"436.5\" y=\"-2956\" font-family=\"monospace\" font-size=\"10.00\" fill=\"#000000\">MaxPool2DWithIndicesBackward</text>\n</g>\n<!-- 139898156425488&#45;&gt;139898154074832 -->\n<g id=\"edge54\" class=\"edge\">\n<title>139898156425488&#45;&gt;139898154074832</title>\n<path fill=\"none\" stroke=\"#000000\" d=\"M442.284,-2948.7796C447.4492,-2940.0992 455.1555,-2927.1485 461.4925,-2916.4987\"/>\n<polygon fill=\"#000000\" stroke=\"#000000\" points=\"464.5049,-2918.2807 466.6107,-2907.8972 458.4893,-2914.7011 464.5049,-2918.2807\"/>\n</g>\n<!-- 139898154075472 -->\n<g id=\"node57\" class=\"node\">\n<title>139898154075472</title>\n<polygon fill=\"#d3d3d3\" stroke=\"#000000\" points=\"476,-3023 351,-3023 351,-3004 476,-3004 476,-3023\"/>\n<text text-anchor=\"middle\" x=\"413.5\" y=\"-3011\" font-family=\"monospace\" font-size=\"10.00\" fill=\"#000000\">UnsqueezeBackward0</text>\n</g>\n<!-- 139898154075472&#45;&gt;139898156425488 -->\n<g id=\"edge55\" class=\"edge\">\n<title>139898154075472&#45;&gt;139898156425488</title>\n<path fill=\"none\" stroke=\"#000000\" d=\"M417.5063,-3003.9197C420.5361,-2996.6746 424.795,-2986.4903 428.5123,-2977.601\"/>\n<polygon fill=\"#000000\" stroke=\"#000000\" points=\"431.7557,-2978.917 432.3847,-2968.3408 425.2976,-2976.2163 431.7557,-2978.917\"/>\n</g>\n<!-- 139898155516496 -->\n<g id=\"node58\" class=\"node\">\n<title>139898155516496</title>\n<polygon fill=\"#d3d3d3\" stroke=\"#000000\" points=\"396,-3078 301,-3078 301,-3059 396,-3059 396,-3078\"/>\n<text text-anchor=\"middle\" x=\"348.5\" y=\"-3066\" font-family=\"monospace\" font-size=\"10.00\" fill=\"#000000\">ReluBackward1</text>\n</g>\n<!-- 139898155516496&#45;&gt;139898154075472 -->\n<g id=\"edge56\" class=\"edge\">\n<title>139898155516496&#45;&gt;139898154075472</title>\n<path fill=\"none\" stroke=\"#000000\" d=\"M359.8221,-3058.9197C369.2132,-3050.9735 382.7827,-3039.4916 393.9285,-3030.0605\"/>\n<polygon fill=\"#000000\" stroke=\"#000000\" points=\"396.4969,-3032.4721 401.8699,-3023.3408 391.9752,-3027.1284 396.4969,-3032.4721\"/>\n</g>\n<!-- 139898154075216 -->\n<g id=\"node59\" class=\"node\">\n<title>139898154075216</title>\n<polygon fill=\"#d3d3d3\" stroke=\"#000000\" points=\"411,-3133 262,-3133 262,-3114 411,-3114 411,-3133\"/>\n<text text-anchor=\"middle\" x=\"336.5\" y=\"-3121\" font-family=\"monospace\" font-size=\"10.00\" fill=\"#000000\">CudnnBatchNormBackward</text>\n</g>\n<!-- 139898154075216&#45;&gt;139898155516496 -->\n<g id=\"edge57\" class=\"edge\">\n<title>139898154075216&#45;&gt;139898155516496</title>\n<path fill=\"none\" stroke=\"#000000\" d=\"M338.5902,-3113.9197C340.137,-3106.8304 342.2978,-3096.9269 344.207,-3088.1763\"/>\n<polygon fill=\"#000000\" stroke=\"#000000\" points=\"347.6407,-3088.8571 346.3529,-3078.3408 340.8016,-3087.3649 347.6407,-3088.8571\"/>\n</g>\n<!-- 139898154075856 -->\n<g id=\"node60\" class=\"node\">\n<title>139898154075856</title>\n<polygon fill=\"#d3d3d3\" stroke=\"#000000\" points=\"208,-3188 95,-3188 95,-3169 208,-3169 208,-3188\"/>\n<text text-anchor=\"middle\" x=\"151.5\" y=\"-3176\" font-family=\"monospace\" font-size=\"10.00\" fill=\"#000000\">SqueezeBackward1</text>\n</g>\n<!-- 139898154075856&#45;&gt;139898154075216 -->\n<g id=\"edge58\" class=\"edge\">\n<title>139898154075856&#45;&gt;139898154075216</title>\n<path fill=\"none\" stroke=\"#000000\" d=\"M183.7245,-3168.9197C214.4029,-3159.7991 260.7488,-3146.0206 294.3482,-3136.0316\"/>\n<polygon fill=\"#000000\" stroke=\"#000000\" points=\"295.747,-3139.2672 304.3349,-3133.0626 293.7521,-3132.5575 295.747,-3139.2672\"/>\n</g>\n<!-- 139898154076048 -->\n<g id=\"node61\" class=\"node\">\n<title>139898154076048</title>\n<polygon fill=\"#d3d3d3\" stroke=\"#000000\" points=\"196,-3248.5 107,-3248.5 107,-3229.5 196,-3229.5 196,-3248.5\"/>\n<text text-anchor=\"middle\" x=\"151.5\" y=\"-3236.5\" font-family=\"monospace\" font-size=\"10.00\" fill=\"#000000\">AddBackward0</text>\n</g>\n<!-- 139898154076048&#45;&gt;139898154075856 -->\n<g id=\"edge59\" class=\"edge\">\n<title>139898154076048&#45;&gt;139898154075856</title>\n<path fill=\"none\" stroke=\"#000000\" d=\"M151.5,-3229.2796C151.5,-3221.0376 151.5,-3208.9457 151.5,-3198.629\"/>\n<polygon fill=\"#000000\" stroke=\"#000000\" points=\"155.0001,-3198.3972 151.5,-3188.3972 148.0001,-3198.3973 155.0001,-3198.3972\"/>\n</g>\n<!-- 139898154076176 -->\n<g id=\"node62\" class=\"node\">\n<title>139898154076176</title>\n<polygon fill=\"#d3d3d3\" stroke=\"#000000\" points=\"161,-3309 0,-3309 0,-3290 161,-3290 161,-3309\"/>\n<text text-anchor=\"middle\" x=\"80.5\" y=\"-3297\" font-family=\"monospace\" font-size=\"10.00\" fill=\"#000000\">CudnnConvolutionBackward</text>\n</g>\n<!-- 139898154076176&#45;&gt;139898154076048 -->\n<g id=\"edge60\" class=\"edge\">\n<title>139898154076176&#45;&gt;139898154076048</title>\n<path fill=\"none\" stroke=\"#000000\" d=\"M91.9074,-3289.7796C102.7117,-3280.5731 119.1533,-3266.563 132.0317,-3255.5892\"/>\n<polygon fill=\"#000000\" stroke=\"#000000\" points=\"134.5436,-3258.0471 139.8851,-3248.8972 130.0035,-3252.7191 134.5436,-3258.0471\"/>\n</g>\n<!-- 139898154076304 -->\n<g id=\"node63\" class=\"node\">\n<title>139898154076304</title>\n<polygon fill=\"#d3d3d3\" stroke=\"#000000\" points=\"143,-3364 18,-3364 18,-3345 143,-3345 143,-3364\"/>\n<text text-anchor=\"middle\" x=\"80.5\" y=\"-3352\" font-family=\"monospace\" font-size=\"10.00\" fill=\"#000000\">UnsqueezeBackward0</text>\n</g>\n<!-- 139898154076304&#45;&gt;139898154076176 -->\n<g id=\"edge61\" class=\"edge\">\n<title>139898154076304&#45;&gt;139898154076176</title>\n<path fill=\"none\" stroke=\"#000000\" d=\"M80.5,-3344.9197C80.5,-3337.9083 80.5,-3328.1442 80.5,-3319.4652\"/>\n<polygon fill=\"#000000\" stroke=\"#000000\" points=\"84.0001,-3319.3408 80.5,-3309.3408 77.0001,-3319.3409 84.0001,-3319.3408\"/>\n</g>\n<!-- 139898154076496 -->\n<g id=\"node64\" class=\"node\">\n<title>139898154076496</title>\n<polygon fill=\"#d3d3d3\" stroke=\"#000000\" points=\"131,-3424.5 30,-3424.5 30,-3405.5 131,-3405.5 131,-3424.5\"/>\n<text text-anchor=\"middle\" x=\"80.5\" y=\"-3412.5\" font-family=\"monospace\" font-size=\"10.00\" fill=\"#000000\">AccumulateGrad</text>\n</g>\n<!-- 139898154076496&#45;&gt;139898154076304 -->\n<g id=\"edge62\" class=\"edge\">\n<title>139898154076496&#45;&gt;139898154076304</title>\n<path fill=\"none\" stroke=\"#000000\" d=\"M80.5,-3405.2796C80.5,-3397.0376 80.5,-3384.9457 80.5,-3374.629\"/>\n<polygon fill=\"#000000\" stroke=\"#000000\" points=\"84.0001,-3374.3972 80.5,-3364.3972 77.0001,-3374.3973 84.0001,-3374.3972\"/>\n</g>\n<!-- 139898244241680 -->\n<g id=\"node65\" class=\"node\">\n<title>139898244241680</title>\n<polygon fill=\"#add8e6\" stroke=\"#000000\" points=\"131,-3496 30,-3496 30,-3466 131,-3466 131,-3496\"/>\n<text text-anchor=\"middle\" x=\"80.5\" y=\"-3484\" font-family=\"monospace\" font-size=\"10.00\" fill=\"#000000\">conv1.0.weight</text>\n<text text-anchor=\"middle\" x=\"80.5\" y=\"-3473\" font-family=\"monospace\" font-size=\"10.00\" fill=\"#000000\"> (32, 1, 11)</text>\n</g>\n<!-- 139898244241680&#45;&gt;139898154076496 -->\n<g id=\"edge63\" class=\"edge\">\n<title>139898244241680&#45;&gt;139898154076496</title>\n<path fill=\"none\" stroke=\"#000000\" d=\"M80.5,-3465.6924C80.5,-3456.5067 80.5,-3444.7245 80.5,-3434.8312\"/>\n<polygon fill=\"#000000\" stroke=\"#000000\" points=\"84.0001,-3434.703 80.5,-3424.7031 77.0001,-3434.7031 84.0001,-3434.703\"/>\n</g>\n<!-- 139898154076432 -->\n<g id=\"node66\" class=\"node\">\n<title>139898154076432</title>\n<polygon fill=\"#d3d3d3\" stroke=\"#000000\" points=\"268,-3309 179,-3309 179,-3290 268,-3290 268,-3309\"/>\n<text text-anchor=\"middle\" x=\"223.5\" y=\"-3297\" font-family=\"monospace\" font-size=\"10.00\" fill=\"#000000\">ViewBackward</text>\n</g>\n<!-- 139898154076432&#45;&gt;139898154076048 -->\n<g id=\"edge64\" class=\"edge\">\n<title>139898154076432&#45;&gt;139898154076048</title>\n<path fill=\"none\" stroke=\"#000000\" d=\"M211.932,-3289.7796C200.9755,-3280.5731 184.3023,-3266.563 171.2425,-3255.5892\"/>\n<polygon fill=\"#000000\" stroke=\"#000000\" points=\"173.1862,-3252.6508 163.2785,-3248.8972 168.6829,-3258.01 173.1862,-3252.6508\"/>\n</g>\n<!-- 139898154076560 -->\n<g id=\"node67\" class=\"node\">\n<title>139898154076560</title>\n<polygon fill=\"#d3d3d3\" stroke=\"#000000\" points=\"274,-3364 173,-3364 173,-3345 274,-3345 274,-3364\"/>\n<text text-anchor=\"middle\" x=\"223.5\" y=\"-3352\" font-family=\"monospace\" font-size=\"10.00\" fill=\"#000000\">AccumulateGrad</text>\n</g>\n<!-- 139898154076560&#45;&gt;139898154076432 -->\n<g id=\"edge65\" class=\"edge\">\n<title>139898154076560&#45;&gt;139898154076432</title>\n<path fill=\"none\" stroke=\"#000000\" d=\"M223.5,-3344.9197C223.5,-3337.9083 223.5,-3328.1442 223.5,-3319.4652\"/>\n<polygon fill=\"#000000\" stroke=\"#000000\" points=\"227.0001,-3319.3408 223.5,-3309.3408 220.0001,-3319.3409 227.0001,-3319.3408\"/>\n</g>\n<!-- 139898244242400 -->\n<g id=\"node68\" class=\"node\">\n<title>139898244242400</title>\n<polygon fill=\"#add8e6\" stroke=\"#000000\" points=\"268,-3430 179,-3430 179,-3400 268,-3400 268,-3430\"/>\n<text text-anchor=\"middle\" x=\"223.5\" y=\"-3418\" font-family=\"monospace\" font-size=\"10.00\" fill=\"#000000\">conv1.0.bias</text>\n<text text-anchor=\"middle\" x=\"223.5\" y=\"-3407\" font-family=\"monospace\" font-size=\"10.00\" fill=\"#000000\"> (32)</text>\n</g>\n<!-- 139898244242400&#45;&gt;139898154076560 -->\n<g id=\"edge66\" class=\"edge\">\n<title>139898244242400&#45;&gt;139898154076560</title>\n<path fill=\"none\" stroke=\"#000000\" d=\"M223.5,-3399.7333C223.5,-3392.0322 223.5,-3382.5977 223.5,-3374.3414\"/>\n<polygon fill=\"#000000\" stroke=\"#000000\" points=\"227.0001,-3374.0864 223.5,-3364.0864 220.0001,-3374.0864 227.0001,-3374.0864\"/>\n</g>\n<!-- 139898154075984 -->\n<g id=\"node69\" class=\"node\">\n<title>139898154075984</title>\n<polygon fill=\"#d3d3d3\" stroke=\"#000000\" points=\"327,-3188 226,-3188 226,-3169 327,-3169 327,-3188\"/>\n<text text-anchor=\"middle\" x=\"276.5\" y=\"-3176\" font-family=\"monospace\" font-size=\"10.00\" fill=\"#000000\">AccumulateGrad</text>\n</g>\n<!-- 139898154075984&#45;&gt;139898154075216 -->\n<g id=\"edge67\" class=\"edge\">\n<title>139898154075984&#45;&gt;139898154075216</title>\n<path fill=\"none\" stroke=\"#000000\" d=\"M286.9512,-3168.9197C295.5349,-3161.0514 307.9003,-3149.7164 318.1307,-3140.3385\"/>\n<polygon fill=\"#000000\" stroke=\"#000000\" points=\"320.758,-3142.6782 325.7645,-3133.3408 316.0279,-3137.5181 320.758,-3142.6782\"/>\n</g>\n<!-- 139898244242000 -->\n<g id=\"node70\" class=\"node\">\n<title>139898244242000</title>\n<polygon fill=\"#add8e6\" stroke=\"#000000\" points=\"327,-3254 226,-3254 226,-3224 327,-3224 327,-3254\"/>\n<text text-anchor=\"middle\" x=\"276.5\" y=\"-3242\" font-family=\"monospace\" font-size=\"10.00\" fill=\"#000000\">conv1.1.weight</text>\n<text text-anchor=\"middle\" x=\"276.5\" y=\"-3231\" font-family=\"monospace\" font-size=\"10.00\" fill=\"#000000\"> (32)</text>\n</g>\n<!-- 139898244242000&#45;&gt;139898154075984 -->\n<g id=\"edge68\" class=\"edge\">\n<title>139898244242000&#45;&gt;139898154075984</title>\n<path fill=\"none\" stroke=\"#000000\" d=\"M276.5,-3223.7333C276.5,-3216.0322 276.5,-3206.5977 276.5,-3198.3414\"/>\n<polygon fill=\"#000000\" stroke=\"#000000\" points=\"280.0001,-3198.0864 276.5,-3188.0864 273.0001,-3198.0864 280.0001,-3198.0864\"/>\n</g>\n<!-- 139898154075600 -->\n<g id=\"node71\" class=\"node\">\n<title>139898154075600</title>\n<polygon fill=\"#d3d3d3\" stroke=\"#000000\" points=\"446,-3188 345,-3188 345,-3169 446,-3169 446,-3188\"/>\n<text text-anchor=\"middle\" x=\"395.5\" y=\"-3176\" font-family=\"monospace\" font-size=\"10.00\" fill=\"#000000\">AccumulateGrad</text>\n</g>\n<!-- 139898154075600&#45;&gt;139898154075216 -->\n<g id=\"edge69\" class=\"edge\">\n<title>139898154075600&#45;&gt;139898154075216</title>\n<path fill=\"none\" stroke=\"#000000\" d=\"M385.223,-3168.9197C376.7824,-3161.0514 364.623,-3149.7164 354.5631,-3140.3385\"/>\n<polygon fill=\"#000000\" stroke=\"#000000\" points=\"356.7578,-3137.5995 347.0565,-3133.3408 351.9846,-3142.7198 356.7578,-3137.5995\"/>\n</g>\n<!-- 139898243882032 -->\n<g id=\"node72\" class=\"node\">\n<title>139898243882032</title>\n<polygon fill=\"#add8e6\" stroke=\"#000000\" points=\"440,-3254 351,-3254 351,-3224 440,-3224 440,-3254\"/>\n<text text-anchor=\"middle\" x=\"395.5\" y=\"-3242\" font-family=\"monospace\" font-size=\"10.00\" fill=\"#000000\">conv1.1.bias</text>\n<text text-anchor=\"middle\" x=\"395.5\" y=\"-3231\" font-family=\"monospace\" font-size=\"10.00\" fill=\"#000000\"> (32)</text>\n</g>\n<!-- 139898243882032&#45;&gt;139898154075600 -->\n<g id=\"edge70\" class=\"edge\">\n<title>139898243882032&#45;&gt;139898154075600</title>\n<path fill=\"none\" stroke=\"#000000\" d=\"M395.5,-3223.7333C395.5,-3216.0322 395.5,-3206.5977 395.5,-3198.3414\"/>\n<polygon fill=\"#000000\" stroke=\"#000000\" points=\"399.0001,-3198.0864 395.5,-3188.0864 392.0001,-3198.0864 399.0001,-3198.0864\"/>\n</g>\n<!-- 139898154075408 -->\n<g id=\"node73\" class=\"node\">\n<title>139898154075408</title>\n<polygon fill=\"#d3d3d3\" stroke=\"#000000\" points=\"702,-2907.5 589,-2907.5 589,-2888.5 702,-2888.5 702,-2907.5\"/>\n<text text-anchor=\"middle\" x=\"645.5\" y=\"-2895.5\" font-family=\"monospace\" font-size=\"10.00\" fill=\"#000000\">SqueezeBackward1</text>\n</g>\n<!-- 139898154075408&#45;&gt;139898154074896 -->\n<g id=\"edge71\" class=\"edge\">\n<title>139898154075408&#45;&gt;139898154074896</title>\n<path fill=\"none\" stroke=\"#000000\" d=\"M656.104,-2888.2796C666.0518,-2879.1608 681.1406,-2865.3294 693.0598,-2854.4035\"/>\n<polygon fill=\"#000000\" stroke=\"#000000\" points=\"695.6965,-2856.7346 700.703,-2847.3972 690.9664,-2851.5745 695.6965,-2856.7346\"/>\n</g>\n<!-- 139898154075536 -->\n<g id=\"node74\" class=\"node\">\n<title>139898154075536</title>\n<polygon fill=\"#d3d3d3\" stroke=\"#000000\" points=\"738,-2968 553,-2968 553,-2949 738,-2949 738,-2968\"/>\n<text text-anchor=\"middle\" x=\"645.5\" y=\"-2956\" font-family=\"monospace\" font-size=\"10.00\" fill=\"#000000\">MaxPool2DWithIndicesBackward</text>\n</g>\n<!-- 139898154075536&#45;&gt;139898154075408 -->\n<g id=\"edge72\" class=\"edge\">\n<title>139898154075536&#45;&gt;139898154075408</title>\n<path fill=\"none\" stroke=\"#000000\" d=\"M645.5,-2948.7796C645.5,-2940.5376 645.5,-2928.4457 645.5,-2918.129\"/>\n<polygon fill=\"#000000\" stroke=\"#000000\" points=\"649.0001,-2917.8972 645.5,-2907.8972 642.0001,-2917.8973 649.0001,-2917.8972\"/>\n</g>\n<!-- 139898154075728 -->\n<g id=\"node75\" class=\"node\">\n<title>139898154075728</title>\n<polygon fill=\"#d3d3d3\" stroke=\"#000000\" points=\"708,-3023 583,-3023 583,-3004 708,-3004 708,-3023\"/>\n<text text-anchor=\"middle\" x=\"645.5\" y=\"-3011\" font-family=\"monospace\" font-size=\"10.00\" fill=\"#000000\">UnsqueezeBackward0</text>\n</g>\n<!-- 139898154075728&#45;&gt;139898154075536 -->\n<g id=\"edge73\" class=\"edge\">\n<title>139898154075728&#45;&gt;139898154075536</title>\n<path fill=\"none\" stroke=\"#000000\" d=\"M645.5,-3003.9197C645.5,-2996.9083 645.5,-2987.1442 645.5,-2978.4652\"/>\n<polygon fill=\"#000000\" stroke=\"#000000\" points=\"649.0001,-2978.3408 645.5,-2968.3408 642.0001,-2978.3409 649.0001,-2978.3408\"/>\n</g>\n<!-- 139898154075792 -->\n<g id=\"node76\" class=\"node\">\n<title>139898154075792</title>\n<polygon fill=\"#d3d3d3\" stroke=\"#000000\" points=\"693,-3078 598,-3078 598,-3059 693,-3059 693,-3078\"/>\n<text text-anchor=\"middle\" x=\"645.5\" y=\"-3066\" font-family=\"monospace\" font-size=\"10.00\" fill=\"#000000\">ReluBackward1</text>\n</g>\n<!-- 139898154075792&#45;&gt;139898154075728 -->\n<g id=\"edge74\" class=\"edge\">\n<title>139898154075792&#45;&gt;139898154075728</title>\n<path fill=\"none\" stroke=\"#000000\" d=\"M645.5,-3058.9197C645.5,-3051.9083 645.5,-3042.1442 645.5,-3033.4652\"/>\n<polygon fill=\"#000000\" stroke=\"#000000\" points=\"649.0001,-3033.3408 645.5,-3023.3408 642.0001,-3033.3409 649.0001,-3033.3408\"/>\n</g>\n<!-- 139898154076368 -->\n<g id=\"node77\" class=\"node\">\n<title>139898154076368</title>\n<polygon fill=\"#d3d3d3\" stroke=\"#000000\" points=\"720,-3133 571,-3133 571,-3114 720,-3114 720,-3133\"/>\n<text text-anchor=\"middle\" x=\"645.5\" y=\"-3121\" font-family=\"monospace\" font-size=\"10.00\" fill=\"#000000\">CudnnBatchNormBackward</text>\n</g>\n<!-- 139898154076368&#45;&gt;139898154075792 -->\n<g id=\"edge75\" class=\"edge\">\n<title>139898154076368&#45;&gt;139898154075792</title>\n<path fill=\"none\" stroke=\"#000000\" d=\"M645.5,-3113.9197C645.5,-3106.9083 645.5,-3097.1442 645.5,-3088.4652\"/>\n<polygon fill=\"#000000\" stroke=\"#000000\" points=\"649.0001,-3088.3408 645.5,-3078.3408 642.0001,-3088.3409 649.0001,-3088.3408\"/>\n</g>\n<!-- 139898154076752 -->\n<g id=\"node78\" class=\"node\">\n<title>139898154076752</title>\n<polygon fill=\"#d3d3d3\" stroke=\"#000000\" points=\"577,-3188 464,-3188 464,-3169 577,-3169 577,-3188\"/>\n<text text-anchor=\"middle\" x=\"520.5\" y=\"-3176\" font-family=\"monospace\" font-size=\"10.00\" fill=\"#000000\">SqueezeBackward1</text>\n</g>\n<!-- 139898154076752&#45;&gt;139898154076368 -->\n<g id=\"edge76\" class=\"edge\">\n<title>139898154076752&#45;&gt;139898154076368</title>\n<path fill=\"none\" stroke=\"#000000\" d=\"M542.2733,-3168.9197C562.1369,-3160.1798 591.7215,-3147.1625 614.1332,-3137.3014\"/>\n<polygon fill=\"#000000\" stroke=\"#000000\" points=\"615.8132,-3140.3861 623.5568,-3133.155 612.994,-3133.9789 615.8132,-3140.3861\"/>\n</g>\n<!-- 139898154076624 -->\n<g id=\"node79\" class=\"node\">\n<title>139898154076624</title>\n<polygon fill=\"#d3d3d3\" stroke=\"#000000\" points=\"565,-3248.5 476,-3248.5 476,-3229.5 565,-3229.5 565,-3248.5\"/>\n<text text-anchor=\"middle\" x=\"520.5\" y=\"-3236.5\" font-family=\"monospace\" font-size=\"10.00\" fill=\"#000000\">AddBackward0</text>\n</g>\n<!-- 139898154076624&#45;&gt;139898154076752 -->\n<g id=\"edge77\" class=\"edge\">\n<title>139898154076624&#45;&gt;139898154076752</title>\n<path fill=\"none\" stroke=\"#000000\" d=\"M520.5,-3229.2796C520.5,-3221.0376 520.5,-3208.9457 520.5,-3198.629\"/>\n<polygon fill=\"#000000\" stroke=\"#000000\" points=\"524.0001,-3198.3972 520.5,-3188.3972 517.0001,-3198.3973 524.0001,-3198.3972\"/>\n</g>\n<!-- 139898154077008 -->\n<g id=\"node80\" class=\"node\">\n<title>139898154077008</title>\n<polygon fill=\"#d3d3d3\" stroke=\"#000000\" points=\"550,-3309 389,-3309 389,-3290 550,-3290 550,-3309\"/>\n<text text-anchor=\"middle\" x=\"469.5\" y=\"-3297\" font-family=\"monospace\" font-size=\"10.00\" fill=\"#000000\">CudnnConvolutionBackward</text>\n</g>\n<!-- 139898154077008&#45;&gt;139898154076624 -->\n<g id=\"edge78\" class=\"edge\">\n<title>139898154077008&#45;&gt;139898154076624</title>\n<path fill=\"none\" stroke=\"#000000\" d=\"M477.694,-3289.7796C485.1592,-3280.9239 496.3711,-3267.6235 505.4477,-3256.8561\"/>\n<polygon fill=\"#000000\" stroke=\"#000000\" points=\"508.3876,-3258.7989 512.1569,-3248.8972 503.0355,-3254.2872 508.3876,-3258.7989\"/>\n</g>\n<!-- 139898154077136 -->\n<g id=\"node81\" class=\"node\">\n<title>139898154077136</title>\n<polygon fill=\"#d3d3d3\" stroke=\"#000000\" points=\"532,-3364 407,-3364 407,-3345 532,-3345 532,-3364\"/>\n<text text-anchor=\"middle\" x=\"469.5\" y=\"-3352\" font-family=\"monospace\" font-size=\"10.00\" fill=\"#000000\">UnsqueezeBackward0</text>\n</g>\n<!-- 139898154077136&#45;&gt;139898154077008 -->\n<g id=\"edge79\" class=\"edge\">\n<title>139898154077136&#45;&gt;139898154077008</title>\n<path fill=\"none\" stroke=\"#000000\" d=\"M469.5,-3344.9197C469.5,-3337.9083 469.5,-3328.1442 469.5,-3319.4652\"/>\n<polygon fill=\"#000000\" stroke=\"#000000\" points=\"473.0001,-3319.3408 469.5,-3309.3408 466.0001,-3319.3409 473.0001,-3319.3408\"/>\n</g>\n<!-- 139898154077328 -->\n<g id=\"node82\" class=\"node\">\n<title>139898154077328</title>\n<polygon fill=\"#d3d3d3\" stroke=\"#000000\" points=\"520,-3424.5 419,-3424.5 419,-3405.5 520,-3405.5 520,-3424.5\"/>\n<text text-anchor=\"middle\" x=\"469.5\" y=\"-3412.5\" font-family=\"monospace\" font-size=\"10.00\" fill=\"#000000\">AccumulateGrad</text>\n</g>\n<!-- 139898154077328&#45;&gt;139898154077136 -->\n<g id=\"edge80\" class=\"edge\">\n<title>139898154077328&#45;&gt;139898154077136</title>\n<path fill=\"none\" stroke=\"#000000\" d=\"M469.5,-3405.2796C469.5,-3397.0376 469.5,-3384.9457 469.5,-3374.629\"/>\n<polygon fill=\"#000000\" stroke=\"#000000\" points=\"473.0001,-3374.3972 469.5,-3364.3972 466.0001,-3374.3973 473.0001,-3374.3972\"/>\n</g>\n<!-- 139898243792480 -->\n<g id=\"node83\" class=\"node\">\n<title>139898243792480</title>\n<polygon fill=\"#add8e6\" stroke=\"#000000\" points=\"520,-3496 419,-3496 419,-3466 520,-3466 520,-3496\"/>\n<text text-anchor=\"middle\" x=\"469.5\" y=\"-3484\" font-family=\"monospace\" font-size=\"10.00\" fill=\"#000000\">conv2.0.weight</text>\n<text text-anchor=\"middle\" x=\"469.5\" y=\"-3473\" font-family=\"monospace\" font-size=\"10.00\" fill=\"#000000\"> (32, 1, 51)</text>\n</g>\n<!-- 139898243792480&#45;&gt;139898154077328 -->\n<g id=\"edge81\" class=\"edge\">\n<title>139898243792480&#45;&gt;139898154077328</title>\n<path fill=\"none\" stroke=\"#000000\" d=\"M469.5,-3465.6924C469.5,-3456.5067 469.5,-3444.7245 469.5,-3434.8312\"/>\n<polygon fill=\"#000000\" stroke=\"#000000\" points=\"473.0001,-3434.703 469.5,-3424.7031 466.0001,-3434.7031 473.0001,-3434.703\"/>\n</g>\n<!-- 139898154077264 -->\n<g id=\"node84\" class=\"node\">\n<title>139898154077264</title>\n<polygon fill=\"#d3d3d3\" stroke=\"#000000\" points=\"657,-3309 568,-3309 568,-3290 657,-3290 657,-3309\"/>\n<text text-anchor=\"middle\" x=\"612.5\" y=\"-3297\" font-family=\"monospace\" font-size=\"10.00\" fill=\"#000000\">ViewBackward</text>\n</g>\n<!-- 139898154077264&#45;&gt;139898154076624 -->\n<g id=\"edge82\" class=\"edge\">\n<title>139898154077264&#45;&gt;139898154076624</title>\n<path fill=\"none\" stroke=\"#000000\" d=\"M597.7186,-3289.7796C583.2329,-3280.2537 560.9269,-3265.5851 544.0068,-3254.4583\"/>\n<polygon fill=\"#000000\" stroke=\"#000000\" points=\"545.5231,-3251.2664 535.2447,-3248.6962 541.6769,-3257.1151 545.5231,-3251.2664\"/>\n</g>\n<!-- 139898154077392 -->\n<g id=\"node85\" class=\"node\">\n<title>139898154077392</title>\n<polygon fill=\"#d3d3d3\" stroke=\"#000000\" points=\"663,-3364 562,-3364 562,-3345 663,-3345 663,-3364\"/>\n<text text-anchor=\"middle\" x=\"612.5\" y=\"-3352\" font-family=\"monospace\" font-size=\"10.00\" fill=\"#000000\">AccumulateGrad</text>\n</g>\n<!-- 139898154077392&#45;&gt;139898154077264 -->\n<g id=\"edge83\" class=\"edge\">\n<title>139898154077392&#45;&gt;139898154077264</title>\n<path fill=\"none\" stroke=\"#000000\" d=\"M612.5,-3344.9197C612.5,-3337.9083 612.5,-3328.1442 612.5,-3319.4652\"/>\n<polygon fill=\"#000000\" stroke=\"#000000\" points=\"616.0001,-3319.3408 612.5,-3309.3408 609.0001,-3319.3409 616.0001,-3319.3408\"/>\n</g>\n<!-- 139898243789120 -->\n<g id=\"node86\" class=\"node\">\n<title>139898243789120</title>\n<polygon fill=\"#add8e6\" stroke=\"#000000\" points=\"657,-3430 568,-3430 568,-3400 657,-3400 657,-3430\"/>\n<text text-anchor=\"middle\" x=\"612.5\" y=\"-3418\" font-family=\"monospace\" font-size=\"10.00\" fill=\"#000000\">conv2.0.bias</text>\n<text text-anchor=\"middle\" x=\"612.5\" y=\"-3407\" font-family=\"monospace\" font-size=\"10.00\" fill=\"#000000\"> (32)</text>\n</g>\n<!-- 139898243789120&#45;&gt;139898154077392 -->\n<g id=\"edge84\" class=\"edge\">\n<title>139898243789120&#45;&gt;139898154077392</title>\n<path fill=\"none\" stroke=\"#000000\" d=\"M612.5,-3399.7333C612.5,-3392.0322 612.5,-3382.5977 612.5,-3374.3414\"/>\n<polygon fill=\"#000000\" stroke=\"#000000\" points=\"616.0001,-3374.0864 612.5,-3364.0864 609.0001,-3374.0864 616.0001,-3374.0864\"/>\n</g>\n<!-- 139898154076688 -->\n<g id=\"node87\" class=\"node\">\n<title>139898154076688</title>\n<polygon fill=\"#d3d3d3\" stroke=\"#000000\" points=\"696,-3188 595,-3188 595,-3169 696,-3169 696,-3188\"/>\n<text text-anchor=\"middle\" x=\"645.5\" y=\"-3176\" font-family=\"monospace\" font-size=\"10.00\" fill=\"#000000\">AccumulateGrad</text>\n</g>\n<!-- 139898154076688&#45;&gt;139898154076368 -->\n<g id=\"edge85\" class=\"edge\">\n<title>139898154076688&#45;&gt;139898154076368</title>\n<path fill=\"none\" stroke=\"#000000\" d=\"M645.5,-3168.9197C645.5,-3161.9083 645.5,-3152.1442 645.5,-3143.4652\"/>\n<polygon fill=\"#000000\" stroke=\"#000000\" points=\"649.0001,-3143.3408 645.5,-3133.3408 642.0001,-3143.3409 649.0001,-3143.3408\"/>\n</g>\n<!-- 139898243792240 -->\n<g id=\"node88\" class=\"node\">\n<title>139898243792240</title>\n<polygon fill=\"#add8e6\" stroke=\"#000000\" points=\"696,-3254 595,-3254 595,-3224 696,-3224 696,-3254\"/>\n<text text-anchor=\"middle\" x=\"645.5\" y=\"-3242\" font-family=\"monospace\" font-size=\"10.00\" fill=\"#000000\">conv2.1.weight</text>\n<text text-anchor=\"middle\" x=\"645.5\" y=\"-3231\" font-family=\"monospace\" font-size=\"10.00\" fill=\"#000000\"> (32)</text>\n</g>\n<!-- 139898243792240&#45;&gt;139898154076688 -->\n<g id=\"edge86\" class=\"edge\">\n<title>139898243792240&#45;&gt;139898154076688</title>\n<path fill=\"none\" stroke=\"#000000\" d=\"M645.5,-3223.7333C645.5,-3216.0322 645.5,-3206.5977 645.5,-3198.3414\"/>\n<polygon fill=\"#000000\" stroke=\"#000000\" points=\"649.0001,-3198.0864 645.5,-3188.0864 642.0001,-3198.0864 649.0001,-3198.0864\"/>\n</g>\n<!-- 139898154075664 -->\n<g id=\"node89\" class=\"node\">\n<title>139898154075664</title>\n<polygon fill=\"#d3d3d3\" stroke=\"#000000\" points=\"815,-3188 714,-3188 714,-3169 815,-3169 815,-3188\"/>\n<text text-anchor=\"middle\" x=\"764.5\" y=\"-3176\" font-family=\"monospace\" font-size=\"10.00\" fill=\"#000000\">AccumulateGrad</text>\n</g>\n<!-- 139898154075664&#45;&gt;139898154076368 -->\n<g id=\"edge87\" class=\"edge\">\n<title>139898154075664&#45;&gt;139898154076368</title>\n<path fill=\"none\" stroke=\"#000000\" d=\"M743.7718,-3168.9197C724.9465,-3160.219 696.9495,-3147.2792 675.6487,-3137.4343\"/>\n<polygon fill=\"#000000\" stroke=\"#000000\" points=\"676.9357,-3134.1734 666.39,-3133.155 673.9989,-3140.5276 676.9357,-3134.1734\"/>\n</g>\n<!-- 139898243792800 -->\n<g id=\"node90\" class=\"node\">\n<title>139898243792800</title>\n<polygon fill=\"#add8e6\" stroke=\"#000000\" points=\"809,-3254 720,-3254 720,-3224 809,-3224 809,-3254\"/>\n<text text-anchor=\"middle\" x=\"764.5\" y=\"-3242\" font-family=\"monospace\" font-size=\"10.00\" fill=\"#000000\">conv2.1.bias</text>\n<text text-anchor=\"middle\" x=\"764.5\" y=\"-3231\" font-family=\"monospace\" font-size=\"10.00\" fill=\"#000000\"> (32)</text>\n</g>\n<!-- 139898243792800&#45;&gt;139898154075664 -->\n<g id=\"edge88\" class=\"edge\">\n<title>139898243792800&#45;&gt;139898154075664</title>\n<path fill=\"none\" stroke=\"#000000\" d=\"M764.5,-3223.7333C764.5,-3216.0322 764.5,-3206.5977 764.5,-3198.3414\"/>\n<polygon fill=\"#000000\" stroke=\"#000000\" points=\"768.0001,-3198.0864 764.5,-3188.0864 761.0001,-3198.0864 768.0001,-3198.0864\"/>\n</g>\n<!-- 139898154075344 -->\n<g id=\"node91\" class=\"node\">\n<title>139898154075344</title>\n<polygon fill=\"#d3d3d3\" stroke=\"#000000\" points=\"833,-2907.5 720,-2907.5 720,-2888.5 833,-2888.5 833,-2907.5\"/>\n<text text-anchor=\"middle\" x=\"776.5\" y=\"-2895.5\" font-family=\"monospace\" font-size=\"10.00\" fill=\"#000000\">SqueezeBackward1</text>\n</g>\n<!-- 139898154075344&#45;&gt;139898154074896 -->\n<g id=\"edge89\" class=\"edge\">\n<title>139898154075344&#45;&gt;139898154074896</title>\n<path fill=\"none\" stroke=\"#000000\" d=\"M766.0566,-2888.2796C756.2596,-2879.1608 741.3994,-2865.3294 729.6608,-2854.4035\"/>\n<polygon fill=\"#000000\" stroke=\"#000000\" points=\"731.8379,-2851.6484 722.1334,-2847.3972 727.0687,-2856.7724 731.8379,-2851.6484\"/>\n</g>\n<!-- 139898154075920 -->\n<g id=\"node92\" class=\"node\">\n<title>139898154075920</title>\n<polygon fill=\"#d3d3d3\" stroke=\"#000000\" points=\"961,-2968 776,-2968 776,-2949 961,-2949 961,-2968\"/>\n<text text-anchor=\"middle\" x=\"868.5\" y=\"-2956\" font-family=\"monospace\" font-size=\"10.00\" fill=\"#000000\">MaxPool2DWithIndicesBackward</text>\n</g>\n<!-- 139898154075920&#45;&gt;139898154075344 -->\n<g id=\"edge90\" class=\"edge\">\n<title>139898154075920&#45;&gt;139898154075344</title>\n<path fill=\"none\" stroke=\"#000000\" d=\"M853.7186,-2948.7796C839.2329,-2939.2537 816.9269,-2924.5851 800.0068,-2913.4583\"/>\n<polygon fill=\"#000000\" stroke=\"#000000\" points=\"801.5231,-2910.2664 791.2447,-2907.6962 797.6769,-2916.1151 801.5231,-2910.2664\"/>\n</g>\n<!-- 139898154076816 -->\n<g id=\"node93\" class=\"node\">\n<title>139898154076816</title>\n<polygon fill=\"#d3d3d3\" stroke=\"#000000\" points=\"941,-3023 816,-3023 816,-3004 941,-3004 941,-3023\"/>\n<text text-anchor=\"middle\" x=\"878.5\" y=\"-3011\" font-family=\"monospace\" font-size=\"10.00\" fill=\"#000000\">UnsqueezeBackward0</text>\n</g>\n<!-- 139898154076816&#45;&gt;139898154075920 -->\n<g id=\"edge91\" class=\"edge\">\n<title>139898154076816&#45;&gt;139898154075920</title>\n<path fill=\"none\" stroke=\"#000000\" d=\"M876.7581,-3003.9197C875.4833,-2996.9083 873.708,-2987.1442 872.13,-2978.4652\"/>\n<polygon fill=\"#000000\" stroke=\"#000000\" points=\"875.5217,-2977.5534 870.2892,-2968.3408 868.6346,-2978.8057 875.5217,-2977.5534\"/>\n</g>\n<!-- 139898154076880 -->\n<g id=\"node94\" class=\"node\">\n<title>139898154076880</title>\n<polygon fill=\"#d3d3d3\" stroke=\"#000000\" points=\"931,-3078 836,-3078 836,-3059 931,-3059 931,-3078\"/>\n<text text-anchor=\"middle\" x=\"883.5\" y=\"-3066\" font-family=\"monospace\" font-size=\"10.00\" fill=\"#000000\">ReluBackward1</text>\n</g>\n<!-- 139898154076880&#45;&gt;139898154076816 -->\n<g id=\"edge92\" class=\"edge\">\n<title>139898154076880&#45;&gt;139898154076816</title>\n<path fill=\"none\" stroke=\"#000000\" d=\"M882.6291,-3058.9197C881.9917,-3051.9083 881.104,-3042.1442 880.315,-3033.4652\"/>\n<polygon fill=\"#000000\" stroke=\"#000000\" points=\"883.7857,-3032.9829 879.3946,-3023.3408 876.8144,-3033.6167 883.7857,-3032.9829\"/>\n</g>\n<!-- 139898154077200 -->\n<g id=\"node95\" class=\"node\">\n<title>139898154077200</title>\n<polygon fill=\"#d3d3d3\" stroke=\"#000000\" points=\"1026,-3133 877,-3133 877,-3114 1026,-3114 1026,-3133\"/>\n<text text-anchor=\"middle\" x=\"951.5\" y=\"-3121\" font-family=\"monospace\" font-size=\"10.00\" fill=\"#000000\">CudnnBatchNormBackward</text>\n</g>\n<!-- 139898154077200&#45;&gt;139898154076880 -->\n<g id=\"edge93\" class=\"edge\">\n<title>139898154077200&#45;&gt;139898154076880</title>\n<path fill=\"none\" stroke=\"#000000\" d=\"M939.6553,-3113.9197C929.7345,-3105.8956 915.3562,-3094.2661 903.6326,-3084.7837\"/>\n<polygon fill=\"#000000\" stroke=\"#000000\" points=\"905.643,-3081.9083 895.6668,-3078.3408 901.2409,-3087.3509 905.643,-3081.9083\"/>\n</g>\n<!-- 139898154077584 -->\n<g id=\"node96\" class=\"node\">\n<title>139898154077584</title>\n<polygon fill=\"#d3d3d3\" stroke=\"#000000\" points=\"946,-3188 833,-3188 833,-3169 946,-3169 946,-3188\"/>\n<text text-anchor=\"middle\" x=\"889.5\" y=\"-3176\" font-family=\"monospace\" font-size=\"10.00\" fill=\"#000000\">SqueezeBackward1</text>\n</g>\n<!-- 139898154077584&#45;&gt;139898154077200 -->\n<g id=\"edge94\" class=\"edge\">\n<title>139898154077584&#45;&gt;139898154077200</title>\n<path fill=\"none\" stroke=\"#000000\" d=\"M900.2996,-3168.9197C909.2572,-3160.9735 922.2004,-3149.4916 932.8318,-3140.0605\"/>\n<polygon fill=\"#000000\" stroke=\"#000000\" points=\"935.2486,-3142.5953 940.4067,-3133.3408 930.6033,-3137.3587 935.2486,-3142.5953\"/>\n</g>\n<!-- 139898154077456 -->\n<g id=\"node97\" class=\"node\">\n<title>139898154077456</title>\n<polygon fill=\"#d3d3d3\" stroke=\"#000000\" points=\"934,-3248.5 845,-3248.5 845,-3229.5 934,-3229.5 934,-3248.5\"/>\n<text text-anchor=\"middle\" x=\"889.5\" y=\"-3236.5\" font-family=\"monospace\" font-size=\"10.00\" fill=\"#000000\">AddBackward0</text>\n</g>\n<!-- 139898154077456&#45;&gt;139898154077584 -->\n<g id=\"edge95\" class=\"edge\">\n<title>139898154077456&#45;&gt;139898154077584</title>\n<path fill=\"none\" stroke=\"#000000\" d=\"M889.5,-3229.2796C889.5,-3221.0376 889.5,-3208.9457 889.5,-3198.629\"/>\n<polygon fill=\"#000000\" stroke=\"#000000\" points=\"893.0001,-3198.3972 889.5,-3188.3972 886.0001,-3198.3973 893.0001,-3198.3972\"/>\n</g>\n<!-- 139898154077840 -->\n<g id=\"node98\" class=\"node\">\n<title>139898154077840</title>\n<polygon fill=\"#d3d3d3\" stroke=\"#000000\" points=\"877,-3309 716,-3309 716,-3290 877,-3290 877,-3309\"/>\n<text text-anchor=\"middle\" x=\"796.5\" y=\"-3297\" font-family=\"monospace\" font-size=\"10.00\" fill=\"#000000\">CudnnConvolutionBackward</text>\n</g>\n<!-- 139898154077840&#45;&gt;139898154077456 -->\n<g id=\"edge96\" class=\"edge\">\n<title>139898154077840&#45;&gt;139898154077456</title>\n<path fill=\"none\" stroke=\"#000000\" d=\"M811.4421,-3289.7796C826.2208,-3280.1655 849.0519,-3265.313 866.2114,-3254.1501\"/>\n<polygon fill=\"#000000\" stroke=\"#000000\" points=\"868.1212,-3257.0832 874.595,-3248.6962 864.304,-3251.2155 868.1212,-3257.0832\"/>\n</g>\n<!-- 139898154077968 -->\n<g id=\"node99\" class=\"node\">\n<title>139898154077968</title>\n<polygon fill=\"#d3d3d3\" stroke=\"#000000\" points=\"859,-3364 734,-3364 734,-3345 859,-3345 859,-3364\"/>\n<text text-anchor=\"middle\" x=\"796.5\" y=\"-3352\" font-family=\"monospace\" font-size=\"10.00\" fill=\"#000000\">UnsqueezeBackward0</text>\n</g>\n<!-- 139898154077968&#45;&gt;139898154077840 -->\n<g id=\"edge97\" class=\"edge\">\n<title>139898154077968&#45;&gt;139898154077840</title>\n<path fill=\"none\" stroke=\"#000000\" d=\"M796.5,-3344.9197C796.5,-3337.9083 796.5,-3328.1442 796.5,-3319.4652\"/>\n<polygon fill=\"#000000\" stroke=\"#000000\" points=\"800.0001,-3319.3408 796.5,-3309.3408 793.0001,-3319.3409 800.0001,-3319.3408\"/>\n</g>\n<!-- 139898154077776 -->\n<g id=\"node100\" class=\"node\">\n<title>139898154077776</title>\n<polygon fill=\"#d3d3d3\" stroke=\"#000000\" points=\"847,-3424.5 746,-3424.5 746,-3405.5 847,-3405.5 847,-3424.5\"/>\n<text text-anchor=\"middle\" x=\"796.5\" y=\"-3412.5\" font-family=\"monospace\" font-size=\"10.00\" fill=\"#000000\">AccumulateGrad</text>\n</g>\n<!-- 139898154077776&#45;&gt;139898154077968 -->\n<g id=\"edge98\" class=\"edge\">\n<title>139898154077776&#45;&gt;139898154077968</title>\n<path fill=\"none\" stroke=\"#000000\" d=\"M796.5,-3405.2796C796.5,-3397.0376 796.5,-3384.9457 796.5,-3374.629\"/>\n<polygon fill=\"#000000\" stroke=\"#000000\" points=\"800.0001,-3374.3972 796.5,-3364.3972 793.0001,-3374.3973 800.0001,-3374.3972\"/>\n</g>\n<!-- 139898243792400 -->\n<g id=\"node101\" class=\"node\">\n<title>139898243792400</title>\n<polygon fill=\"#add8e6\" stroke=\"#000000\" points=\"847,-3496 746,-3496 746,-3466 847,-3466 847,-3496\"/>\n<text text-anchor=\"middle\" x=\"796.5\" y=\"-3484\" font-family=\"monospace\" font-size=\"10.00\" fill=\"#000000\">conv3.0.weight</text>\n<text text-anchor=\"middle\" x=\"796.5\" y=\"-3473\" font-family=\"monospace\" font-size=\"10.00\" fill=\"#000000\"> (32, 1, 101)</text>\n</g>\n<!-- 139898243792400&#45;&gt;139898154077776 -->\n<g id=\"edge99\" class=\"edge\">\n<title>139898243792400&#45;&gt;139898154077776</title>\n<path fill=\"none\" stroke=\"#000000\" d=\"M796.5,-3465.6924C796.5,-3456.5067 796.5,-3444.7245 796.5,-3434.8312\"/>\n<polygon fill=\"#000000\" stroke=\"#000000\" points=\"800.0001,-3434.703 796.5,-3424.7031 793.0001,-3434.7031 800.0001,-3434.703\"/>\n</g>\n<!-- 139898154078096 -->\n<g id=\"node102\" class=\"node\">\n<title>139898154078096</title>\n<polygon fill=\"#d3d3d3\" stroke=\"#000000\" points=\"984,-3309 895,-3309 895,-3290 984,-3290 984,-3309\"/>\n<text text-anchor=\"middle\" x=\"939.5\" y=\"-3297\" font-family=\"monospace\" font-size=\"10.00\" fill=\"#000000\">ViewBackward</text>\n</g>\n<!-- 139898154078096&#45;&gt;139898154077456 -->\n<g id=\"edge100\" class=\"edge\">\n<title>139898154078096&#45;&gt;139898154077456</title>\n<path fill=\"none\" stroke=\"#000000\" d=\"M931.4666,-3289.7796C924.1478,-3280.9239 913.1558,-3267.6235 904.2571,-3256.8561\"/>\n<polygon fill=\"#000000\" stroke=\"#000000\" points=\"906.7479,-3254.3758 897.6795,-3248.8972 901.3521,-3258.8352 906.7479,-3254.3758\"/>\n</g>\n<!-- 139898154078160 -->\n<g id=\"node103\" class=\"node\">\n<title>139898154078160</title>\n<polygon fill=\"#d3d3d3\" stroke=\"#000000\" points=\"990,-3364 889,-3364 889,-3345 990,-3345 990,-3364\"/>\n<text text-anchor=\"middle\" x=\"939.5\" y=\"-3352\" font-family=\"monospace\" font-size=\"10.00\" fill=\"#000000\">AccumulateGrad</text>\n</g>\n<!-- 139898154078160&#45;&gt;139898154078096 -->\n<g id=\"edge101\" class=\"edge\">\n<title>139898154078160&#45;&gt;139898154078096</title>\n<path fill=\"none\" stroke=\"#000000\" d=\"M939.5,-3344.9197C939.5,-3337.9083 939.5,-3328.1442 939.5,-3319.4652\"/>\n<polygon fill=\"#000000\" stroke=\"#000000\" points=\"943.0001,-3319.3408 939.5,-3309.3408 936.0001,-3319.3409 943.0001,-3319.3408\"/>\n</g>\n<!-- 139898243791440 -->\n<g id=\"node104\" class=\"node\">\n<title>139898243791440</title>\n<polygon fill=\"#add8e6\" stroke=\"#000000\" points=\"984,-3430 895,-3430 895,-3400 984,-3400 984,-3430\"/>\n<text text-anchor=\"middle\" x=\"939.5\" y=\"-3418\" font-family=\"monospace\" font-size=\"10.00\" fill=\"#000000\">conv3.0.bias</text>\n<text text-anchor=\"middle\" x=\"939.5\" y=\"-3407\" font-family=\"monospace\" font-size=\"10.00\" fill=\"#000000\"> (32)</text>\n</g>\n<!-- 139898243791440&#45;&gt;139898154078160 -->\n<g id=\"edge102\" class=\"edge\">\n<title>139898243791440&#45;&gt;139898154078160</title>\n<path fill=\"none\" stroke=\"#000000\" d=\"M939.5,-3399.7333C939.5,-3392.0322 939.5,-3382.5977 939.5,-3374.3414\"/>\n<polygon fill=\"#000000\" stroke=\"#000000\" points=\"943.0001,-3374.0864 939.5,-3364.0864 936.0001,-3374.0864 943.0001,-3374.0864\"/>\n</g>\n<!-- 139898154077520 -->\n<g id=\"node105\" class=\"node\">\n<title>139898154077520</title>\n<polygon fill=\"#d3d3d3\" stroke=\"#000000\" points=\"1065,-3188 964,-3188 964,-3169 1065,-3169 1065,-3188\"/>\n<text text-anchor=\"middle\" x=\"1014.5\" y=\"-3176\" font-family=\"monospace\" font-size=\"10.00\" fill=\"#000000\">AccumulateGrad</text>\n</g>\n<!-- 139898154077520&#45;&gt;139898154077200 -->\n<g id=\"edge103\" class=\"edge\">\n<title>139898154077520&#45;&gt;139898154077200</title>\n<path fill=\"none\" stroke=\"#000000\" d=\"M1003.5262,-3168.9197C994.4242,-3160.9735 981.2721,-3149.4916 970.4693,-3140.0605\"/>\n<polygon fill=\"#000000\" stroke=\"#000000\" points=\"972.6072,-3137.2808 962.7722,-3133.3408 968.0036,-3142.5541 972.6072,-3137.2808\"/>\n</g>\n<!-- 139898243791520 -->\n<g id=\"node106\" class=\"node\">\n<title>139898243791520</title>\n<polygon fill=\"#add8e6\" stroke=\"#000000\" points=\"1065,-3254 964,-3254 964,-3224 1065,-3224 1065,-3254\"/>\n<text text-anchor=\"middle\" x=\"1014.5\" y=\"-3242\" font-family=\"monospace\" font-size=\"10.00\" fill=\"#000000\">conv3.1.weight</text>\n<text text-anchor=\"middle\" x=\"1014.5\" y=\"-3231\" font-family=\"monospace\" font-size=\"10.00\" fill=\"#000000\"> (32)</text>\n</g>\n<!-- 139898243791520&#45;&gt;139898154077520 -->\n<g id=\"edge104\" class=\"edge\">\n<title>139898243791520&#45;&gt;139898154077520</title>\n<path fill=\"none\" stroke=\"#000000\" d=\"M1014.5,-3223.7333C1014.5,-3216.0322 1014.5,-3206.5977 1014.5,-3198.3414\"/>\n<polygon fill=\"#000000\" stroke=\"#000000\" points=\"1018.0001,-3198.0864 1014.5,-3188.0864 1011.0001,-3198.0864 1018.0001,-3198.0864\"/>\n</g>\n<!-- 139898154076240 -->\n<g id=\"node107\" class=\"node\">\n<title>139898154076240</title>\n<polygon fill=\"#d3d3d3\" stroke=\"#000000\" points=\"1184,-3188 1083,-3188 1083,-3169 1184,-3169 1184,-3188\"/>\n<text text-anchor=\"middle\" x=\"1133.5\" y=\"-3176\" font-family=\"monospace\" font-size=\"10.00\" fill=\"#000000\">AccumulateGrad</text>\n</g>\n<!-- 139898154076240&#45;&gt;139898154077200 -->\n<g id=\"edge105\" class=\"edge\">\n<title>139898154076240&#45;&gt;139898154077200</title>\n<path fill=\"none\" stroke=\"#000000\" d=\"M1101.798,-3168.9197C1071.6171,-3159.7991 1026.0228,-3146.0206 992.9683,-3136.0316\"/>\n<polygon fill=\"#000000\" stroke=\"#000000\" points=\"993.7284,-3132.6051 983.1435,-3133.0626 991.7035,-3139.3058 993.7284,-3132.6051\"/>\n</g>\n<!-- 139898243792720 -->\n<g id=\"node108\" class=\"node\">\n<title>139898243792720</title>\n<polygon fill=\"#add8e6\" stroke=\"#000000\" points=\"1178,-3254 1089,-3254 1089,-3224 1178,-3224 1178,-3254\"/>\n<text text-anchor=\"middle\" x=\"1133.5\" y=\"-3242\" font-family=\"monospace\" font-size=\"10.00\" fill=\"#000000\">conv3.1.bias</text>\n<text text-anchor=\"middle\" x=\"1133.5\" y=\"-3231\" font-family=\"monospace\" font-size=\"10.00\" fill=\"#000000\"> (32)</text>\n</g>\n<!-- 139898243792720&#45;&gt;139898154076240 -->\n<g id=\"edge106\" class=\"edge\">\n<title>139898243792720&#45;&gt;139898154076240</title>\n<path fill=\"none\" stroke=\"#000000\" d=\"M1133.5,-3223.7333C1133.5,-3216.0322 1133.5,-3206.5977 1133.5,-3198.3414\"/>\n<polygon fill=\"#000000\" stroke=\"#000000\" points=\"1137.0001,-3198.0864 1133.5,-3188.0864 1130.0001,-3198.0864 1137.0001,-3198.0864\"/>\n</g>\n<!-- 139898154075152 -->\n<g id=\"node109\" class=\"node\">\n<title>139898154075152</title>\n<polygon fill=\"#d3d3d3\" stroke=\"#000000\" points=\"949,-2847 848,-2847 848,-2828 949,-2828 949,-2847\"/>\n<text text-anchor=\"middle\" x=\"898.5\" y=\"-2835\" font-family=\"monospace\" font-size=\"10.00\" fill=\"#000000\">AccumulateGrad</text>\n</g>\n<!-- 139898154075152&#45;&gt;139898154074768 -->\n<g id=\"edge107\" class=\"edge\">\n<title>139898154075152&#45;&gt;139898154074768</title>\n<path fill=\"none\" stroke=\"#000000\" d=\"M897.536,-2827.7796C896.7186,-2819.5376 895.5194,-2807.4457 894.4963,-2797.129\"/>\n<polygon fill=\"#000000\" stroke=\"#000000\" points=\"897.9514,-2796.503 893.4815,-2786.8972 890.9856,-2797.1939 897.9514,-2796.503\"/>\n</g>\n<!-- 139898244169632 -->\n<g id=\"node110\" class=\"node\">\n<title>139898244169632</title>\n<polygon fill=\"#add8e6\" stroke=\"#000000\" points=\"958,-2913 851,-2913 851,-2883 958,-2883 958,-2913\"/>\n<text text-anchor=\"middle\" x=\"904.5\" y=\"-2901\" font-family=\"monospace\" font-size=\"10.00\" fill=\"#000000\">conv_1.0.weight</text>\n<text text-anchor=\"middle\" x=\"904.5\" y=\"-2890\" font-family=\"monospace\" font-size=\"10.00\" fill=\"#000000\"> (64, 3, 3, 3)</text>\n</g>\n<!-- 139898244169632&#45;&gt;139898154075152 -->\n<g id=\"edge108\" class=\"edge\">\n<title>139898244169632&#45;&gt;139898154075152</title>\n<path fill=\"none\" stroke=\"#000000\" d=\"M902.9859,-2882.7333C902.2135,-2874.9447 901.2653,-2865.3831 900.4399,-2857.0604\"/>\n<polygon fill=\"#000000\" stroke=\"#000000\" points=\"903.9206,-2856.6921 899.4507,-2847.0864 896.9548,-2857.383 903.9206,-2856.6921\"/>\n</g>\n<!-- 139898154075024 -->\n<g id=\"node111\" class=\"node\">\n<title>139898154075024</title>\n<polygon fill=\"#d3d3d3\" stroke=\"#000000\" points=\"1080,-2786.5 991,-2786.5 991,-2767.5 1080,-2767.5 1080,-2786.5\"/>\n<text text-anchor=\"middle\" x=\"1035.5\" y=\"-2774.5\" font-family=\"monospace\" font-size=\"10.00\" fill=\"#000000\">ViewBackward</text>\n</g>\n<!-- 139898154075024&#45;&gt;139898154074576 -->\n<g id=\"edge109\" class=\"edge\">\n<title>139898154075024&#45;&gt;139898154074576</title>\n<path fill=\"none\" stroke=\"#000000\" d=\"M1035.5,-2767.2796C1035.5,-2759.0376 1035.5,-2746.9457 1035.5,-2736.629\"/>\n<polygon fill=\"#000000\" stroke=\"#000000\" points=\"1039.0001,-2736.3972 1035.5,-2726.3972 1032.0001,-2736.3973 1039.0001,-2736.3972\"/>\n</g>\n<!-- 139898154718288 -->\n<g id=\"node112\" class=\"node\">\n<title>139898154718288</title>\n<polygon fill=\"#d3d3d3\" stroke=\"#000000\" points=\"1086,-2847 985,-2847 985,-2828 1086,-2828 1086,-2847\"/>\n<text text-anchor=\"middle\" x=\"1035.5\" y=\"-2835\" font-family=\"monospace\" font-size=\"10.00\" fill=\"#000000\">AccumulateGrad</text>\n</g>\n<!-- 139898154718288&#45;&gt;139898154075024 -->\n<g id=\"edge110\" class=\"edge\">\n<title>139898154718288&#45;&gt;139898154075024</title>\n<path fill=\"none\" stroke=\"#000000\" d=\"M1035.5,-2827.7796C1035.5,-2819.5376 1035.5,-2807.4457 1035.5,-2797.129\"/>\n<polygon fill=\"#000000\" stroke=\"#000000\" points=\"1039.0001,-2796.8972 1035.5,-2786.8972 1032.0001,-2796.8973 1039.0001,-2796.8972\"/>\n</g>\n<!-- 139898244166592 -->\n<g id=\"node113\" class=\"node\">\n<title>139898244166592</title>\n<polygon fill=\"#add8e6\" stroke=\"#000000\" points=\"1083,-2913 988,-2913 988,-2883 1083,-2883 1083,-2913\"/>\n<text text-anchor=\"middle\" x=\"1035.5\" y=\"-2901\" font-family=\"monospace\" font-size=\"10.00\" fill=\"#000000\">conv_1.0.bias</text>\n<text text-anchor=\"middle\" x=\"1035.5\" y=\"-2890\" font-family=\"monospace\" font-size=\"10.00\" fill=\"#000000\"> (64)</text>\n</g>\n<!-- 139898244166592&#45;&gt;139898154718288 -->\n<g id=\"edge111\" class=\"edge\">\n<title>139898244166592&#45;&gt;139898154718288</title>\n<path fill=\"none\" stroke=\"#000000\" d=\"M1035.5,-2882.7333C1035.5,-2875.0322 1035.5,-2865.5977 1035.5,-2857.3414\"/>\n<polygon fill=\"#000000\" stroke=\"#000000\" points=\"1039.0001,-2857.0864 1035.5,-2847.0864 1032.0001,-2857.0864 1039.0001,-2857.0864\"/>\n</g>\n<!-- 139898154074704 -->\n<g id=\"node114\" class=\"node\">\n<title>139898154074704</title>\n<polygon fill=\"#d3d3d3\" stroke=\"#000000\" points=\"1202,-2726 1101,-2726 1101,-2707 1202,-2707 1202,-2726\"/>\n<text text-anchor=\"middle\" x=\"1151.5\" y=\"-2714\" font-family=\"monospace\" font-size=\"10.00\" fill=\"#000000\">AccumulateGrad</text>\n</g>\n<!-- 139898154074704&#45;&gt;139898154074192 -->\n<g id=\"edge112\" class=\"edge\">\n<title>139898154074704&#45;&gt;139898154074192</title>\n<path fill=\"none\" stroke=\"#000000\" d=\"M1151.5,-2706.7796C1151.5,-2698.5376 1151.5,-2686.4457 1151.5,-2676.129\"/>\n<polygon fill=\"#000000\" stroke=\"#000000\" points=\"1155.0001,-2675.8972 1151.5,-2665.8972 1148.0001,-2675.8973 1155.0001,-2675.8972\"/>\n</g>\n<!-- 139898202490352 -->\n<g id=\"node115\" class=\"node\">\n<title>139898202490352</title>\n<polygon fill=\"#add8e6\" stroke=\"#000000\" points=\"1205,-2792 1098,-2792 1098,-2762 1205,-2762 1205,-2792\"/>\n<text text-anchor=\"middle\" x=\"1151.5\" y=\"-2780\" font-family=\"monospace\" font-size=\"10.00\" fill=\"#000000\">conv_1.1.weight</text>\n<text text-anchor=\"middle\" x=\"1151.5\" y=\"-2769\" font-family=\"monospace\" font-size=\"10.00\" fill=\"#000000\"> (64)</text>\n</g>\n<!-- 139898202490352&#45;&gt;139898154074704 -->\n<g id=\"edge113\" class=\"edge\">\n<title>139898202490352&#45;&gt;139898154074704</title>\n<path fill=\"none\" stroke=\"#000000\" d=\"M1151.5,-2761.7333C1151.5,-2754.0322 1151.5,-2744.5977 1151.5,-2736.3414\"/>\n<polygon fill=\"#000000\" stroke=\"#000000\" points=\"1155.0001,-2736.0864 1151.5,-2726.0864 1148.0001,-2736.0864 1155.0001,-2736.0864\"/>\n</g>\n<!-- 139898154074448 -->\n<g id=\"node116\" class=\"node\">\n<title>139898154074448</title>\n<polygon fill=\"#d3d3d3\" stroke=\"#000000\" points=\"1321,-2726 1220,-2726 1220,-2707 1321,-2707 1321,-2726\"/>\n<text text-anchor=\"middle\" x=\"1270.5\" y=\"-2714\" font-family=\"monospace\" font-size=\"10.00\" fill=\"#000000\">AccumulateGrad</text>\n</g>\n<!-- 139898154074448&#45;&gt;139898154074192 -->\n<g id=\"edge114\" class=\"edge\">\n<title>139898154074448&#45;&gt;139898154074192</title>\n<path fill=\"none\" stroke=\"#000000\" d=\"M1251.6441,-2706.9136C1232.1469,-2697.0012 1201.4965,-2681.4184 1179.2368,-2670.1015\"/>\n<polygon fill=\"#000000\" stroke=\"#000000\" points=\"1180.768,-2666.9536 1170.2677,-2665.5416 1177.5956,-2673.1935 1180.768,-2666.9536\"/>\n</g>\n<!-- 139898202489392 -->\n<g id=\"node117\" class=\"node\">\n<title>139898202489392</title>\n<polygon fill=\"#add8e6\" stroke=\"#000000\" points=\"1318,-2792 1223,-2792 1223,-2762 1318,-2762 1318,-2792\"/>\n<text text-anchor=\"middle\" x=\"1270.5\" y=\"-2780\" font-family=\"monospace\" font-size=\"10.00\" fill=\"#000000\">conv_1.1.bias</text>\n<text text-anchor=\"middle\" x=\"1270.5\" y=\"-2769\" font-family=\"monospace\" font-size=\"10.00\" fill=\"#000000\"> (64)</text>\n</g>\n<!-- 139898202489392&#45;&gt;139898154074448 -->\n<g id=\"edge115\" class=\"edge\">\n<title>139898202489392&#45;&gt;139898154074448</title>\n<path fill=\"none\" stroke=\"#000000\" d=\"M1270.5,-2761.7333C1270.5,-2754.0322 1270.5,-2744.5977 1270.5,-2736.3414\"/>\n<polygon fill=\"#000000\" stroke=\"#000000\" points=\"1274.0001,-2736.0864 1270.5,-2726.0864 1267.0001,-2736.0864 1274.0001,-2736.0864\"/>\n</g>\n<!-- 139898154074384 -->\n<g id=\"node118\" class=\"node\">\n<title>139898154074384</title>\n<polygon fill=\"#d3d3d3\" stroke=\"#000000\" points=\"1346,-2605 1245,-2605 1245,-2586 1346,-2586 1346,-2605\"/>\n<text text-anchor=\"middle\" x=\"1295.5\" y=\"-2593\" font-family=\"monospace\" font-size=\"10.00\" fill=\"#000000\">AccumulateGrad</text>\n</g>\n<!-- 139898154074384&#45;&gt;139898154069840 -->\n<g id=\"edge116\" class=\"edge\">\n<title>139898154074384&#45;&gt;139898154069840</title>\n<path fill=\"none\" stroke=\"#000000\" d=\"M1294.536,-2585.7796C1293.7186,-2577.5376 1292.5194,-2565.4457 1291.4963,-2555.129\"/>\n<polygon fill=\"#000000\" stroke=\"#000000\" points=\"1294.9514,-2554.503 1290.4815,-2544.8972 1287.9856,-2555.1939 1294.9514,-2554.503\"/>\n</g>\n<!-- 139898202490512 -->\n<g id=\"node119\" class=\"node\">\n<title>139898202490512</title>\n<polygon fill=\"#add8e6\" stroke=\"#000000\" points=\"1357,-2671 1244,-2671 1244,-2641 1357,-2641 1357,-2671\"/>\n<text text-anchor=\"middle\" x=\"1300.5\" y=\"-2659\" font-family=\"monospace\" font-size=\"10.00\" fill=\"#000000\">conv_2.0.weight</text>\n<text text-anchor=\"middle\" x=\"1300.5\" y=\"-2648\" font-family=\"monospace\" font-size=\"10.00\" fill=\"#000000\"> (128, 64, 3, 3)</text>\n</g>\n<!-- 139898202490512&#45;&gt;139898154074384 -->\n<g id=\"edge117\" class=\"edge\">\n<title>139898202490512&#45;&gt;139898154074384</title>\n<path fill=\"none\" stroke=\"#000000\" d=\"M1299.2383,-2640.7333C1298.5946,-2632.9447 1297.8044,-2623.3831 1297.1166,-2615.0604\"/>\n<polygon fill=\"#000000\" stroke=\"#000000\" points=\"1300.6041,-2614.7641 1296.2923,-2605.0864 1293.6279,-2615.3407 1300.6041,-2614.7641\"/>\n</g>\n<!-- 139898154069968 -->\n<g id=\"node120\" class=\"node\">\n<title>139898154069968</title>\n<polygon fill=\"#d3d3d3\" stroke=\"#000000\" points=\"1477,-2544.5 1388,-2544.5 1388,-2525.5 1477,-2525.5 1477,-2544.5\"/>\n<text text-anchor=\"middle\" x=\"1432.5\" y=\"-2532.5\" font-family=\"monospace\" font-size=\"10.00\" fill=\"#000000\">ViewBackward</text>\n</g>\n<!-- 139898154069968&#45;&gt;139898154069648 -->\n<g id=\"edge118\" class=\"edge\">\n<title>139898154069968&#45;&gt;139898154069648</title>\n<path fill=\"none\" stroke=\"#000000\" d=\"M1432.5,-2525.2796C1432.5,-2517.0376 1432.5,-2504.9457 1432.5,-2494.629\"/>\n<polygon fill=\"#000000\" stroke=\"#000000\" points=\"1436.0001,-2494.3972 1432.5,-2484.3972 1429.0001,-2494.3973 1436.0001,-2494.3972\"/>\n</g>\n<!-- 139898154074320 -->\n<g id=\"node121\" class=\"node\">\n<title>139898154074320</title>\n<polygon fill=\"#d3d3d3\" stroke=\"#000000\" points=\"1483,-2605 1382,-2605 1382,-2586 1483,-2586 1483,-2605\"/>\n<text text-anchor=\"middle\" x=\"1432.5\" y=\"-2593\" font-family=\"monospace\" font-size=\"10.00\" fill=\"#000000\">AccumulateGrad</text>\n</g>\n<!-- 139898154074320&#45;&gt;139898154069968 -->\n<g id=\"edge119\" class=\"edge\">\n<title>139898154074320&#45;&gt;139898154069968</title>\n<path fill=\"none\" stroke=\"#000000\" d=\"M1432.5,-2585.7796C1432.5,-2577.5376 1432.5,-2565.4457 1432.5,-2555.129\"/>\n<polygon fill=\"#000000\" stroke=\"#000000\" points=\"1436.0001,-2554.8972 1432.5,-2544.8972 1429.0001,-2554.8973 1436.0001,-2554.8972\"/>\n</g>\n<!-- 139898202489472 -->\n<g id=\"node122\" class=\"node\">\n<title>139898202489472</title>\n<polygon fill=\"#add8e6\" stroke=\"#000000\" points=\"1480,-2671 1385,-2671 1385,-2641 1480,-2641 1480,-2671\"/>\n<text text-anchor=\"middle\" x=\"1432.5\" y=\"-2659\" font-family=\"monospace\" font-size=\"10.00\" fill=\"#000000\">conv_2.0.bias</text>\n<text text-anchor=\"middle\" x=\"1432.5\" y=\"-2648\" font-family=\"monospace\" font-size=\"10.00\" fill=\"#000000\"> (128)</text>\n</g>\n<!-- 139898202489472&#45;&gt;139898154074320 -->\n<g id=\"edge120\" class=\"edge\">\n<title>139898202489472&#45;&gt;139898154074320</title>\n<path fill=\"none\" stroke=\"#000000\" d=\"M1432.5,-2640.7333C1432.5,-2633.0322 1432.5,-2623.5977 1432.5,-2615.3414\"/>\n<polygon fill=\"#000000\" stroke=\"#000000\" points=\"1436.0001,-2615.0864 1432.5,-2605.0864 1429.0001,-2615.0864 1436.0001,-2615.0864\"/>\n</g>\n<!-- 139898154069776 -->\n<g id=\"node123\" class=\"node\">\n<title>139898154069776</title>\n<polygon fill=\"#d3d3d3\" stroke=\"#000000\" points=\"1599,-2484 1498,-2484 1498,-2465 1599,-2465 1599,-2484\"/>\n<text text-anchor=\"middle\" x=\"1548.5\" y=\"-2472\" font-family=\"monospace\" font-size=\"10.00\" fill=\"#000000\">AccumulateGrad</text>\n</g>\n<!-- 139898154069776&#45;&gt;139898154069456 -->\n<g id=\"edge121\" class=\"edge\">\n<title>139898154069776&#45;&gt;139898154069456</title>\n<path fill=\"none\" stroke=\"#000000\" d=\"M1548.5,-2464.9197C1548.5,-2457.9083 1548.5,-2448.1442 1548.5,-2439.4652\"/>\n<polygon fill=\"#000000\" stroke=\"#000000\" points=\"1552.0001,-2439.3408 1548.5,-2429.3408 1545.0001,-2439.3409 1552.0001,-2439.3408\"/>\n</g>\n<!-- 139898202490672 -->\n<g id=\"node124\" class=\"node\">\n<title>139898202490672</title>\n<polygon fill=\"#add8e6\" stroke=\"#000000\" points=\"1602,-2550 1495,-2550 1495,-2520 1602,-2520 1602,-2550\"/>\n<text text-anchor=\"middle\" x=\"1548.5\" y=\"-2538\" font-family=\"monospace\" font-size=\"10.00\" fill=\"#000000\">conv_2.1.weight</text>\n<text text-anchor=\"middle\" x=\"1548.5\" y=\"-2527\" font-family=\"monospace\" font-size=\"10.00\" fill=\"#000000\"> (128)</text>\n</g>\n<!-- 139898202490672&#45;&gt;139898154069776 -->\n<g id=\"edge122\" class=\"edge\">\n<title>139898202490672&#45;&gt;139898154069776</title>\n<path fill=\"none\" stroke=\"#000000\" d=\"M1548.5,-2519.7333C1548.5,-2512.0322 1548.5,-2502.5977 1548.5,-2494.3414\"/>\n<polygon fill=\"#000000\" stroke=\"#000000\" points=\"1552.0001,-2494.0864 1548.5,-2484.0864 1545.0001,-2494.0864 1552.0001,-2494.0864\"/>\n</g>\n<!-- 139898154069072 -->\n<g id=\"node125\" class=\"node\">\n<title>139898154069072</title>\n<polygon fill=\"#d3d3d3\" stroke=\"#000000\" points=\"1718,-2484 1617,-2484 1617,-2465 1718,-2465 1718,-2484\"/>\n<text text-anchor=\"middle\" x=\"1667.5\" y=\"-2472\" font-family=\"monospace\" font-size=\"10.00\" fill=\"#000000\">AccumulateGrad</text>\n</g>\n<!-- 139898154069072&#45;&gt;139898154069456 -->\n<g id=\"edge123\" class=\"edge\">\n<title>139898154069072&#45;&gt;139898154069456</title>\n<path fill=\"none\" stroke=\"#000000\" d=\"M1646.7718,-2464.9197C1627.9465,-2456.219 1599.9495,-2443.2792 1578.6487,-2433.4343\"/>\n<polygon fill=\"#000000\" stroke=\"#000000\" points=\"1579.9357,-2430.1734 1569.39,-2429.155 1576.9989,-2436.5276 1579.9357,-2430.1734\"/>\n</g>\n<!-- 139898202489312 -->\n<g id=\"node126\" class=\"node\">\n<title>139898202489312</title>\n<polygon fill=\"#add8e6\" stroke=\"#000000\" points=\"1715,-2550 1620,-2550 1620,-2520 1715,-2520 1715,-2550\"/>\n<text text-anchor=\"middle\" x=\"1667.5\" y=\"-2538\" font-family=\"monospace\" font-size=\"10.00\" fill=\"#000000\">conv_2.1.bias</text>\n<text text-anchor=\"middle\" x=\"1667.5\" y=\"-2527\" font-family=\"monospace\" font-size=\"10.00\" fill=\"#000000\"> (128)</text>\n</g>\n<!-- 139898202489312&#45;&gt;139898154069072 -->\n<g id=\"edge124\" class=\"edge\">\n<title>139898202489312&#45;&gt;139898154069072</title>\n<path fill=\"none\" stroke=\"#000000\" d=\"M1667.5,-2519.7333C1667.5,-2512.0322 1667.5,-2502.5977 1667.5,-2494.3414\"/>\n<polygon fill=\"#000000\" stroke=\"#000000\" points=\"1671.0001,-2494.0864 1667.5,-2484.0864 1664.0001,-2494.0864 1671.0001,-2494.0864\"/>\n</g>\n<!-- 139898154069136 -->\n<g id=\"node127\" class=\"node\">\n<title>139898154069136</title>\n<polygon fill=\"#d3d3d3\" stroke=\"#000000\" points=\"1760,-2308 1659,-2308 1659,-2289 1760,-2289 1760,-2308\"/>\n<text text-anchor=\"middle\" x=\"1709.5\" y=\"-2296\" font-family=\"monospace\" font-size=\"10.00\" fill=\"#000000\">AccumulateGrad</text>\n</g>\n<!-- 139898154069136&#45;&gt;139898154069008 -->\n<g id=\"edge125\" class=\"edge\">\n<title>139898154069136&#45;&gt;139898154069008</title>\n<path fill=\"none\" stroke=\"#000000\" d=\"M1704.68,-2288.7796C1700.4626,-2280.2746 1694.2124,-2267.67 1688.9943,-2257.1469\"/>\n<polygon fill=\"#000000\" stroke=\"#000000\" points=\"1691.9859,-2255.3014 1684.4077,-2247.8972 1685.7146,-2258.4112 1691.9859,-2255.3014\"/>\n</g>\n<!-- 139898292964480 -->\n<g id=\"node128\" class=\"node\">\n<title>139898292964480</title>\n<polygon fill=\"#add8e6\" stroke=\"#000000\" points=\"1767,-2374 1648,-2374 1648,-2344 1767,-2344 1767,-2374\"/>\n<text text-anchor=\"middle\" x=\"1707.5\" y=\"-2362\" font-family=\"monospace\" font-size=\"10.00\" fill=\"#000000\">res1.0.0.weight</text>\n<text text-anchor=\"middle\" x=\"1707.5\" y=\"-2351\" font-family=\"monospace\" font-size=\"10.00\" fill=\"#000000\"> (128, 128, 3, 3)</text>\n</g>\n<!-- 139898292964480&#45;&gt;139898154069136 -->\n<g id=\"edge126\" class=\"edge\">\n<title>139898292964480&#45;&gt;139898154069136</title>\n<path fill=\"none\" stroke=\"#000000\" d=\"M1708.0047,-2343.7333C1708.2593,-2336.0322 1708.5712,-2326.5977 1708.8441,-2318.3414\"/>\n<polygon fill=\"#000000\" stroke=\"#000000\" points=\"1712.3507,-2318.1966 1709.1831,-2308.0864 1705.3545,-2317.9653 1712.3507,-2318.1966\"/>\n</g>\n<!-- 139898154069264 -->\n<g id=\"node129\" class=\"node\">\n<title>139898154069264</title>\n<polygon fill=\"#d3d3d3\" stroke=\"#000000\" points=\"1867,-2247.5 1778,-2247.5 1778,-2228.5 1867,-2228.5 1867,-2247.5\"/>\n<text text-anchor=\"middle\" x=\"1822.5\" y=\"-2235.5\" font-family=\"monospace\" font-size=\"10.00\" fill=\"#000000\">ViewBackward</text>\n</g>\n<!-- 139898154069264&#45;&gt;139898154068816 -->\n<g id=\"edge127\" class=\"edge\">\n<title>139898154069264&#45;&gt;139898154068816</title>\n<path fill=\"none\" stroke=\"#000000\" d=\"M1822.5,-2228.2796C1822.5,-2220.0376 1822.5,-2207.9457 1822.5,-2197.629\"/>\n<polygon fill=\"#000000\" stroke=\"#000000\" points=\"1826.0001,-2197.3972 1822.5,-2187.3972 1819.0001,-2197.3973 1826.0001,-2197.3972\"/>\n</g>\n<!-- 139898154069392 -->\n<g id=\"node130\" class=\"node\">\n<title>139898154069392</title>\n<polygon fill=\"#d3d3d3\" stroke=\"#000000\" points=\"1882,-2308 1781,-2308 1781,-2289 1882,-2289 1882,-2308\"/>\n<text text-anchor=\"middle\" x=\"1831.5\" y=\"-2296\" font-family=\"monospace\" font-size=\"10.00\" fill=\"#000000\">AccumulateGrad</text>\n</g>\n<!-- 139898154069392&#45;&gt;139898154069264 -->\n<g id=\"edge128\" class=\"edge\">\n<title>139898154069392&#45;&gt;139898154069264</title>\n<path fill=\"none\" stroke=\"#000000\" d=\"M1830.054,-2288.7796C1828.8149,-2280.4499 1826.9908,-2268.188 1825.4455,-2257.8004\"/>\n<polygon fill=\"#000000\" stroke=\"#000000\" points=\"1828.9057,-2257.2734 1823.9723,-2247.8972 1821.9819,-2258.3034 1828.9057,-2257.2734\"/>\n</g>\n<!-- 139898277026464 -->\n<g id=\"node131\" class=\"node\">\n<title>139898277026464</title>\n<polygon fill=\"#add8e6\" stroke=\"#000000\" points=\"1880,-2374 1785,-2374 1785,-2344 1880,-2344 1880,-2374\"/>\n<text text-anchor=\"middle\" x=\"1832.5\" y=\"-2362\" font-family=\"monospace\" font-size=\"10.00\" fill=\"#000000\">res1.0.0.bias</text>\n<text text-anchor=\"middle\" x=\"1832.5\" y=\"-2351\" font-family=\"monospace\" font-size=\"10.00\" fill=\"#000000\"> (128)</text>\n</g>\n<!-- 139898277026464&#45;&gt;139898154069392 -->\n<g id=\"edge129\" class=\"edge\">\n<title>139898277026464&#45;&gt;139898154069392</title>\n<path fill=\"none\" stroke=\"#000000\" d=\"M1832.2477,-2343.7333C1832.1204,-2336.0322 1831.9644,-2326.5977 1831.828,-2318.3414\"/>\n<polygon fill=\"#000000\" stroke=\"#000000\" points=\"1835.3233,-2318.0272 1831.6585,-2308.0864 1828.3243,-2318.1429 1835.3233,-2318.0272\"/>\n</g>\n<!-- 139898154068944 -->\n<g id=\"node132\" class=\"node\">\n<title>139898154068944</title>\n<polygon fill=\"#d3d3d3\" stroke=\"#000000\" points=\"1987,-2187 1886,-2187 1886,-2168 1987,-2168 1987,-2187\"/>\n<text text-anchor=\"middle\" x=\"1936.5\" y=\"-2175\" font-family=\"monospace\" font-size=\"10.00\" fill=\"#000000\">AccumulateGrad</text>\n</g>\n<!-- 139898154068944&#45;&gt;139898154068304 -->\n<g id=\"edge130\" class=\"edge\">\n<title>139898154068944&#45;&gt;139898154068304</title>\n<path fill=\"none\" stroke=\"#000000\" d=\"M1927.1813,-2167.7796C1918.5234,-2158.7485 1905.434,-2145.095 1895.0079,-2134.2195\"/>\n<polygon fill=\"#000000\" stroke=\"#000000\" points=\"1897.4352,-2131.6938 1887.9883,-2126.8972 1892.3821,-2136.538 1897.4352,-2131.6938\"/>\n</g>\n<!-- 139898277026304 -->\n<g id=\"node133\" class=\"node\">\n<title>139898277026304</title>\n<polygon fill=\"#add8e6\" stroke=\"#000000\" points=\"1992,-2253 1885,-2253 1885,-2223 1992,-2223 1992,-2253\"/>\n<text text-anchor=\"middle\" x=\"1938.5\" y=\"-2241\" font-family=\"monospace\" font-size=\"10.00\" fill=\"#000000\">res1.0.1.weight</text>\n<text text-anchor=\"middle\" x=\"1938.5\" y=\"-2230\" font-family=\"monospace\" font-size=\"10.00\" fill=\"#000000\"> (128)</text>\n</g>\n<!-- 139898277026304&#45;&gt;139898154068944 -->\n<g id=\"edge131\" class=\"edge\">\n<title>139898277026304&#45;&gt;139898154068944</title>\n<path fill=\"none\" stroke=\"#000000\" d=\"M1937.9953,-2222.7333C1937.7407,-2215.0322 1937.4288,-2205.5977 1937.1559,-2197.3414\"/>\n<polygon fill=\"#000000\" stroke=\"#000000\" points=\"1940.6455,-2196.9653 1936.8169,-2187.0864 1933.6493,-2197.1966 1940.6455,-2196.9653\"/>\n</g>\n<!-- 139898154068688 -->\n<g id=\"node134\" class=\"node\">\n<title>139898154068688</title>\n<polygon fill=\"#d3d3d3\" stroke=\"#000000\" points=\"2107,-2187 2006,-2187 2006,-2168 2107,-2168 2107,-2187\"/>\n<text text-anchor=\"middle\" x=\"2056.5\" y=\"-2175\" font-family=\"monospace\" font-size=\"10.00\" fill=\"#000000\">AccumulateGrad</text>\n</g>\n<!-- 139898154068688&#45;&gt;139898154068304 -->\n<g id=\"edge132\" class=\"edge\">\n<title>139898154068688&#45;&gt;139898154068304</title>\n<path fill=\"none\" stroke=\"#000000\" d=\"M2028.2954,-2167.9136C1998.09,-2157.6472 1949.9886,-2141.2981 1916.4707,-2129.9058\"/>\n<polygon fill=\"#000000\" stroke=\"#000000\" points=\"1917.1671,-2126.4459 1906.5727,-2126.5416 1914.9144,-2133.0735 1917.1671,-2126.4459\"/>\n</g>\n<!-- 139898277023824 -->\n<g id=\"node135\" class=\"node\">\n<title>139898277023824</title>\n<polygon fill=\"#add8e6\" stroke=\"#000000\" points=\"2105,-2253 2010,-2253 2010,-2223 2105,-2223 2105,-2253\"/>\n<text text-anchor=\"middle\" x=\"2057.5\" y=\"-2241\" font-family=\"monospace\" font-size=\"10.00\" fill=\"#000000\">res1.0.1.bias</text>\n<text text-anchor=\"middle\" x=\"2057.5\" y=\"-2230\" font-family=\"monospace\" font-size=\"10.00\" fill=\"#000000\"> (128)</text>\n</g>\n<!-- 139898277023824&#45;&gt;139898154068688 -->\n<g id=\"edge133\" class=\"edge\">\n<title>139898277023824&#45;&gt;139898154068688</title>\n<path fill=\"none\" stroke=\"#000000\" d=\"M2057.2477,-2222.7333C2057.1204,-2215.0322 2056.9644,-2205.5977 2056.828,-2197.3414\"/>\n<polygon fill=\"#000000\" stroke=\"#000000\" points=\"2060.3233,-2197.0272 2056.6585,-2187.0864 2053.3243,-2197.1429 2060.3233,-2197.0272\"/>\n</g>\n<!-- 139898154068624 -->\n<g id=\"node136\" class=\"node\">\n<title>139898154068624</title>\n<polygon fill=\"#d3d3d3\" stroke=\"#000000\" points=\"2069,-2066 1968,-2066 1968,-2047 2069,-2047 2069,-2066\"/>\n<text text-anchor=\"middle\" x=\"2018.5\" y=\"-2054\" font-family=\"monospace\" font-size=\"10.00\" fill=\"#000000\">AccumulateGrad</text>\n</g>\n<!-- 139898154068624&#45;&gt;139898154068240 -->\n<g id=\"edge134\" class=\"edge\">\n<title>139898154068624&#45;&gt;139898154068240</title>\n<path fill=\"none\" stroke=\"#000000\" d=\"M2006.7713,-2046.7796C1995.6626,-2037.5731 1978.7578,-2023.563 1965.5167,-2012.5892\"/>\n<polygon fill=\"#000000\" stroke=\"#000000\" points=\"1967.375,-2009.5835 1957.4421,-2005.8972 1962.9082,-2014.9732 1967.375,-2009.5835\"/>\n</g>\n<!-- 139898202408992 -->\n<g id=\"node137\" class=\"node\">\n<title>139898202408992</title>\n<polygon fill=\"#add8e6\" stroke=\"#000000\" points=\"2090,-2132 1971,-2132 1971,-2102 2090,-2102 2090,-2132\"/>\n<text text-anchor=\"middle\" x=\"2030.5\" y=\"-2120\" font-family=\"monospace\" font-size=\"10.00\" fill=\"#000000\">res1.1.0.weight</text>\n<text text-anchor=\"middle\" x=\"2030.5\" y=\"-2109\" font-family=\"monospace\" font-size=\"10.00\" fill=\"#000000\"> (128, 128, 3, 3)</text>\n</g>\n<!-- 139898202408992&#45;&gt;139898154068624 -->\n<g id=\"edge135\" class=\"edge\">\n<title>139898202408992&#45;&gt;139898154068624</title>\n<path fill=\"none\" stroke=\"#000000\" d=\"M2027.4719,-2101.7333C2025.927,-2093.9447 2024.0305,-2084.3831 2022.3797,-2076.0604\"/>\n<polygon fill=\"#000000\" stroke=\"#000000\" points=\"2025.7802,-2075.2143 2020.4014,-2066.0864 2018.914,-2076.5763 2025.7802,-2075.2143\"/>\n</g>\n<!-- 139898154068496 -->\n<g id=\"node138\" class=\"node\">\n<title>139898154068496</title>\n<polygon fill=\"#d3d3d3\" stroke=\"#000000\" points=\"2133,-2005.5 2044,-2005.5 2044,-1986.5 2133,-1986.5 2133,-2005.5\"/>\n<text text-anchor=\"middle\" x=\"2088.5\" y=\"-1993.5\" font-family=\"monospace\" font-size=\"10.00\" fill=\"#000000\">ViewBackward</text>\n</g>\n<!-- 139898154068496&#45;&gt;139898154068048 -->\n<g id=\"edge136\" class=\"edge\">\n<title>139898154068496&#45;&gt;139898154068048</title>\n<path fill=\"none\" stroke=\"#000000\" d=\"M2088.5,-1986.2796C2088.5,-1978.0376 2088.5,-1965.9457 2088.5,-1955.629\"/>\n<polygon fill=\"#000000\" stroke=\"#000000\" points=\"2092.0001,-1955.3972 2088.5,-1945.3972 2085.0001,-1955.3973 2092.0001,-1955.3972\"/>\n</g>\n<!-- 139898154068560 -->\n<g id=\"node139\" class=\"node\">\n<title>139898154068560</title>\n<polygon fill=\"#d3d3d3\" stroke=\"#000000\" points=\"2200,-2066 2099,-2066 2099,-2047 2200,-2047 2200,-2066\"/>\n<text text-anchor=\"middle\" x=\"2149.5\" y=\"-2054\" font-family=\"monospace\" font-size=\"10.00\" fill=\"#000000\">AccumulateGrad</text>\n</g>\n<!-- 139898154068560&#45;&gt;139898154068496 -->\n<g id=\"edge137\" class=\"edge\">\n<title>139898154068560&#45;&gt;139898154068496</title>\n<path fill=\"none\" stroke=\"#000000\" d=\"M2139.6993,-2046.7796C2130.5935,-2037.7485 2116.8272,-2024.095 2105.8618,-2013.2195\"/>\n<polygon fill=\"#000000\" stroke=\"#000000\" points=\"2108.0438,-2010.4541 2098.479,-2005.8972 2103.1145,-2015.4242 2108.0438,-2010.4541\"/>\n</g>\n<!-- 139898202409952 -->\n<g id=\"node140\" class=\"node\">\n<title>139898202409952</title>\n<polygon fill=\"#add8e6\" stroke=\"#000000\" points=\"2203,-2132 2108,-2132 2108,-2102 2203,-2102 2203,-2132\"/>\n<text text-anchor=\"middle\" x=\"2155.5\" y=\"-2120\" font-family=\"monospace\" font-size=\"10.00\" fill=\"#000000\">res1.1.0.bias</text>\n<text text-anchor=\"middle\" x=\"2155.5\" y=\"-2109\" font-family=\"monospace\" font-size=\"10.00\" fill=\"#000000\"> (128)</text>\n</g>\n<!-- 139898202409952&#45;&gt;139898154068560 -->\n<g id=\"edge138\" class=\"edge\">\n<title>139898202409952&#45;&gt;139898154068560</title>\n<path fill=\"none\" stroke=\"#000000\" d=\"M2153.9859,-2101.7333C2153.2135,-2093.9447 2152.2653,-2084.3831 2151.4399,-2076.0604\"/>\n<polygon fill=\"#000000\" stroke=\"#000000\" points=\"2154.9206,-2075.6921 2150.4507,-2066.0864 2147.9548,-2076.383 2154.9206,-2075.6921\"/>\n</g>\n<!-- 139898154068176 -->\n<g id=\"node141\" class=\"node\">\n<title>139898154068176</title>\n<polygon fill=\"#d3d3d3\" stroke=\"#000000\" points=\"2253,-1945 2152,-1945 2152,-1926 2253,-1926 2253,-1945\"/>\n<text text-anchor=\"middle\" x=\"2202.5\" y=\"-1933\" font-family=\"monospace\" font-size=\"10.00\" fill=\"#000000\">AccumulateGrad</text>\n</g>\n<!-- 139898154068176&#45;&gt;139898154067792 -->\n<g id=\"edge139\" class=\"edge\">\n<title>139898154068176&#45;&gt;139898154067792</title>\n<path fill=\"none\" stroke=\"#000000\" d=\"M2192.3972,-1925.9197C2184.0996,-1918.0514 2172.1463,-1906.7164 2162.2569,-1897.3385\"/>\n<polygon fill=\"#000000\" stroke=\"#000000\" points=\"2164.5422,-1894.6821 2154.8776,-1890.3408 2159.7255,-1899.7615 2164.5422,-1894.6821\"/>\n</g>\n<!-- 139898202408752 -->\n<g id=\"node142\" class=\"node\">\n<title>139898202408752</title>\n<polygon fill=\"#add8e6\" stroke=\"#000000\" points=\"2258,-2011 2151,-2011 2151,-1981 2258,-1981 2258,-2011\"/>\n<text text-anchor=\"middle\" x=\"2204.5\" y=\"-1999\" font-family=\"monospace\" font-size=\"10.00\" fill=\"#000000\">res1.1.1.weight</text>\n<text text-anchor=\"middle\" x=\"2204.5\" y=\"-1988\" font-family=\"monospace\" font-size=\"10.00\" fill=\"#000000\"> (128)</text>\n</g>\n<!-- 139898202408752&#45;&gt;139898154068176 -->\n<g id=\"edge140\" class=\"edge\">\n<title>139898202408752&#45;&gt;139898154068176</title>\n<path fill=\"none\" stroke=\"#000000\" d=\"M2203.9953,-1980.7333C2203.7407,-1973.0322 2203.4288,-1963.5977 2203.1559,-1955.3414\"/>\n<polygon fill=\"#000000\" stroke=\"#000000\" points=\"2206.6455,-1954.9653 2202.8169,-1945.0864 2199.6493,-1955.1966 2206.6455,-1954.9653\"/>\n</g>\n<!-- 139898154067728 -->\n<g id=\"node143\" class=\"node\">\n<title>139898154067728</title>\n<polygon fill=\"#d3d3d3\" stroke=\"#000000\" points=\"2373,-1945 2272,-1945 2272,-1926 2373,-1926 2373,-1945\"/>\n<text text-anchor=\"middle\" x=\"2322.5\" y=\"-1933\" font-family=\"monospace\" font-size=\"10.00\" fill=\"#000000\">AccumulateGrad</text>\n</g>\n<!-- 139898154067728&#45;&gt;139898154067792 -->\n<g id=\"edge141\" class=\"edge\">\n<title>139898154067728&#45;&gt;139898154067792</title>\n<path fill=\"none\" stroke=\"#000000\" d=\"M2291.4948,-1925.9197C2261.9772,-1916.7991 2217.3849,-1903.0206 2185.0569,-1893.0316\"/>\n<polygon fill=\"#000000\" stroke=\"#000000\" points=\"2186.0356,-1889.6708 2175.448,-1890.0626 2183.9691,-1896.3588 2186.0356,-1889.6708\"/>\n</g>\n<!-- 139898202408032 -->\n<g id=\"node144\" class=\"node\">\n<title>139898202408032</title>\n<polygon fill=\"#add8e6\" stroke=\"#000000\" points=\"2371,-2011 2276,-2011 2276,-1981 2371,-1981 2371,-2011\"/>\n<text text-anchor=\"middle\" x=\"2323.5\" y=\"-1999\" font-family=\"monospace\" font-size=\"10.00\" fill=\"#000000\">res1.1.1.bias</text>\n<text text-anchor=\"middle\" x=\"2323.5\" y=\"-1988\" font-family=\"monospace\" font-size=\"10.00\" fill=\"#000000\"> (128)</text>\n</g>\n<!-- 139898202408032&#45;&gt;139898154067728 -->\n<g id=\"edge142\" class=\"edge\">\n<title>139898202408032&#45;&gt;139898154067728</title>\n<path fill=\"none\" stroke=\"#000000\" d=\"M2323.2477,-1980.7333C2323.1204,-1973.0322 2322.9644,-1963.5977 2322.828,-1955.3414\"/>\n<polygon fill=\"#000000\" stroke=\"#000000\" points=\"2326.3233,-1955.0272 2322.6585,-1945.0864 2319.3243,-1955.1429 2326.3233,-1955.0272\"/>\n</g>\n<!-- 139898154067664 -->\n<g id=\"node145\" class=\"node\">\n<title>139898154067664</title>\n<polygon fill=\"#d3d3d3\" stroke=\"#000000\" points=\"2029,-1769 1928,-1769 1928,-1750 2029,-1750 2029,-1769\"/>\n<text text-anchor=\"middle\" x=\"1978.5\" y=\"-1757\" font-family=\"monospace\" font-size=\"10.00\" fill=\"#000000\">AccumulateGrad</text>\n</g>\n<!-- 139898154067664&#45;&gt;139898154067280 -->\n<g id=\"edge144\" class=\"edge\">\n<title>139898154067664&#45;&gt;139898154067280</title>\n<path fill=\"none\" stroke=\"#000000\" d=\"M1977.6967,-1749.7796C1977.0155,-1741.5376 1976.0162,-1729.4457 1975.1636,-1719.129\"/>\n<polygon fill=\"#000000\" stroke=\"#000000\" points=\"1978.6298,-1718.575 1974.318,-1708.8972 1971.6536,-1719.1516 1978.6298,-1718.575\"/>\n</g>\n<!-- 139898202407472 -->\n<g id=\"node146\" class=\"node\">\n<title>139898202407472</title>\n<polygon fill=\"#add8e6\" stroke=\"#000000\" points=\"2042,-1835 1923,-1835 1923,-1805 2042,-1805 2042,-1835\"/>\n<text text-anchor=\"middle\" x=\"1982.5\" y=\"-1823\" font-family=\"monospace\" font-size=\"10.00\" fill=\"#000000\">conv_3.0.weight</text>\n<text text-anchor=\"middle\" x=\"1982.5\" y=\"-1812\" font-family=\"monospace\" font-size=\"10.00\" fill=\"#000000\"> (256, 128, 3, 3)</text>\n</g>\n<!-- 139898202407472&#45;&gt;139898154067664 -->\n<g id=\"edge145\" class=\"edge\">\n<title>139898202407472&#45;&gt;139898154067664</title>\n<path fill=\"none\" stroke=\"#000000\" d=\"M1981.4906,-1804.7333C1980.9815,-1797.0322 1980.3577,-1787.5977 1979.8118,-1779.3414\"/>\n<polygon fill=\"#000000\" stroke=\"#000000\" points=\"1983.286,-1778.8337 1979.1338,-1769.0864 1976.3012,-1779.2956 1983.286,-1778.8337\"/>\n</g>\n<!-- 139898154067536 -->\n<g id=\"node147\" class=\"node\">\n<title>139898154067536</title>\n<polygon fill=\"#d3d3d3\" stroke=\"#000000\" points=\"2161,-1708.5 2072,-1708.5 2072,-1689.5 2161,-1689.5 2161,-1708.5\"/>\n<text text-anchor=\"middle\" x=\"2116.5\" y=\"-1696.5\" font-family=\"monospace\" font-size=\"10.00\" fill=\"#000000\">ViewBackward</text>\n</g>\n<!-- 139898154067536&#45;&gt;139898154067088 -->\n<g id=\"edge146\" class=\"edge\">\n<title>139898154067536&#45;&gt;139898154067088</title>\n<path fill=\"none\" stroke=\"#000000\" d=\"M2116.5,-1689.2796C2116.5,-1681.0376 2116.5,-1668.9457 2116.5,-1658.629\"/>\n<polygon fill=\"#000000\" stroke=\"#000000\" points=\"2120.0001,-1658.3972 2116.5,-1648.3972 2113.0001,-1658.3973 2120.0001,-1658.3972\"/>\n</g>\n<!-- 139898154067600 -->\n<g id=\"node148\" class=\"node\">\n<title>139898154067600</title>\n<polygon fill=\"#d3d3d3\" stroke=\"#000000\" points=\"2167,-1769 2066,-1769 2066,-1750 2167,-1750 2167,-1769\"/>\n<text text-anchor=\"middle\" x=\"2116.5\" y=\"-1757\" font-family=\"monospace\" font-size=\"10.00\" fill=\"#000000\">AccumulateGrad</text>\n</g>\n<!-- 139898154067600&#45;&gt;139898154067536 -->\n<g id=\"edge147\" class=\"edge\">\n<title>139898154067600&#45;&gt;139898154067536</title>\n<path fill=\"none\" stroke=\"#000000\" d=\"M2116.5,-1749.7796C2116.5,-1741.5376 2116.5,-1729.4457 2116.5,-1719.129\"/>\n<polygon fill=\"#000000\" stroke=\"#000000\" points=\"2120.0001,-1718.8972 2116.5,-1708.8972 2113.0001,-1718.8973 2120.0001,-1718.8972\"/>\n</g>\n<!-- 139898243768880 -->\n<g id=\"node149\" class=\"node\">\n<title>139898243768880</title>\n<polygon fill=\"#add8e6\" stroke=\"#000000\" points=\"2164,-1835 2069,-1835 2069,-1805 2164,-1805 2164,-1835\"/>\n<text text-anchor=\"middle\" x=\"2116.5\" y=\"-1823\" font-family=\"monospace\" font-size=\"10.00\" fill=\"#000000\">conv_3.0.bias</text>\n<text text-anchor=\"middle\" x=\"2116.5\" y=\"-1812\" font-family=\"monospace\" font-size=\"10.00\" fill=\"#000000\"> (256)</text>\n</g>\n<!-- 139898243768880&#45;&gt;139898154067600 -->\n<g id=\"edge148\" class=\"edge\">\n<title>139898243768880&#45;&gt;139898154067600</title>\n<path fill=\"none\" stroke=\"#000000\" d=\"M2116.5,-1804.7333C2116.5,-1797.0322 2116.5,-1787.5977 2116.5,-1779.3414\"/>\n<polygon fill=\"#000000\" stroke=\"#000000\" points=\"2120.0001,-1779.0864 2116.5,-1769.0864 2113.0001,-1779.0864 2120.0001,-1779.0864\"/>\n</g>\n<!-- 139898154067216 -->\n<g id=\"node150\" class=\"node\">\n<title>139898154067216</title>\n<polygon fill=\"#d3d3d3\" stroke=\"#000000\" points=\"2283,-1648 2182,-1648 2182,-1629 2283,-1629 2283,-1648\"/>\n<text text-anchor=\"middle\" x=\"2232.5\" y=\"-1636\" font-family=\"monospace\" font-size=\"10.00\" fill=\"#000000\">AccumulateGrad</text>\n</g>\n<!-- 139898154067216&#45;&gt;139898154066896 -->\n<g id=\"edge149\" class=\"edge\">\n<title>139898154067216&#45;&gt;139898154066896</title>\n<path fill=\"none\" stroke=\"#000000\" d=\"M2232.5,-1628.9197C2232.5,-1621.9083 2232.5,-1612.1442 2232.5,-1603.4652\"/>\n<polygon fill=\"#000000\" stroke=\"#000000\" points=\"2236.0001,-1603.3408 2232.5,-1593.3408 2229.0001,-1603.3409 2236.0001,-1603.3408\"/>\n</g>\n<!-- 139898243769440 -->\n<g id=\"node151\" class=\"node\">\n<title>139898243769440</title>\n<polygon fill=\"#add8e6\" stroke=\"#000000\" points=\"2286,-1714 2179,-1714 2179,-1684 2286,-1684 2286,-1714\"/>\n<text text-anchor=\"middle\" x=\"2232.5\" y=\"-1702\" font-family=\"monospace\" font-size=\"10.00\" fill=\"#000000\">conv_3.1.weight</text>\n<text text-anchor=\"middle\" x=\"2232.5\" y=\"-1691\" font-family=\"monospace\" font-size=\"10.00\" fill=\"#000000\"> (256)</text>\n</g>\n<!-- 139898243769440&#45;&gt;139898154067216 -->\n<g id=\"edge150\" class=\"edge\">\n<title>139898243769440&#45;&gt;139898154067216</title>\n<path fill=\"none\" stroke=\"#000000\" d=\"M2232.5,-1683.7333C2232.5,-1676.0322 2232.5,-1666.5977 2232.5,-1658.3414\"/>\n<polygon fill=\"#000000\" stroke=\"#000000\" points=\"2236.0001,-1658.0864 2232.5,-1648.0864 2229.0001,-1658.0864 2236.0001,-1658.0864\"/>\n</g>\n<!-- 139898154066832 -->\n<g id=\"node152\" class=\"node\">\n<title>139898154066832</title>\n<polygon fill=\"#d3d3d3\" stroke=\"#000000\" points=\"2402,-1648 2301,-1648 2301,-1629 2402,-1629 2402,-1648\"/>\n<text text-anchor=\"middle\" x=\"2351.5\" y=\"-1636\" font-family=\"monospace\" font-size=\"10.00\" fill=\"#000000\">AccumulateGrad</text>\n</g>\n<!-- 139898154066832&#45;&gt;139898154066896 -->\n<g id=\"edge151\" class=\"edge\">\n<title>139898154066832&#45;&gt;139898154066896</title>\n<path fill=\"none\" stroke=\"#000000\" d=\"M2330.7718,-1628.9197C2311.9465,-1620.219 2283.9495,-1607.2792 2262.6487,-1597.4343\"/>\n<polygon fill=\"#000000\" stroke=\"#000000\" points=\"2263.9357,-1594.1734 2253.39,-1593.155 2260.9989,-1600.5276 2263.9357,-1594.1734\"/>\n</g>\n<!-- 139898243769040 -->\n<g id=\"node153\" class=\"node\">\n<title>139898243769040</title>\n<polygon fill=\"#add8e6\" stroke=\"#000000\" points=\"2399,-1714 2304,-1714 2304,-1684 2399,-1684 2399,-1714\"/>\n<text text-anchor=\"middle\" x=\"2351.5\" y=\"-1702\" font-family=\"monospace\" font-size=\"10.00\" fill=\"#000000\">conv_3.1.bias</text>\n<text text-anchor=\"middle\" x=\"2351.5\" y=\"-1691\" font-family=\"monospace\" font-size=\"10.00\" fill=\"#000000\"> (256)</text>\n</g>\n<!-- 139898243769040&#45;&gt;139898154066832 -->\n<g id=\"edge152\" class=\"edge\">\n<title>139898243769040&#45;&gt;139898154066832</title>\n<path fill=\"none\" stroke=\"#000000\" d=\"M2351.5,-1683.7333C2351.5,-1676.0322 2351.5,-1666.5977 2351.5,-1658.3414\"/>\n<polygon fill=\"#000000\" stroke=\"#000000\" points=\"2355.0001,-1658.0864 2351.5,-1648.0864 2348.0001,-1658.0864 2355.0001,-1658.0864\"/>\n</g>\n<!-- 139898154066768 -->\n<g id=\"node154\" class=\"node\">\n<title>139898154066768</title>\n<polygon fill=\"#d3d3d3\" stroke=\"#000000\" points=\"2444,-1472 2343,-1472 2343,-1453 2444,-1453 2444,-1472\"/>\n<text text-anchor=\"middle\" x=\"2393.5\" y=\"-1460\" font-family=\"monospace\" font-size=\"10.00\" fill=\"#000000\">AccumulateGrad</text>\n</g>\n<!-- 139898154066768&#45;&gt;139898154066384 -->\n<g id=\"edge153\" class=\"edge\">\n<title>139898154066768&#45;&gt;139898154066384</title>\n<path fill=\"none\" stroke=\"#000000\" d=\"M2392.054,-1452.7796C2390.8149,-1444.4499 2388.9908,-1432.188 2387.4455,-1421.8004\"/>\n<polygon fill=\"#000000\" stroke=\"#000000\" points=\"2390.9057,-1421.2734 2385.9723,-1411.8972 2383.9819,-1422.3034 2390.9057,-1421.2734\"/>\n</g>\n<!-- 139898243758432 -->\n<g id=\"node155\" class=\"node\">\n<title>139898243758432</title>\n<polygon fill=\"#add8e6\" stroke=\"#000000\" points=\"2453,-1538 2334,-1538 2334,-1508 2453,-1508 2453,-1538\"/>\n<text text-anchor=\"middle\" x=\"2393.5\" y=\"-1526\" font-family=\"monospace\" font-size=\"10.00\" fill=\"#000000\">conv_4.0.weight</text>\n<text text-anchor=\"middle\" x=\"2393.5\" y=\"-1515\" font-family=\"monospace\" font-size=\"10.00\" fill=\"#000000\"> (512, 256, 3, 3)</text>\n</g>\n<!-- 139898243758432&#45;&gt;139898154066768 -->\n<g id=\"edge154\" class=\"edge\">\n<title>139898243758432&#45;&gt;139898154066768</title>\n<path fill=\"none\" stroke=\"#000000\" d=\"M2393.5,-1507.7333C2393.5,-1500.0322 2393.5,-1490.5977 2393.5,-1482.3414\"/>\n<polygon fill=\"#000000\" stroke=\"#000000\" points=\"2397.0001,-1482.0864 2393.5,-1472.0864 2390.0001,-1482.0864 2397.0001,-1482.0864\"/>\n</g>\n<!-- 139898154066640 -->\n<g id=\"node156\" class=\"node\">\n<title>139898154066640</title>\n<polygon fill=\"#d3d3d3\" stroke=\"#000000\" points=\"2572,-1411.5 2483,-1411.5 2483,-1392.5 2572,-1392.5 2572,-1411.5\"/>\n<text text-anchor=\"middle\" x=\"2527.5\" y=\"-1399.5\" font-family=\"monospace\" font-size=\"10.00\" fill=\"#000000\">ViewBackward</text>\n</g>\n<!-- 139898154066640&#45;&gt;139898154066192 -->\n<g id=\"edge155\" class=\"edge\">\n<title>139898154066640&#45;&gt;139898154066192</title>\n<path fill=\"none\" stroke=\"#000000\" d=\"M2527.5,-1392.2796C2527.5,-1384.0376 2527.5,-1371.9457 2527.5,-1361.629\"/>\n<polygon fill=\"#000000\" stroke=\"#000000\" points=\"2531.0001,-1361.3972 2527.5,-1351.3972 2524.0001,-1361.3973 2531.0001,-1361.3972\"/>\n</g>\n<!-- 139898154066704 -->\n<g id=\"node157\" class=\"node\">\n<title>139898154066704</title>\n<polygon fill=\"#d3d3d3\" stroke=\"#000000\" points=\"2578,-1472 2477,-1472 2477,-1453 2578,-1453 2578,-1472\"/>\n<text text-anchor=\"middle\" x=\"2527.5\" y=\"-1460\" font-family=\"monospace\" font-size=\"10.00\" fill=\"#000000\">AccumulateGrad</text>\n</g>\n<!-- 139898154066704&#45;&gt;139898154066640 -->\n<g id=\"edge156\" class=\"edge\">\n<title>139898154066704&#45;&gt;139898154066640</title>\n<path fill=\"none\" stroke=\"#000000\" d=\"M2527.5,-1452.7796C2527.5,-1444.5376 2527.5,-1432.4457 2527.5,-1422.129\"/>\n<polygon fill=\"#000000\" stroke=\"#000000\" points=\"2531.0001,-1421.8972 2527.5,-1411.8972 2524.0001,-1421.8973 2531.0001,-1421.8972\"/>\n</g>\n<!-- 139898243757712 -->\n<g id=\"node158\" class=\"node\">\n<title>139898243757712</title>\n<polygon fill=\"#add8e6\" stroke=\"#000000\" points=\"2575,-1538 2480,-1538 2480,-1508 2575,-1508 2575,-1538\"/>\n<text text-anchor=\"middle\" x=\"2527.5\" y=\"-1526\" font-family=\"monospace\" font-size=\"10.00\" fill=\"#000000\">conv_4.0.bias</text>\n<text text-anchor=\"middle\" x=\"2527.5\" y=\"-1515\" font-family=\"monospace\" font-size=\"10.00\" fill=\"#000000\"> (512)</text>\n</g>\n<!-- 139898243757712&#45;&gt;139898154066704 -->\n<g id=\"edge157\" class=\"edge\">\n<title>139898243757712&#45;&gt;139898154066704</title>\n<path fill=\"none\" stroke=\"#000000\" d=\"M2527.5,-1507.7333C2527.5,-1500.0322 2527.5,-1490.5977 2527.5,-1482.3414\"/>\n<polygon fill=\"#000000\" stroke=\"#000000\" points=\"2531.0001,-1482.0864 2527.5,-1472.0864 2524.0001,-1482.0864 2531.0001,-1482.0864\"/>\n</g>\n<!-- 139898154066320 -->\n<g id=\"node159\" class=\"node\">\n<title>139898154066320</title>\n<polygon fill=\"#d3d3d3\" stroke=\"#000000\" points=\"2694,-1351 2593,-1351 2593,-1332 2694,-1332 2694,-1351\"/>\n<text text-anchor=\"middle\" x=\"2643.5\" y=\"-1339\" font-family=\"monospace\" font-size=\"10.00\" fill=\"#000000\">AccumulateGrad</text>\n</g>\n<!-- 139898154066320&#45;&gt;139898154066064 -->\n<g id=\"edge158\" class=\"edge\">\n<title>139898154066320&#45;&gt;139898154066064</title>\n<path fill=\"none\" stroke=\"#000000\" d=\"M2643.5,-1331.9197C2643.5,-1324.9083 2643.5,-1315.1442 2643.5,-1306.4652\"/>\n<polygon fill=\"#000000\" stroke=\"#000000\" points=\"2647.0001,-1306.3408 2643.5,-1296.3408 2640.0001,-1306.3409 2647.0001,-1306.3408\"/>\n</g>\n<!-- 139898243756912 -->\n<g id=\"node160\" class=\"node\">\n<title>139898243756912</title>\n<polygon fill=\"#add8e6\" stroke=\"#000000\" points=\"2697,-1417 2590,-1417 2590,-1387 2697,-1387 2697,-1417\"/>\n<text text-anchor=\"middle\" x=\"2643.5\" y=\"-1405\" font-family=\"monospace\" font-size=\"10.00\" fill=\"#000000\">conv_4.1.weight</text>\n<text text-anchor=\"middle\" x=\"2643.5\" y=\"-1394\" font-family=\"monospace\" font-size=\"10.00\" fill=\"#000000\"> (512)</text>\n</g>\n<!-- 139898243756912&#45;&gt;139898154066320 -->\n<g id=\"edge159\" class=\"edge\">\n<title>139898243756912&#45;&gt;139898154066320</title>\n<path fill=\"none\" stroke=\"#000000\" d=\"M2643.5,-1386.7333C2643.5,-1379.0322 2643.5,-1369.5977 2643.5,-1361.3414\"/>\n<polygon fill=\"#000000\" stroke=\"#000000\" points=\"2647.0001,-1361.0864 2643.5,-1351.0864 2640.0001,-1361.0864 2647.0001,-1361.0864\"/>\n</g>\n<!-- 139898154066000 -->\n<g id=\"node161\" class=\"node\">\n<title>139898154066000</title>\n<polygon fill=\"#d3d3d3\" stroke=\"#000000\" points=\"2813,-1351 2712,-1351 2712,-1332 2813,-1332 2813,-1351\"/>\n<text text-anchor=\"middle\" x=\"2762.5\" y=\"-1339\" font-family=\"monospace\" font-size=\"10.00\" fill=\"#000000\">AccumulateGrad</text>\n</g>\n<!-- 139898154066000&#45;&gt;139898154066064 -->\n<g id=\"edge160\" class=\"edge\">\n<title>139898154066000&#45;&gt;139898154066064</title>\n<path fill=\"none\" stroke=\"#000000\" d=\"M2741.7718,-1331.9197C2722.9465,-1323.219 2694.9495,-1310.2792 2673.6487,-1300.4343\"/>\n<polygon fill=\"#000000\" stroke=\"#000000\" points=\"2674.9357,-1297.1734 2664.39,-1296.155 2671.9989,-1303.5276 2674.9357,-1297.1734\"/>\n</g>\n<!-- 139898243756112 -->\n<g id=\"node162\" class=\"node\">\n<title>139898243756112</title>\n<polygon fill=\"#add8e6\" stroke=\"#000000\" points=\"2810,-1417 2715,-1417 2715,-1387 2810,-1387 2810,-1417\"/>\n<text text-anchor=\"middle\" x=\"2762.5\" y=\"-1405\" font-family=\"monospace\" font-size=\"10.00\" fill=\"#000000\">conv_4.1.bias</text>\n<text text-anchor=\"middle\" x=\"2762.5\" y=\"-1394\" font-family=\"monospace\" font-size=\"10.00\" fill=\"#000000\"> (512)</text>\n</g>\n<!-- 139898243756112&#45;&gt;139898154066000 -->\n<g id=\"edge161\" class=\"edge\">\n<title>139898243756112&#45;&gt;139898154066000</title>\n<path fill=\"none\" stroke=\"#000000\" d=\"M2762.5,-1386.7333C2762.5,-1379.0322 2762.5,-1369.5977 2762.5,-1361.3414\"/>\n<polygon fill=\"#000000\" stroke=\"#000000\" points=\"2766.0001,-1361.0864 2762.5,-1351.0864 2759.0001,-1361.0864 2766.0001,-1361.0864\"/>\n</g>\n<!-- 139898154548944 -->\n<g id=\"node163\" class=\"node\">\n<title>139898154548944</title>\n<polygon fill=\"#d3d3d3\" stroke=\"#000000\" points=\"2855,-1175 2754,-1175 2754,-1156 2855,-1156 2855,-1175\"/>\n<text text-anchor=\"middle\" x=\"2804.5\" y=\"-1163\" font-family=\"monospace\" font-size=\"10.00\" fill=\"#000000\">AccumulateGrad</text>\n</g>\n<!-- 139898154548944&#45;&gt;139898154548816 -->\n<g id=\"edge162\" class=\"edge\">\n<title>139898154548944&#45;&gt;139898154548816</title>\n<path fill=\"none\" stroke=\"#000000\" d=\"M2799.5193,-1155.7796C2795.1164,-1147.1869 2788.5694,-1134.4097 2783.1444,-1123.8221\"/>\n<polygon fill=\"#000000\" stroke=\"#000000\" points=\"2786.2464,-1122.2009 2778.5713,-1114.8972 2780.0166,-1125.393 2786.2464,-1122.2009\"/>\n</g>\n<!-- 139898291708544 -->\n<g id=\"node164\" class=\"node\">\n<title>139898291708544</title>\n<polygon fill=\"#add8e6\" stroke=\"#000000\" points=\"2862,-1241 2743,-1241 2743,-1211 2862,-1211 2862,-1241\"/>\n<text text-anchor=\"middle\" x=\"2802.5\" y=\"-1229\" font-family=\"monospace\" font-size=\"10.00\" fill=\"#000000\">res2.0.0.weight</text>\n<text text-anchor=\"middle\" x=\"2802.5\" y=\"-1218\" font-family=\"monospace\" font-size=\"10.00\" fill=\"#000000\"> (512, 512, 3, 3)</text>\n</g>\n<!-- 139898291708544&#45;&gt;139898154548944 -->\n<g id=\"edge163\" class=\"edge\">\n<title>139898291708544&#45;&gt;139898154548944</title>\n<path fill=\"none\" stroke=\"#000000\" d=\"M2803.0047,-1210.7333C2803.2593,-1203.0322 2803.5712,-1193.5977 2803.8441,-1185.3414\"/>\n<polygon fill=\"#000000\" stroke=\"#000000\" points=\"2807.3507,-1185.1966 2804.1831,-1175.0864 2800.3545,-1184.9653 2807.3507,-1185.1966\"/>\n</g>\n<!-- 139898154549072 -->\n<g id=\"node165\" class=\"node\">\n<title>139898154549072</title>\n<polygon fill=\"#d3d3d3\" stroke=\"#000000\" points=\"2961,-1114.5 2872,-1114.5 2872,-1095.5 2961,-1095.5 2961,-1114.5\"/>\n<text text-anchor=\"middle\" x=\"2916.5\" y=\"-1102.5\" font-family=\"monospace\" font-size=\"10.00\" fill=\"#000000\">ViewBackward</text>\n</g>\n<!-- 139898154549072&#45;&gt;139898154548624 -->\n<g id=\"edge164\" class=\"edge\">\n<title>139898154549072&#45;&gt;139898154548624</title>\n<path fill=\"none\" stroke=\"#000000\" d=\"M2916.5,-1095.2796C2916.5,-1087.0376 2916.5,-1074.9457 2916.5,-1064.629\"/>\n<polygon fill=\"#000000\" stroke=\"#000000\" points=\"2920.0001,-1064.3972 2916.5,-1054.3972 2913.0001,-1064.3973 2920.0001,-1064.3972\"/>\n</g>\n<!-- 139898154549200 -->\n<g id=\"node166\" class=\"node\">\n<title>139898154549200</title>\n<polygon fill=\"#d3d3d3\" stroke=\"#000000\" points=\"2977,-1175 2876,-1175 2876,-1156 2977,-1156 2977,-1175\"/>\n<text text-anchor=\"middle\" x=\"2926.5\" y=\"-1163\" font-family=\"monospace\" font-size=\"10.00\" fill=\"#000000\">AccumulateGrad</text>\n</g>\n<!-- 139898154549200&#45;&gt;139898154549072 -->\n<g id=\"edge165\" class=\"edge\">\n<title>139898154549200&#45;&gt;139898154549072</title>\n<path fill=\"none\" stroke=\"#000000\" d=\"M2924.8933,-1155.7796C2923.5165,-1147.4499 2921.4898,-1135.188 2919.7728,-1124.8004\"/>\n<polygon fill=\"#000000\" stroke=\"#000000\" points=\"2923.2199,-1124.1926 2918.1359,-1114.8972 2916.3136,-1125.3342 2923.2199,-1124.1926\"/>\n</g>\n<!-- 139898291709344 -->\n<g id=\"node167\" class=\"node\">\n<title>139898291709344</title>\n<polygon fill=\"#add8e6\" stroke=\"#000000\" points=\"2975,-1241 2880,-1241 2880,-1211 2975,-1211 2975,-1241\"/>\n<text text-anchor=\"middle\" x=\"2927.5\" y=\"-1229\" font-family=\"monospace\" font-size=\"10.00\" fill=\"#000000\">res2.0.0.bias</text>\n<text text-anchor=\"middle\" x=\"2927.5\" y=\"-1218\" font-family=\"monospace\" font-size=\"10.00\" fill=\"#000000\"> (512)</text>\n</g>\n<!-- 139898291709344&#45;&gt;139898154549200 -->\n<g id=\"edge166\" class=\"edge\">\n<title>139898291709344&#45;&gt;139898154549200</title>\n<path fill=\"none\" stroke=\"#000000\" d=\"M2927.2477,-1210.7333C2927.1204,-1203.0322 2926.9644,-1193.5977 2926.828,-1185.3414\"/>\n<polygon fill=\"#000000\" stroke=\"#000000\" points=\"2930.3233,-1185.0272 2926.6585,-1175.0864 2923.3243,-1185.1429 2930.3233,-1185.0272\"/>\n</g>\n<!-- 139898154548752 -->\n<g id=\"node168\" class=\"node\">\n<title>139898154548752</title>\n<polygon fill=\"#d3d3d3\" stroke=\"#000000\" points=\"3081,-1054 2980,-1054 2980,-1035 3081,-1035 3081,-1054\"/>\n<text text-anchor=\"middle\" x=\"3030.5\" y=\"-1042\" font-family=\"monospace\" font-size=\"10.00\" fill=\"#000000\">AccumulateGrad</text>\n</g>\n<!-- 139898154548752&#45;&gt;139898154548112 -->\n<g id=\"edge167\" class=\"edge\">\n<title>139898154548752&#45;&gt;139898154548112</title>\n<path fill=\"none\" stroke=\"#000000\" d=\"M3021.1813,-1034.7796C3012.5234,-1025.7485 2999.434,-1012.095 2989.0079,-1001.2195\"/>\n<polygon fill=\"#000000\" stroke=\"#000000\" points=\"2991.4352,-998.6938 2981.9883,-993.8972 2986.3821,-1003.538 2991.4352,-998.6938\"/>\n</g>\n<!-- 139898291680912 -->\n<g id=\"node169\" class=\"node\">\n<title>139898291680912</title>\n<polygon fill=\"#add8e6\" stroke=\"#000000\" points=\"3086,-1120 2979,-1120 2979,-1090 3086,-1090 3086,-1120\"/>\n<text text-anchor=\"middle\" x=\"3032.5\" y=\"-1108\" font-family=\"monospace\" font-size=\"10.00\" fill=\"#000000\">res2.0.1.weight</text>\n<text text-anchor=\"middle\" x=\"3032.5\" y=\"-1097\" font-family=\"monospace\" font-size=\"10.00\" fill=\"#000000\"> (512)</text>\n</g>\n<!-- 139898291680912&#45;&gt;139898154548752 -->\n<g id=\"edge168\" class=\"edge\">\n<title>139898291680912&#45;&gt;139898154548752</title>\n<path fill=\"none\" stroke=\"#000000\" d=\"M3031.9953,-1089.7333C3031.7407,-1082.0322 3031.4288,-1072.5977 3031.1559,-1064.3414\"/>\n<polygon fill=\"#000000\" stroke=\"#000000\" points=\"3034.6455,-1063.9653 3030.8169,-1054.0864 3027.6493,-1064.1966 3034.6455,-1063.9653\"/>\n</g>\n<!-- 139898154548496 -->\n<g id=\"node170\" class=\"node\">\n<title>139898154548496</title>\n<polygon fill=\"#d3d3d3\" stroke=\"#000000\" points=\"3201,-1054 3100,-1054 3100,-1035 3201,-1035 3201,-1054\"/>\n<text text-anchor=\"middle\" x=\"3150.5\" y=\"-1042\" font-family=\"monospace\" font-size=\"10.00\" fill=\"#000000\">AccumulateGrad</text>\n</g>\n<!-- 139898154548496&#45;&gt;139898154548112 -->\n<g id=\"edge169\" class=\"edge\">\n<title>139898154548496&#45;&gt;139898154548112</title>\n<path fill=\"none\" stroke=\"#000000\" d=\"M3122.2954,-1034.9136C3092.09,-1024.6472 3043.9886,-1008.2981 3010.4707,-996.9058\"/>\n<polygon fill=\"#000000\" stroke=\"#000000\" points=\"3011.1671,-993.4459 3000.5727,-993.5416 3008.9144,-1000.0735 3011.1671,-993.4459\"/>\n</g>\n<!-- 139898291682912 -->\n<g id=\"node171\" class=\"node\">\n<title>139898291682912</title>\n<polygon fill=\"#add8e6\" stroke=\"#000000\" points=\"3199,-1120 3104,-1120 3104,-1090 3199,-1090 3199,-1120\"/>\n<text text-anchor=\"middle\" x=\"3151.5\" y=\"-1108\" font-family=\"monospace\" font-size=\"10.00\" fill=\"#000000\">res2.0.1.bias</text>\n<text text-anchor=\"middle\" x=\"3151.5\" y=\"-1097\" font-family=\"monospace\" font-size=\"10.00\" fill=\"#000000\"> (512)</text>\n</g>\n<!-- 139898291682912&#45;&gt;139898154548496 -->\n<g id=\"edge170\" class=\"edge\">\n<title>139898291682912&#45;&gt;139898154548496</title>\n<path fill=\"none\" stroke=\"#000000\" d=\"M3151.2477,-1089.7333C3151.1204,-1082.0322 3150.9644,-1072.5977 3150.828,-1064.3414\"/>\n<polygon fill=\"#000000\" stroke=\"#000000\" points=\"3154.3233,-1064.0272 3150.6585,-1054.0864 3147.3243,-1064.1429 3154.3233,-1064.0272\"/>\n</g>\n<!-- 139898154548432 -->\n<g id=\"node172\" class=\"node\">\n<title>139898154548432</title>\n<polygon fill=\"#d3d3d3\" stroke=\"#000000\" points=\"3163,-933 3062,-933 3062,-914 3163,-914 3163,-933\"/>\n<text text-anchor=\"middle\" x=\"3112.5\" y=\"-921\" font-family=\"monospace\" font-size=\"10.00\" fill=\"#000000\">AccumulateGrad</text>\n</g>\n<!-- 139898154548432&#45;&gt;139898154548048 -->\n<g id=\"edge171\" class=\"edge\">\n<title>139898154548432&#45;&gt;139898154548048</title>\n<path fill=\"none\" stroke=\"#000000\" d=\"M3100.7713,-913.7796C3089.6626,-904.5731 3072.7578,-890.563 3059.5167,-879.5892\"/>\n<polygon fill=\"#000000\" stroke=\"#000000\" points=\"3061.375,-876.5835 3051.4421,-872.8972 3056.9082,-881.9732 3061.375,-876.5835\"/>\n</g>\n<!-- 139898277164128 -->\n<g id=\"node173\" class=\"node\">\n<title>139898277164128</title>\n<polygon fill=\"#add8e6\" stroke=\"#000000\" points=\"3184,-999 3065,-999 3065,-969 3184,-969 3184,-999\"/>\n<text text-anchor=\"middle\" x=\"3124.5\" y=\"-987\" font-family=\"monospace\" font-size=\"10.00\" fill=\"#000000\">res2.1.0.weight</text>\n<text text-anchor=\"middle\" x=\"3124.5\" y=\"-976\" font-family=\"monospace\" font-size=\"10.00\" fill=\"#000000\"> (512, 512, 3, 3)</text>\n</g>\n<!-- 139898277164128&#45;&gt;139898154548432 -->\n<g id=\"edge172\" class=\"edge\">\n<title>139898277164128&#45;&gt;139898154548432</title>\n<path fill=\"none\" stroke=\"#000000\" d=\"M3121.4719,-968.7333C3119.927,-960.9447 3118.0305,-951.3831 3116.3797,-943.0604\"/>\n<polygon fill=\"#000000\" stroke=\"#000000\" points=\"3119.7802,-942.2143 3114.4014,-933.0864 3112.914,-943.5763 3119.7802,-942.2143\"/>\n</g>\n<!-- 139898154548304 -->\n<g id=\"node174\" class=\"node\">\n<title>139898154548304</title>\n<polygon fill=\"#d3d3d3\" stroke=\"#000000\" points=\"3227,-872.5 3138,-872.5 3138,-853.5 3227,-853.5 3227,-872.5\"/>\n<text text-anchor=\"middle\" x=\"3182.5\" y=\"-860.5\" font-family=\"monospace\" font-size=\"10.00\" fill=\"#000000\">ViewBackward</text>\n</g>\n<!-- 139898154548304&#45;&gt;139898154547856 -->\n<g id=\"edge173\" class=\"edge\">\n<title>139898154548304&#45;&gt;139898154547856</title>\n<path fill=\"none\" stroke=\"#000000\" d=\"M3182.5,-853.2796C3182.5,-845.0376 3182.5,-832.9457 3182.5,-822.629\"/>\n<polygon fill=\"#000000\" stroke=\"#000000\" points=\"3186.0001,-822.3972 3182.5,-812.3972 3179.0001,-822.3973 3186.0001,-822.3972\"/>\n</g>\n<!-- 139898154548368 -->\n<g id=\"node175\" class=\"node\">\n<title>139898154548368</title>\n<polygon fill=\"#d3d3d3\" stroke=\"#000000\" points=\"3294,-933 3193,-933 3193,-914 3294,-914 3294,-933\"/>\n<text text-anchor=\"middle\" x=\"3243.5\" y=\"-921\" font-family=\"monospace\" font-size=\"10.00\" fill=\"#000000\">AccumulateGrad</text>\n</g>\n<!-- 139898154548368&#45;&gt;139898154548304 -->\n<g id=\"edge174\" class=\"edge\">\n<title>139898154548368&#45;&gt;139898154548304</title>\n<path fill=\"none\" stroke=\"#000000\" d=\"M3233.6993,-913.7796C3224.5935,-904.7485 3210.8272,-891.095 3199.8618,-880.2195\"/>\n<polygon fill=\"#000000\" stroke=\"#000000\" points=\"3202.0438,-877.4541 3192.479,-872.8972 3197.1145,-882.4242 3202.0438,-877.4541\"/>\n</g>\n<!-- 139898243879632 -->\n<g id=\"node176\" class=\"node\">\n<title>139898243879632</title>\n<polygon fill=\"#add8e6\" stroke=\"#000000\" points=\"3297,-999 3202,-999 3202,-969 3297,-969 3297,-999\"/>\n<text text-anchor=\"middle\" x=\"3249.5\" y=\"-987\" font-family=\"monospace\" font-size=\"10.00\" fill=\"#000000\">res2.1.0.bias</text>\n<text text-anchor=\"middle\" x=\"3249.5\" y=\"-976\" font-family=\"monospace\" font-size=\"10.00\" fill=\"#000000\"> (512)</text>\n</g>\n<!-- 139898243879632&#45;&gt;139898154548368 -->\n<g id=\"edge175\" class=\"edge\">\n<title>139898243879632&#45;&gt;139898154548368</title>\n<path fill=\"none\" stroke=\"#000000\" d=\"M3247.9859,-968.7333C3247.2135,-960.9447 3246.2653,-951.3831 3245.4399,-943.0604\"/>\n<polygon fill=\"#000000\" stroke=\"#000000\" points=\"3248.9206,-942.6921 3244.4507,-933.0864 3241.9548,-943.383 3248.9206,-942.6921\"/>\n</g>\n<!-- 139898154547984 -->\n<g id=\"node177\" class=\"node\">\n<title>139898154547984</title>\n<polygon fill=\"#d3d3d3\" stroke=\"#000000\" points=\"3347,-812 3246,-812 3246,-793 3347,-793 3347,-812\"/>\n<text text-anchor=\"middle\" x=\"3296.5\" y=\"-800\" font-family=\"monospace\" font-size=\"10.00\" fill=\"#000000\">AccumulateGrad</text>\n</g>\n<!-- 139898154547984&#45;&gt;139898154547600 -->\n<g id=\"edge176\" class=\"edge\">\n<title>139898154547984&#45;&gt;139898154547600</title>\n<path fill=\"none\" stroke=\"#000000\" d=\"M3286.3972,-792.9197C3278.0996,-785.0514 3266.1463,-773.7164 3256.2569,-764.3385\"/>\n<polygon fill=\"#000000\" stroke=\"#000000\" points=\"3258.5422,-761.6821 3248.8776,-757.3408 3253.7255,-766.7615 3258.5422,-761.6821\"/>\n</g>\n<!-- 139898243882192 -->\n<g id=\"node178\" class=\"node\">\n<title>139898243882192</title>\n<polygon fill=\"#add8e6\" stroke=\"#000000\" points=\"3352,-878 3245,-878 3245,-848 3352,-848 3352,-878\"/>\n<text text-anchor=\"middle\" x=\"3298.5\" y=\"-866\" font-family=\"monospace\" font-size=\"10.00\" fill=\"#000000\">res2.1.1.weight</text>\n<text text-anchor=\"middle\" x=\"3298.5\" y=\"-855\" font-family=\"monospace\" font-size=\"10.00\" fill=\"#000000\"> (512)</text>\n</g>\n<!-- 139898243882192&#45;&gt;139898154547984 -->\n<g id=\"edge177\" class=\"edge\">\n<title>139898243882192&#45;&gt;139898154547984</title>\n<path fill=\"none\" stroke=\"#000000\" d=\"M3297.9953,-847.7333C3297.7407,-840.0322 3297.4288,-830.5977 3297.1559,-822.3414\"/>\n<polygon fill=\"#000000\" stroke=\"#000000\" points=\"3300.6455,-821.9653 3296.8169,-812.0864 3293.6493,-822.1966 3300.6455,-821.9653\"/>\n</g>\n<!-- 139898154547344 -->\n<g id=\"node179\" class=\"node\">\n<title>139898154547344</title>\n<polygon fill=\"#d3d3d3\" stroke=\"#000000\" points=\"3467,-812 3366,-812 3366,-793 3467,-793 3467,-812\"/>\n<text text-anchor=\"middle\" x=\"3416.5\" y=\"-800\" font-family=\"monospace\" font-size=\"10.00\" fill=\"#000000\">AccumulateGrad</text>\n</g>\n<!-- 139898154547344&#45;&gt;139898154547600 -->\n<g id=\"edge178\" class=\"edge\">\n<title>139898154547344&#45;&gt;139898154547600</title>\n<path fill=\"none\" stroke=\"#000000\" d=\"M3385.4948,-792.9197C3355.9772,-783.7991 3311.3849,-770.0206 3279.0569,-760.0316\"/>\n<polygon fill=\"#000000\" stroke=\"#000000\" points=\"3280.0356,-756.6708 3269.448,-757.0626 3277.9691,-763.3588 3280.0356,-756.6708\"/>\n</g>\n<!-- 139898243881952 -->\n<g id=\"node180\" class=\"node\">\n<title>139898243881952</title>\n<polygon fill=\"#add8e6\" stroke=\"#000000\" points=\"3465,-878 3370,-878 3370,-848 3465,-848 3465,-878\"/>\n<text text-anchor=\"middle\" x=\"3417.5\" y=\"-866\" font-family=\"monospace\" font-size=\"10.00\" fill=\"#000000\">res2.1.1.bias</text>\n<text text-anchor=\"middle\" x=\"3417.5\" y=\"-855\" font-family=\"monospace\" font-size=\"10.00\" fill=\"#000000\"> (512)</text>\n</g>\n<!-- 139898243881952&#45;&gt;139898154547344 -->\n<g id=\"edge179\" class=\"edge\">\n<title>139898243881952&#45;&gt;139898154547344</title>\n<path fill=\"none\" stroke=\"#000000\" d=\"M3417.2477,-847.7333C3417.1204,-840.0322 3416.9644,-830.5977 3416.828,-822.3414\"/>\n<polygon fill=\"#000000\" stroke=\"#000000\" points=\"3420.3233,-822.0272 3416.6585,-812.0864 3413.3243,-822.1429 3420.3233,-822.0272\"/>\n</g>\n<!-- 139898154547088 -->\n<g id=\"node181\" class=\"node\">\n<title>139898154547088</title>\n<polygon fill=\"#d3d3d3\" stroke=\"#000000\" points=\"2844,-454.5 2773,-454.5 2773,-435.5 2844,-435.5 2844,-454.5\"/>\n<text text-anchor=\"middle\" x=\"2808.5\" y=\"-442.5\" font-family=\"monospace\" font-size=\"10.00\" fill=\"#000000\">TBackward</text>\n</g>\n<!-- 139898154547088&#45;&gt;139898154546704 -->\n<g id=\"edge181\" class=\"edge\">\n<title>139898154547088&#45;&gt;139898154546704</title>\n<path fill=\"none\" stroke=\"#000000\" d=\"M2797.1384,-435.2615C2784.8988,-424.7704 2765.2137,-407.8974 2750.5892,-395.3622\"/>\n<polygon fill=\"#000000\" stroke=\"#000000\" points=\"2752.5283,-392.4144 2742.6579,-388.5639 2747.9727,-397.7293 2752.5283,-392.4144\"/>\n</g>\n<!-- 139898154546960 -->\n<g id=\"node182\" class=\"node\">\n<title>139898154546960</title>\n<polygon fill=\"#d3d3d3\" stroke=\"#000000\" points=\"2895,-520.5 2794,-520.5 2794,-501.5 2895,-501.5 2895,-520.5\"/>\n<text text-anchor=\"middle\" x=\"2844.5\" y=\"-508.5\" font-family=\"monospace\" font-size=\"10.00\" fill=\"#000000\">AccumulateGrad</text>\n</g>\n<!-- 139898154546960&#45;&gt;139898154547088 -->\n<g id=\"edge182\" class=\"edge\">\n<title>139898154546960&#45;&gt;139898154547088</title>\n<path fill=\"none\" stroke=\"#000000\" d=\"M2839.1881,-501.2615C2833.8174,-491.4152 2825.3805,-475.9476 2818.7112,-463.7204\"/>\n<polygon fill=\"#000000\" stroke=\"#000000\" points=\"2821.6949,-461.8814 2813.8337,-454.7785 2815.5497,-465.2334 2821.6949,-461.8814\"/>\n</g>\n<!-- 139898291659872 -->\n<g id=\"node183\" class=\"node\">\n<title>139898291659872</title>\n<polygon fill=\"#add8e6\" stroke=\"#000000\" points=\"2907,-592 2806,-592 2806,-562 2907,-562 2907,-592\"/>\n<text text-anchor=\"middle\" x=\"2856.5\" y=\"-580\" font-family=\"monospace\" font-size=\"10.00\" fill=\"#000000\">linear1.weight</text>\n<text text-anchor=\"middle\" x=\"2856.5\" y=\"-569\" font-family=\"monospace\" font-size=\"10.00\" fill=\"#000000\"> (2000, 34816)</text>\n</g>\n<!-- 139898291659872&#45;&gt;139898154546960 -->\n<g id=\"edge183\" class=\"edge\">\n<title>139898291659872&#45;&gt;139898154546960</title>\n<path fill=\"none\" stroke=\"#000000\" d=\"M2853.7168,-561.6924C2852.0467,-552.5067 2849.9044,-540.7245 2848.1057,-530.8312\"/>\n<polygon fill=\"#000000\" stroke=\"#000000\" points=\"2851.4967,-529.9156 2846.2642,-520.7031 2844.6096,-531.1679 2851.4967,-529.9156\"/>\n</g>\n<!-- 139898155576784 -->\n<g id=\"node184\" class=\"node\">\n<title>139898155576784</title>\n<polygon fill=\"#d3d3d3\" stroke=\"#000000\" points=\"2871,-322.5 2800,-322.5 2800,-303.5 2871,-303.5 2871,-322.5\"/>\n<text text-anchor=\"middle\" x=\"2835.5\" y=\"-310.5\" font-family=\"monospace\" font-size=\"10.00\" fill=\"#000000\">TBackward</text>\n</g>\n<!-- 139898155576784&#45;&gt;139898156434512 -->\n<g id=\"edge184\" class=\"edge\">\n<title>139898155576784&#45;&gt;139898156434512</title>\n<path fill=\"none\" stroke=\"#000000\" d=\"M2823.9908,-303.2615C2811.5923,-292.7704 2791.6515,-275.8974 2776.8371,-263.3622\"/>\n<polygon fill=\"#000000\" stroke=\"#000000\" points=\"2778.6975,-260.3515 2768.8028,-256.5639 2774.1759,-265.6952 2778.6975,-260.3515\"/>\n</g>\n<!-- 139898154546832 -->\n<g id=\"node185\" class=\"node\">\n<title>139898154546832</title>\n<polygon fill=\"#d3d3d3\" stroke=\"#000000\" points=\"2941,-388.5 2840,-388.5 2840,-369.5 2941,-369.5 2941,-388.5\"/>\n<text text-anchor=\"middle\" x=\"2890.5\" y=\"-376.5\" font-family=\"monospace\" font-size=\"10.00\" fill=\"#000000\">AccumulateGrad</text>\n</g>\n<!-- 139898154546832&#45;&gt;139898155576784 -->\n<g id=\"edge185\" class=\"edge\">\n<title>139898154546832&#45;&gt;139898155576784</title>\n<path fill=\"none\" stroke=\"#000000\" d=\"M2882.3846,-369.2615C2873.9357,-359.1228 2860.5198,-343.0238 2850.1997,-330.6397\"/>\n<polygon fill=\"#000000\" stroke=\"#000000\" points=\"2852.7394,-328.2201 2843.6487,-322.7785 2847.3618,-332.7014 2852.7394,-328.2201\"/>\n</g>\n<!-- 139898290391712 -->\n<g id=\"node186\" class=\"node\">\n<title>139898290391712</title>\n<polygon fill=\"#add8e6\" stroke=\"#000000\" points=\"2963,-460 2862,-460 2862,-430 2963,-430 2963,-460\"/>\n<text text-anchor=\"middle\" x=\"2912.5\" y=\"-448\" font-family=\"monospace\" font-size=\"10.00\" fill=\"#000000\">linear2.weight</text>\n<text text-anchor=\"middle\" x=\"2912.5\" y=\"-437\" font-family=\"monospace\" font-size=\"10.00\" fill=\"#000000\"> (100, 2000)</text>\n</g>\n<!-- 139898290391712&#45;&gt;139898154546832 -->\n<g id=\"edge186\" class=\"edge\">\n<title>139898290391712&#45;&gt;139898154546832</title>\n<path fill=\"none\" stroke=\"#000000\" d=\"M2907.3975,-429.6924C2904.2697,-420.3092 2900.2388,-408.2165 2896.8985,-398.1956\"/>\n<polygon fill=\"#000000\" stroke=\"#000000\" points=\"2900.2171,-397.0831 2893.7344,-388.7031 2893.5763,-399.2967 2900.2171,-397.0831\"/>\n</g>\n<!-- 139898155100240 -->\n<g id=\"node187\" class=\"node\">\n<title>139898155100240</title>\n<polygon fill=\"#d3d3d3\" stroke=\"#000000\" points=\"2925,-196 2854,-196 2854,-177 2925,-177 2925,-196\"/>\n<text text-anchor=\"middle\" x=\"2889.5\" y=\"-184\" font-family=\"monospace\" font-size=\"10.00\" fill=\"#000000\">TBackward</text>\n</g>\n<!-- 139898155100240&#45;&gt;139898239688144 -->\n<g id=\"edge187\" class=\"edge\">\n<title>139898155100240&#45;&gt;139898239688144</title>\n<path fill=\"none\" stroke=\"#000000\" d=\"M2867.0299,-176.9197C2846.4388,-168.1406 2815.7254,-155.0457 2792.5599,-145.1689\"/>\n<polygon fill=\"#000000\" stroke=\"#000000\" points=\"2793.7169,-141.8575 2783.1454,-141.155 2790.9715,-148.2966 2793.7169,-141.8575\"/>\n</g>\n<!-- 139898155576720 -->\n<g id=\"node188\" class=\"node\">\n<title>139898155576720</title>\n<polygon fill=\"#d3d3d3\" stroke=\"#000000\" points=\"2968,-256.5 2867,-256.5 2867,-237.5 2968,-237.5 2968,-256.5\"/>\n<text text-anchor=\"middle\" x=\"2917.5\" y=\"-244.5\" font-family=\"monospace\" font-size=\"10.00\" fill=\"#000000\">AccumulateGrad</text>\n</g>\n<!-- 139898155576720&#45;&gt;139898155100240 -->\n<g id=\"edge188\" class=\"edge\">\n<title>139898155576720&#45;&gt;139898155100240</title>\n<path fill=\"none\" stroke=\"#000000\" d=\"M2913.0013,-237.2796C2909.0651,-228.7746 2903.2316,-216.17 2898.3614,-205.6469\"/>\n<polygon fill=\"#000000\" stroke=\"#000000\" points=\"2901.457,-204.0024 2894.0805,-196.3972 2895.1044,-206.9425 2901.457,-204.0024\"/>\n</g>\n<!-- 139898243822688 -->\n<g id=\"node189\" class=\"node\">\n<title>139898243822688</title>\n<polygon fill=\"#add8e6\" stroke=\"#000000\" points=\"2990,-328 2889,-328 2889,-298 2990,-298 2990,-328\"/>\n<text text-anchor=\"middle\" x=\"2939.5\" y=\"-316\" font-family=\"monospace\" font-size=\"10.00\" fill=\"#000000\">linear3.weight</text>\n<text text-anchor=\"middle\" x=\"2939.5\" y=\"-305\" font-family=\"monospace\" font-size=\"10.00\" fill=\"#000000\"> (10, 100)</text>\n</g>\n<!-- 139898243822688&#45;&gt;139898155576720 -->\n<g id=\"edge189\" class=\"edge\">\n<title>139898243822688&#45;&gt;139898155576720</title>\n<path fill=\"none\" stroke=\"#000000\" d=\"M2934.3975,-297.6924C2931.2697,-288.3092 2927.2388,-276.2165 2923.8985,-266.1956\"/>\n<polygon fill=\"#000000\" stroke=\"#000000\" points=\"2927.2171,-265.0831 2920.7344,-256.7031 2920.5763,-267.2967 2927.2171,-265.0831\"/>\n</g>\n</g>\n</svg>\n"
          },
          "metadata": {},
          "execution_count": 67
        }
      ]
    }
  ]
}